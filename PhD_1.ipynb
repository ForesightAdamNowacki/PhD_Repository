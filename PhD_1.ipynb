{
 "cells": [
  {
   "cell_type": "markdown",
   "metadata": {},
   "source": [
    "# Libraries & Environment"
   ]
  },
  {
   "cell_type": "code",
   "execution_count": 1,
   "metadata": {
    "ExecuteTime": {
     "end_time": "2020-11-22T14:23:05.516706Z",
     "start_time": "2020-11-22T14:23:02.887734Z"
    }
   },
   "outputs": [],
   "source": [
    "import tensorflow as tf\n",
    "import pandas as pd\n",
    "import numpy as np\n",
    "import cv2\n",
    "import matplotlib.pyplot as plt\n",
    "import seaborn as sns\n",
    "import random\n",
    "\n",
    "from sklearn.model_selection import train_test_split\n",
    "\n",
    "tf.keras.backend.clear_session()"
   ]
  },
  {
   "cell_type": "markdown",
   "metadata": {},
   "source": [
    "# Data import & preparation"
   ]
  },
  {
   "cell_type": "code",
   "execution_count": 2,
   "metadata": {
    "ExecuteTime": {
     "end_time": "2020-11-22T14:23:05.959521Z",
     "start_time": "2020-11-22T14:23:05.517703Z"
    },
    "scrolled": true
   },
   "outputs": [
    {
     "name": "stdout",
     "output_type": "stream",
     "text": [
      "train labels:\n",
      "   index  count  proportion\n",
      "5      0   4748    0.098917\n",
      "0      1   5420    0.112917\n",
      "3      2   4784    0.099667\n",
      "2      3   4912    0.102333\n",
      "8      4   4666    0.097208\n",
      "9      5   4317    0.089938\n",
      "6      6   4741    0.098771\n",
      "1      7   4966    0.103458\n",
      "7      8   4691    0.097729\n",
      "4      9   4755    0.099062\n",
      "\n",
      "\n",
      "val labels:\n",
      "   index  count  proportion\n",
      "6      0   1175    0.097917\n",
      "0      1   1322    0.110167\n",
      "7      2   1174    0.097833\n",
      "2      3   1219    0.101583\n",
      "5      4   1176    0.098000\n",
      "9      5   1104    0.092000\n",
      "4      6   1177    0.098083\n",
      "1      7   1299    0.108250\n",
      "8      8   1160    0.096667\n",
      "3      9   1194    0.099500\n",
      "\n",
      "\n",
      "test labels:\n",
      "   index  count  proportion\n",
      "6      0    980      0.0980\n",
      "0      1   1135      0.1135\n",
      "1      2   1032      0.1032\n",
      "3      3   1010      0.1010\n",
      "5      4    982      0.0982\n",
      "9      5    892      0.0892\n",
      "8      6    958      0.0958\n",
      "2      7   1028      0.1028\n",
      "7      8    974      0.0974\n",
      "4      9   1009      0.1009\n",
      "\n",
      "\n",
      "x train: (48000, 28, 28, 1)\n",
      "y train: (48000, 10)\n",
      "x val: (12000, 28, 28, 1)\n",
      "y val: (12000, 10)\n",
      "x test: (10000, 28, 28, 1)\n",
      "y test: (10000, 10)\n"
     ]
    }
   ],
   "source": [
    "(x_train, y_train), (x_test, y_test) = tf.keras.datasets.mnist.load_data()\n",
    "x_train, x_val, y_train, y_val = train_test_split(x_train, y_train, test_size = 0.2, random_state = 42)\n",
    "\n",
    "x_train = x_train.astype(\"float32\")/255\n",
    "x_val = x_val.astype(\"float32\")/255\n",
    "x_test = x_test.astype(\"float32\")/255\n",
    "\n",
    "x_train = np.expand_dims(x_train, -1)\n",
    "x_val = np.expand_dims(x_val, -1)\n",
    "x_test = np.expand_dims(x_test, -1)\n",
    "\n",
    "print(\"train labels:\")\n",
    "train_df = pd.DataFrame({\"count\" : list(y_train)})[\"count\"].value_counts().reset_index().sort_values(by = \"index\")\n",
    "train_df[\"proportion\"] = train_df[\"count\"]/len(x_train)\n",
    "print(train_df)\n",
    "print(\"\\n\")\n",
    "\n",
    "print(\"val labels:\")\n",
    "val_df = pd.DataFrame({\"count\" : list(y_val)})[\"count\"].value_counts().reset_index().sort_values(by = \"index\")\n",
    "val_df[\"proportion\"] = val_df[\"count\"]/len(x_val)\n",
    "print(val_df)\n",
    "print(\"\\n\")\n",
    "\n",
    "print(\"test labels:\")\n",
    "test_df = pd.DataFrame({\"count\" : list(y_test)})[\"count\"].value_counts().reset_index().sort_values(by = \"index\")\n",
    "test_df[\"proportion\"] = test_df[\"count\"]/len(x_test)\n",
    "print(test_df)\n",
    "print(\"\\n\")\n",
    "\n",
    "y_train = tf.keras.utils.to_categorical(y_train, 10)\n",
    "y_val = tf.keras.utils.to_categorical(y_val, 10)\n",
    "y_test = tf.keras.utils.to_categorical(y_test, 10)\n",
    "\n",
    "print(\"x train:\", x_train.shape)\n",
    "print(\"y train:\", y_train.shape)\n",
    "print(\"x val:\", x_val.shape)\n",
    "print(\"y val:\", y_val.shape)\n",
    "print(\"x test:\", x_test.shape)\n",
    "print(\"y test:\", y_test.shape)"
   ]
  },
  {
   "cell_type": "markdown",
   "metadata": {},
   "source": [
    "# Data Visualisation:"
   ]
  },
  {
   "cell_type": "code",
   "execution_count": 3,
   "metadata": {
    "ExecuteTime": {
     "end_time": "2020-11-22T14:23:06.708546Z",
     "start_time": "2020-11-22T14:23:05.960518Z"
    },
    "scrolled": true
   },
   "outputs": [
    {
     "name": "stdout",
     "output_type": "stream",
     "text": [
      "TRAIN DATA:\n"
     ]
    },
    {
     "data": {
      "image/png": "[encoded data removed]",
      "text/plain": [
       "<Figure size 432x288 with 1 Axes>"
      ]
     },
     "metadata": {
      "needs_background": "light"
     },
     "output_type": "display_data"
    },
    {
     "name": "stdout",
     "output_type": "stream",
     "text": [
      "Image label: 5\n",
      "--------------------------\n"
     ]
    },
    {
     "data": {
      "image/png": "[encoded data removed]",
      "text/plain": [
       "<Figure size 432x288 with 1 Axes>"
      ]
     },
     "metadata": {
      "needs_background": "light"
     },
     "output_type": "display_data"
    },
    {
     "name": "stdout",
     "output_type": "stream",
     "text": [
      "Image label: 0\n",
      "--------------------------\n"
     ]
    },
    {
     "data": {
      "image/png": "[encoded data removed]",
      "text/plain": [
       "<Figure size 432x288 with 1 Axes>"
      ]
     },
     "metadata": {
      "needs_background": "light"
     },
     "output_type": "display_data"
    },
    {
     "name": "stdout",
     "output_type": "stream",
     "text": [
      "Image label: 1\n",
      "--------------------------\n",
      "\n",
      "\n",
      "VALIDATION DATA:\n"
     ]
    },
    {
     "data": {
      "image/png": "[encoded data removed]",
      "text/plain": [
       "<Figure size 432x288 with 1 Axes>"
      ]
     },
     "metadata": {
      "needs_background": "light"
     },
     "output_type": "display_data"
    },
    {
     "name": "stdout",
     "output_type": "stream",
     "text": [
      "Image label: 7\n",
      "--------------------------\n"
     ]
    },
    {
     "data": {
      "image/png": "[encoded data removed]",
      "text/plain": [
       "<Figure size 432x288 with 1 Axes>"
      ]
     },
     "metadata": {
      "needs_background": "light"
     },
     "output_type": "display_data"
    },
    {
     "name": "stdout",
     "output_type": "stream",
     "text": [
      "Image label: 3\n",
      "--------------------------\n"
     ]
    },
    {
     "data": {
      "image/png": "[encoded data removed]",
      "text/plain": [
       "<Figure size 432x288 with 1 Axes>"
      ]
     },
     "metadata": {
      "needs_background": "light"
     },
     "output_type": "display_data"
    },
    {
     "name": "stdout",
     "output_type": "stream",
     "text": [
      "Image label: 8\n",
      "--------------------------\n",
      "\n",
      "\n",
      "TEST DATA:\n"
     ]
    },
    {
     "data": {
      "image/png": "[encoded data removed]",
      "text/plain": [
       "<Figure size 432x288 with 1 Axes>"
      ]
     },
     "metadata": {
      "needs_background": "light"
     },
     "output_type": "display_data"
    },
    {
     "name": "stdout",
     "output_type": "stream",
     "text": [
      "Image label: 7\n",
      "--------------------------\n"
     ]
    },
    {
     "data": {
      "image/png": "[encoded data removed]",
      "text/plain": [
       "<Figure size 432x288 with 1 Axes>"
      ]
     },
     "metadata": {
      "needs_background": "light"
     },
     "output_type": "display_data"
    },
    {
     "name": "stdout",
     "output_type": "stream",
     "text": [
      "Image label: 2\n",
      "--------------------------\n"
     ]
    },
    {
     "data": {
      "image/png": "[encoded data removed]",
      "text/plain": [
       "<Figure size 432x288 with 1 Axes>"
      ]
     },
     "metadata": {
      "needs_background": "light"
     },
     "output_type": "display_data"
    },
    {
     "name": "stdout",
     "output_type": "stream",
     "text": [
      "Image label: 1\n",
      "--------------------------\n"
     ]
    }
   ],
   "source": [
    "print(\"TRAIN DATA:\")\n",
    "for i in np.arange(3):\n",
    "    plt.imshow(x_train[i])\n",
    "    plt.show()\n",
    "    print(\"Image label:\", np.argmax(y_train[i]))\n",
    "    print(\"--------------------------\")\n",
    "    \n",
    "print(\"\\n\")\n",
    "print(\"VALIDATION DATA:\")\n",
    "for i in np.arange(3):\n",
    "    plt.imshow(x_val[i])\n",
    "    plt.show()\n",
    "    print(\"Image label:\", np.argmax(y_val[i]))\n",
    "    print(\"--------------------------\")\n",
    "    \n",
    "print(\"\\n\")\n",
    "print(\"TEST DATA:\")\n",
    "for i in np.arange(3):\n",
    "    plt.imshow(x_test[i])\n",
    "    plt.show()\n",
    "    print(\"Image label:\", np.argmax(y_test[i]))\n",
    "    print(\"--------------------------\")"
   ]
  },
  {
   "cell_type": "markdown",
   "metadata": {},
   "source": [
    "# Models:"
   ]
  },
  {
   "cell_type": "code",
   "execution_count": 4,
   "metadata": {
    "ExecuteTime": {
     "end_time": "2020-11-22T14:23:06.716521Z",
     "start_time": "2020-11-22T14:23:06.709515Z"
    }
   },
   "outputs": [],
   "source": [
    "def build_model_1(image_size, channels, start_neurons, dense_neurons, model_name = \"model_1\"):\n",
    "\n",
    "    tf.keras.backend.clear_session()\n",
    "    \n",
    "    input_tensor = tf.keras.layers.Input(shape = [image_size, image_size, channels])\n",
    "\n",
    "    conv_1 = tf.keras.layers.Conv2D(filters = start_neurons * 1, \n",
    "                                    kernel_size = (3, 3),\n",
    "                                    strides = (1, 1), \n",
    "                                    activation = tf.keras.activations.relu,\n",
    "                                    padding = \"same\")(input_tensor)\n",
    "    conv_2 = tf.keras.layers.Conv2D(filters = start_neurons * 1, \n",
    "                                    kernel_size = (3, 3),\n",
    "                                    strides = (1, 1), \n",
    "                                    activation = tf.keras.activations.relu,\n",
    "                                    padding = \"same\")(conv_1)\n",
    "    pool_1 = tf.keras.layers.MaxPool2D(pool_size = (2, 2),\n",
    "                                       strides = (2, 2))(conv_2)\n",
    "\n",
    "    flatten = tf.keras.layers.Flatten()(pool_1)\n",
    "    dense = tf.keras.layers.Dense(units = dense_neurons, activation = tf.keras.activations.relu)(flatten)\n",
    "    output_tensor = tf.keras.layers.Dense(units = 10, activation = tf.keras.activations.softmax)(dense)\n",
    "\n",
    "    model = tf.keras.models.Model(inputs = input_tensor, \n",
    "                                  outputs = output_tensor, \n",
    "                                  name = model_name)\n",
    "    return model"
   ]
  },
  {
   "cell_type": "code",
   "execution_count": 5,
   "metadata": {
    "ExecuteTime": {
     "end_time": "2020-11-22T14:23:06.729487Z",
     "start_time": "2020-11-22T14:23:06.717494Z"
    }
   },
   "outputs": [],
   "source": [
    "def build_model_2(image_size, channels, start_neurons, dense_neurons, model_name = \"model_2\"):\n",
    "\n",
    "    tf.keras.backend.clear_session()\n",
    "    \n",
    "    input_tensor = tf.keras.layers.Input(shape = [image_size, image_size, channels])\n",
    "\n",
    "    conv_1 = tf.keras.layers.Conv2D(filters = start_neurons * 1, \n",
    "                                    kernel_size = (3, 3),\n",
    "                                    strides = (1, 1), \n",
    "                                    activation = tf.keras.activations.relu,\n",
    "                                    padding = \"same\")(input_tensor)\n",
    "    bn_1 = tf.keras.layers.BatchNormalization()(conv_1)\n",
    "    dropout_1 = tf.keras.layers.Dropout(rate = 0.5)(bn_1)\n",
    "    conv_2 = tf.keras.layers.Conv2D(filters = start_neurons * 1, \n",
    "                                    kernel_size = (3, 3),\n",
    "                                    strides = (1, 1), \n",
    "                                    activation = tf.keras.activations.relu,\n",
    "                                    padding = \"same\")(dropout_1)\n",
    "    bn_2 = tf.keras.layers.BatchNormalization()(conv_2)\n",
    "    dropout_2 = tf.keras.layers.Dropout(rate = 0.5)(bn_2)\n",
    "    pool_1 = tf.keras.layers.MaxPool2D(pool_size = (2, 2),\n",
    "                                       strides = (2, 2))(dropout_2)\n",
    "\n",
    "    flatten = tf.keras.layers.Flatten()(pool_1)\n",
    "    dense = tf.keras.layers.Dense(units = dense_neurons, activation = tf.keras.activations.relu)(flatten)\n",
    "    bn = tf.keras.layers.BatchNormalization()(dense)\n",
    "    dropout = tf.keras.layers.Dropout(rate = 0.5)(bn)\n",
    "    output_tensor = tf.keras.layers.Dense(units = 10, activation = tf.keras.activations.softmax)(dropout)\n",
    "\n",
    "    model = tf.keras.models.Model(inputs = input_tensor, \n",
    "                                  outputs = output_tensor, \n",
    "                                  name = model_name)\n",
    "    return model"
   ]
  },
  {
   "cell_type": "code",
   "execution_count": 6,
   "metadata": {
    "ExecuteTime": {
     "end_time": "2020-11-22T14:23:06.744450Z",
     "start_time": "2020-11-22T14:23:06.730460Z"
    }
   },
   "outputs": [],
   "source": [
    "def build_model_3(image_size, channels, start_neurons, dense_neurons, model_name = \"model_3\"):\n",
    "\n",
    "    tf.keras.backend.clear_session()\n",
    "    \n",
    "    input_tensor = tf.keras.layers.Input(shape = [image_size, image_size, channels])\n",
    "\n",
    "    conv_1 = tf.keras.layers.Conv2D(filters = start_neurons * 1, \n",
    "                                    kernel_size = (3, 3),\n",
    "                                    strides = (1, 1), \n",
    "                                    activation = tf.keras.activations.relu,\n",
    "                                    padding = \"same\")(input_tensor)\n",
    "    bn_1 = tf.keras.layers.BatchNormalization()(conv_1)\n",
    "    dropout_1 = tf.keras.layers.Dropout(rate = 0.5)(bn_1)\n",
    "    conv_2 = tf.keras.layers.Conv2D(filters = start_neurons * 1, \n",
    "                                    kernel_size = (3, 3),\n",
    "                                    strides = (1, 1), \n",
    "                                    activation = tf.keras.activations.relu,\n",
    "                                    padding = \"same\")(dropout_1)\n",
    "    bn_2 = tf.keras.layers.BatchNormalization()(conv_2)\n",
    "    dropout_2 = tf.keras.layers.Dropout(rate = 0.5)(bn_2)\n",
    "    pool_1 = tf.keras.layers.MaxPool2D(pool_size = (2, 2),\n",
    "                                       strides = (2, 2))(dropout_2)\n",
    "\n",
    "    conv_3 = tf.keras.layers.Conv2D(filters = start_neurons * 2, \n",
    "                                    kernel_size = (3, 3),\n",
    "                                    strides = (1, 1), \n",
    "                                    activation = tf.keras.activations.relu,\n",
    "                                    padding = \"same\")(pool_1)\n",
    "    bn_3 = tf.keras.layers.BatchNormalization()(conv_3)\n",
    "    dropout_3 = tf.keras.layers.Dropout(rate = 0.5)(bn_3)\n",
    "    conv_4 = tf.keras.layers.Conv2D(filters = start_neurons * 2, \n",
    "                                    kernel_size = (3, 3),\n",
    "                                    strides = (1, 1), \n",
    "                                    activation = tf.keras.activations.relu,\n",
    "                                    padding = \"same\")(dropout_3)\n",
    "    bn_4 = tf.keras.layers.BatchNormalization()(conv_4)\n",
    "    dropout_4 = tf.keras.layers.Dropout(rate = 0.5)(bn_4)\n",
    "    pool_2 = tf.keras.layers.MaxPool2D(pool_size = (2, 2),\n",
    "                                       strides = (2, 2))(dropout_4)\n",
    "    \n",
    "    flatten = tf.keras.layers.Flatten()(pool_2)\n",
    "    dense = tf.keras.layers.Dense(units = dense_neurons, activation = tf.keras.activations.relu)(flatten)\n",
    "    bn = tf.keras.layers.BatchNormalization()(dense)\n",
    "    dropout = tf.keras.layers.Dropout(rate = 0.5)(bn)\n",
    "    output_tensor = tf.keras.layers.Dense(units = 10, activation = tf.keras.activations.softmax)(dropout)\n",
    "\n",
    "    model = tf.keras.models.Model(inputs = input_tensor, \n",
    "                                  outputs = output_tensor, \n",
    "                                  name = model_name)\n",
    "    return model"
   ]
  },
  {
   "cell_type": "code",
   "execution_count": 7,
   "metadata": {
    "ExecuteTime": {
     "end_time": "2020-11-22T14:23:08.828848Z",
     "start_time": "2020-11-22T14:23:06.745443Z"
    },
    "scrolled": true
   },
   "outputs": [
    {
     "name": "stdout",
     "output_type": "stream",
     "text": [
      "Model: \"model_1\"\n",
      "_________________________________________________________________\n",
      "Layer (type)                 Output Shape              Param #   \n",
      "=================================================================\n",
      "input_1 (InputLayer)         [(None, 28, 28, 1)]       0         \n",
      "_________________________________________________________________\n",
      "conv2d (Conv2D)              (None, 28, 28, 32)        320       \n",
      "_________________________________________________________________\n",
      "conv2d_1 (Conv2D)            (None, 28, 28, 32)        9248      \n",
      "_________________________________________________________________\n",
      "max_pooling2d (MaxPooling2D) (None, 14, 14, 32)        0         \n",
      "_________________________________________________________________\n",
      "flatten (Flatten)            (None, 6272)              0         \n",
      "_________________________________________________________________\n",
      "dense (Dense)                (None, 128)               802944    \n",
      "_________________________________________________________________\n",
      "dense_1 (Dense)              (None, 10)                1290      \n",
      "=================================================================\n",
      "Total params: 813,802\n",
      "Trainable params: 813,802\n",
      "Non-trainable params: 0\n",
      "_________________________________________________________________\n",
      "\n",
      "\n",
      "Model: \"model_2\"\n",
      "_________________________________________________________________\n",
      "Layer (type)                 Output Shape              Param #   \n",
      "=================================================================\n",
      "input_1 (InputLayer)         [(None, 28, 28, 1)]       0         \n",
      "_________________________________________________________________\n",
      "conv2d (Conv2D)              (None, 28, 28, 32)        320       \n",
      "_________________________________________________________________\n",
      "batch_normalization (BatchNo (None, 28, 28, 32)        128       \n",
      "_________________________________________________________________\n",
      "dropout (Dropout)            (None, 28, 28, 32)        0         \n",
      "_________________________________________________________________\n",
      "conv2d_1 (Conv2D)            (None, 28, 28, 32)        9248      \n",
      "_________________________________________________________________\n",
      "batch_normalization_1 (Batch (None, 28, 28, 32)        128       \n",
      "_________________________________________________________________\n",
      "dropout_1 (Dropout)          (None, 28, 28, 32)        0         \n",
      "_________________________________________________________________\n",
      "max_pooling2d (MaxPooling2D) (None, 14, 14, 32)        0         \n",
      "_________________________________________________________________\n",
      "flatten (Flatten)            (None, 6272)              0         \n",
      "_________________________________________________________________\n",
      "dense (Dense)                (None, 128)               802944    \n",
      "_________________________________________________________________\n",
      "batch_normalization_2 (Batch (None, 128)               512       \n",
      "_________________________________________________________________\n",
      "dropout_2 (Dropout)          (None, 128)               0         \n",
      "_________________________________________________________________\n",
      "dense_1 (Dense)              (None, 10)                1290      \n",
      "=================================================================\n",
      "Total params: 814,570\n",
      "Trainable params: 814,186\n",
      "Non-trainable params: 384\n",
      "_________________________________________________________________\n",
      "\n",
      "\n",
      "Model: \"model_3\"\n",
      "_________________________________________________________________\n",
      "Layer (type)                 Output Shape              Param #   \n",
      "=================================================================\n",
      "input_1 (InputLayer)         [(None, 28, 28, 1)]       0         \n",
      "_________________________________________________________________\n",
      "conv2d (Conv2D)              (None, 28, 28, 32)        320       \n",
      "_________________________________________________________________\n",
      "batch_normalization (BatchNo (None, 28, 28, 32)        128       \n",
      "_________________________________________________________________\n",
      "dropout (Dropout)            (None, 28, 28, 32)        0         \n",
      "_________________________________________________________________\n",
      "conv2d_1 (Conv2D)            (None, 28, 28, 32)        9248      \n",
      "_________________________________________________________________\n",
      "batch_normalization_1 (Batch (None, 28, 28, 32)        128       \n",
      "_________________________________________________________________\n",
      "dropout_1 (Dropout)          (None, 28, 28, 32)        0         \n",
      "_________________________________________________________________\n",
      "max_pooling2d (MaxPooling2D) (None, 14, 14, 32)        0         \n",
      "_________________________________________________________________\n",
      "conv2d_2 (Conv2D)            (None, 14, 14, 64)        18496     \n",
      "_________________________________________________________________\n",
      "batch_normalization_2 (Batch (None, 14, 14, 64)        256       \n",
      "_________________________________________________________________\n",
      "dropout_2 (Dropout)          (None, 14, 14, 64)        0         \n",
      "_________________________________________________________________\n",
      "conv2d_3 (Conv2D)            (None, 14, 14, 64)        36928     \n",
      "_________________________________________________________________\n",
      "batch_normalization_3 (Batch (None, 14, 14, 64)        256       \n",
      "_________________________________________________________________\n",
      "dropout_3 (Dropout)          (None, 14, 14, 64)        0         \n",
      "_________________________________________________________________\n",
      "max_pooling2d_1 (MaxPooling2 (None, 7, 7, 64)          0         \n",
      "_________________________________________________________________\n",
      "flatten (Flatten)            (None, 3136)              0         \n",
      "_________________________________________________________________\n",
      "dense (Dense)                (None, 128)               401536    \n",
      "_________________________________________________________________\n",
      "batch_normalization_4 (Batch (None, 128)               512       \n",
      "_________________________________________________________________\n",
      "dropout_4 (Dropout)          (None, 128)               0         \n",
      "_________________________________________________________________\n",
      "dense_1 (Dense)              (None, 10)                1290      \n",
      "=================================================================\n",
      "Total params: 469,098\n",
      "Trainable params: 468,458\n",
      "Non-trainable params: 640\n",
      "_________________________________________________________________\n",
      "\n",
      "\n"
     ]
    }
   ],
   "source": [
    "model_1 = build_model_1(image_size = 28, channels = 1, start_neurons = 32, dense_neurons = 128); model_1.summary(); print(\"\\n\")\n",
    "model_2 = build_model_2(image_size = 28, channels = 1, start_neurons = 32, dense_neurons = 128); model_2.summary(); print(\"\\n\")\n",
    "model_3 = build_model_3(image_size = 28, channels = 1, start_neurons = 32, dense_neurons = 128); model_3.summary(); print(\"\\n\")"
   ]
  },
  {
   "cell_type": "markdown",
   "metadata": {},
   "source": [
    "# Kernels:"
   ]
  },
  {
   "cell_type": "code",
   "execution_count": 8,
   "metadata": {
    "ExecuteTime": {
     "end_time": "2020-11-22T14:23:09.533988Z",
     "start_time": "2020-11-22T14:23:08.829847Z"
    },
    "scrolled": true
   },
   "outputs": [
    {
     "name": "stdout",
     "output_type": "stream",
     "text": [
      "--------------------------\n",
      "Ellipse kernels:\n"
     ]
    },
    {
     "data": {
      "image/png": "[encoded data removed]",
      "text/plain": [
       "<Figure size 432x288 with 1 Axes>"
      ]
     },
     "metadata": {
      "needs_background": "light"
     },
     "output_type": "display_data"
    },
    {
     "data": {
      "image/png": "[encoded data removed]",
      "text/plain": [
       "<Figure size 432x288 with 1 Axes>"
      ]
     },
     "metadata": {
      "needs_background": "light"
     },
     "output_type": "display_data"
    },
    {
     "data": {
      "image/png": "[encoded data removed]",
      "text/plain": [
       "<Figure size 432x288 with 1 Axes>"
      ]
     },
     "metadata": {
      "needs_background": "light"
     },
     "output_type": "display_data"
    },
    {
     "name": "stdout",
     "output_type": "stream",
     "text": [
      "--------------------------\n",
      "Rect kernels:\n"
     ]
    },
    {
     "data": {
      "image/png": "[encoded data removed]",
      "text/plain": [
       "<Figure size 432x288 with 1 Axes>"
      ]
     },
     "metadata": {
      "needs_background": "light"
     },
     "output_type": "display_data"
    },
    {
     "data": {
      "image/png": "[encoded data removed]",
      "text/plain": [
       "<Figure size 432x288 with 1 Axes>"
      ]
     },
     "metadata": {
      "needs_background": "light"
     },
     "output_type": "display_data"
    },
    {
     "data": {
      "image/png": "[encoded data removed]",
      "text/plain": [
       "<Figure size 432x288 with 1 Axes>"
      ]
     },
     "metadata": {
      "needs_background": "light"
     },
     "output_type": "display_data"
    },
    {
     "name": "stdout",
     "output_type": "stream",
     "text": [
      "--------------------------\n",
      "Diamond kernels:\n"
     ]
    },
    {
     "data": {
      "image/png": "[encoded data removed]",
      "text/plain": [
       "<Figure size 432x288 with 1 Axes>"
      ]
     },
     "metadata": {
      "needs_background": "light"
     },
     "output_type": "display_data"
    },
    {
     "data": {
      "image/png": "[encoded data removed]",
      "text/plain": [
       "<Figure size 432x288 with 1 Axes>"
      ]
     },
     "metadata": {
      "needs_background": "light"
     },
     "output_type": "display_data"
    },
    {
     "data": {
      "image/png": "[encoded data removed]",
      "text/plain": [
       "<Figure size 432x288 with 1 Axes>"
      ]
     },
     "metadata": {
      "needs_background": "light"
     },
     "output_type": "display_data"
    }
   ],
   "source": [
    "kernel_ellipse_3 = cv2.getStructuringElement(cv2.MORPH_ELLIPSE, (3, 3)).astype(\"uint8\")\n",
    "kernel_ellipse_5 = cv2.getStructuringElement(cv2.MORPH_ELLIPSE, (5, 5)).astype(\"uint8\")\n",
    "kernel_ellipse_7 = cv2.getStructuringElement(cv2.MORPH_ELLIPSE, (7, 7)).astype(\"uint8\")\n",
    "kernel_ellipse = [kernel_ellipse_3, kernel_ellipse_5, kernel_ellipse_7]\n",
    "\n",
    "kernel_rect_3 = cv2.getStructuringElement(cv2.MORPH_RECT, (3, 3)).astype(\"uint8\")\n",
    "kernel_rect_5 = cv2.getStructuringElement(cv2.MORPH_RECT, (5, 5)).astype(\"uint8\")\n",
    "kernel_rect_7 = cv2.getStructuringElement(cv2.MORPH_RECT, (7, 7)).astype(\"uint8\")\n",
    "kernel_rect = [kernel_rect_3, kernel_rect_5, kernel_rect_7]\n",
    "\n",
    "kernel_diamond_3 = np.array([[0, 1, 0],\n",
    "                          [1, 1, 1],\n",
    "                          [0, 1, 0]]).astype(\"uint8\")\n",
    "kernel_diamond_5 = np.array([[0, 0, 1, 0, 0],\n",
    "                          [0, 1, 1, 1, 0],\n",
    "                          [1, 1, 1, 1, 1],\n",
    "                          [0, 1, 1, 1, 0],\n",
    "                          [0, 0, 1, 0, 0]]).astype(\"uint8\")\n",
    "kernel_diamond_7 = np.array([[0, 0, 0, 1, 0, 0, 0],\n",
    "                          [0, 0, 1, 1, 1, 0, 0],\n",
    "                          [0, 1, 1, 1, 1, 1, 0],\n",
    "                          [1, 1, 1, 1, 1, 1, 1],\n",
    "                          [0, 1, 1, 1, 1, 1, 0],\n",
    "                          [0, 0, 1, 1, 1, 0, 0],\n",
    "                          [0, 0, 0, 1, 0, 0, 0]]).astype(\"uint8\")\n",
    "kernel_diamond = [kernel_diamond_3, kernel_diamond_5, kernel_diamond_7]\n",
    "\n",
    "print(\"--------------------------\")\n",
    "print(\"Ellipse kernels:\")\n",
    "for i in np.arange(len(kernel_ellipse)):\n",
    "    plt.imshow(kernel_ellipse[i])\n",
    "    plt.show()\n",
    "\n",
    "print(\"--------------------------\")\n",
    "print(\"Rect kernels:\")\n",
    "for i in np.arange(len(kernel_rect)):\n",
    "    plt.imshow(kernel_rect[i])\n",
    "    plt.show()\n",
    "    \n",
    "print(\"--------------------------\")\n",
    "print(\"Diamond kernels:\")\n",
    "for i in np.arange(len(kernel_diamond)):\n",
    "    plt.imshow(kernel_diamond[i])\n",
    "    plt.show()"
   ]
  },
  {
   "cell_type": "markdown",
   "metadata": {},
   "source": [
    "# Opening function"
   ]
  },
  {
   "cell_type": "code",
   "execution_count": 9,
   "metadata": {
    "ExecuteTime": {
     "end_time": "2020-11-22T14:23:19.003663Z",
     "start_time": "2020-11-22T14:23:09.534962Z"
    }
   },
   "outputs": [
    {
     "name": "stdout",
     "output_type": "stream",
     "text": [
      "Train ellipse kernels:\n",
      "Train rect kernels:\n",
      "Train diamond kernels:\n",
      "Validation ellipse kernels:\n",
      "Validation rect kernels:\n",
      "Validation diamond kernels:\n",
      "Test ellipse kernels:\n",
      "Test rect kernels:\n",
      "Test diamond kernels:\n"
     ]
    }
   ],
   "source": [
    "def morphological_transformation_opening(data, kernel):\n",
    "    result_list = []\n",
    "    for i in np.arange(data.shape[0]):\n",
    "        image = data[i,:,:,:]\n",
    "        image = image.reshape(28, 28)\n",
    "        image = cv2.morphologyEx(image, cv2.MORPH_OPEN, kernel, iterations = 1)\n",
    "        result_list.append(image)\n",
    "    result_list = np.array(result_list)\n",
    "    result_list = np.expand_dims(result_list, -1)\n",
    "    \n",
    "    return result_list\n",
    "    \n",
    "print(\"Train ellipse kernels:\")\n",
    "train_opening_kernel_ellipse_3 = morphological_transformation_opening(data = x_train, kernel = kernel_ellipse_3)\n",
    "train_opening_kernel_ellipse_5 = morphological_transformation_opening(data = x_train, kernel = kernel_ellipse_5)\n",
    "train_opening_kernel_ellipse_7 = morphological_transformation_opening(data = x_train, kernel = kernel_ellipse_7)\n",
    "\n",
    "print(\"Train rect kernels:\")\n",
    "train_opening_kernel_rect_3 = morphological_transformation_opening(data = x_train, kernel = kernel_rect_3)\n",
    "train_opening_kernel_rect_5 = morphological_transformation_opening(data = x_train, kernel = kernel_rect_5)\n",
    "train_opening_kernel_rect_7 = morphological_transformation_opening(data = x_train, kernel = kernel_rect_7)\n",
    "    \n",
    "print(\"Train diamond kernels:\")\n",
    "train_opening_kernel_diamond_3 = morphological_transformation_opening(data = x_train, kernel = kernel_diamond_3)\n",
    "train_opening_kernel_diamond_5 = morphological_transformation_opening(data = x_train, kernel = kernel_diamond_5)\n",
    "train_opening_kernel_diamond_7 = morphological_transformation_opening(data = x_train, kernel = kernel_diamond_7)\n",
    "\n",
    "print(\"Validation ellipse kernels:\")\n",
    "val_opening_kernel_ellipse_3 = morphological_transformation_opening(data = x_val, kernel = kernel_ellipse_3)\n",
    "val_opening_kernel_ellipse_5 = morphological_transformation_opening(data = x_val, kernel = kernel_ellipse_5)\n",
    "val_opening_kernel_ellipse_7 = morphological_transformation_opening(data = x_val, kernel = kernel_ellipse_7)\n",
    "\n",
    "print(\"Validation rect kernels:\")\n",
    "val_opening_kernel_rect_3 = morphological_transformation_opening(data = x_val, kernel = kernel_rect_3)\n",
    "val_opening_kernel_rect_5 = morphological_transformation_opening(data = x_val, kernel = kernel_rect_5)\n",
    "val_opening_kernel_rect_7 = morphological_transformation_opening(data = x_val, kernel = kernel_rect_7)\n",
    "    \n",
    "print(\"Validation diamond kernels:\")\n",
    "val_opening_kernel_diamond_3 = morphological_transformation_opening(data = x_val, kernel = kernel_diamond_3)\n",
    "val_opening_kernel_diamond_5 = morphological_transformation_opening(data = x_val, kernel = kernel_diamond_5)\n",
    "val_opening_kernel_diamond_7 = morphological_transformation_opening(data = x_val, kernel = kernel_diamond_7)\n",
    "\n",
    "print(\"Test ellipse kernels:\")\n",
    "test_opening_kernel_ellipse_3 = morphological_transformation_opening(data = x_test, kernel = kernel_ellipse_3)\n",
    "test_opening_kernel_ellipse_5 = morphological_transformation_opening(data = x_test, kernel = kernel_ellipse_5)\n",
    "test_opening_kernel_ellipse_7 = morphological_transformation_opening(data = x_test, kernel = kernel_ellipse_7)\n",
    "\n",
    "print(\"Test rect kernels:\")\n",
    "test_opening_kernel_rect_3 = morphological_transformation_opening(data = x_test, kernel = kernel_rect_3)\n",
    "test_opening_kernel_rect_5 = morphological_transformation_opening(data = x_test, kernel = kernel_rect_5)\n",
    "test_opening_kernel_rect_7 = morphological_transformation_opening(data = x_test, kernel = kernel_rect_7)\n",
    "    \n",
    "print(\"Test diamond kernels:\")\n",
    "test_opening_kernel_diamond_3 = morphological_transformation_opening(data = x_test, kernel = kernel_diamond_3)\n",
    "test_opening_kernel_diamond_5 = morphological_transformation_opening(data = x_test, kernel = kernel_diamond_5)\n",
    "test_opening_kernel_diamond_7 = morphological_transformation_opening(data = x_test, kernel = kernel_diamond_7)"
   ]
  },
  {
   "cell_type": "markdown",
   "metadata": {},
   "source": [
    "# Closing function:"
   ]
  },
  {
   "cell_type": "code",
   "execution_count": 10,
   "metadata": {
    "ExecuteTime": {
     "end_time": "2020-11-22T14:23:28.042706Z",
     "start_time": "2020-11-22T14:23:19.004633Z"
    }
   },
   "outputs": [
    {
     "name": "stdout",
     "output_type": "stream",
     "text": [
      "Train ellipse kernels:\n",
      "Train rect kernels:\n",
      "Train diamond kernels:\n",
      "Validation ellipse kernels:\n",
      "Validation rect kernels:\n",
      "Validation diamond kernels:\n",
      "Test ellipse kernels:\n",
      "Test rect kernels:\n",
      "Test diamond kernels:\n"
     ]
    }
   ],
   "source": [
    "def morphological_transformation_closing(data, kernel):\n",
    "    result_list = []\n",
    "    for i in np.arange(data.shape[0]):\n",
    "        image = data[i,:,:,:]\n",
    "        image = image.reshape(28, 28)\n",
    "        image = cv2.morphologyEx(image, cv2.MORPH_CLOSE, kernel, iterations = 1)\n",
    "        result_list.append(image)\n",
    "    result_list = np.array(result_list)\n",
    "    result_list = np.expand_dims(result_list, -1)\n",
    "    \n",
    "    return result_list\n",
    "    \n",
    "print(\"Train ellipse kernels:\")\n",
    "train_closing_kernel_ellipse_3 = morphological_transformation_closing(data = x_train, kernel = kernel_ellipse_3)\n",
    "train_closing_kernel_ellipse_5 = morphological_transformation_closing(data = x_train, kernel = kernel_ellipse_5)\n",
    "train_closing_kernel_ellipse_7 = morphological_transformation_closing(data = x_train, kernel = kernel_ellipse_7)\n",
    "\n",
    "print(\"Train rect kernels:\")\n",
    "train_closing_kernel_rect_3 = morphological_transformation_closing(data = x_train, kernel = kernel_rect_3)\n",
    "train_closing_kernel_rect_5 = morphological_transformation_closing(data = x_train, kernel = kernel_rect_5)\n",
    "train_closing_kernel_rect_7 = morphological_transformation_closing(data = x_train, kernel = kernel_rect_7)\n",
    "    \n",
    "print(\"Train diamond kernels:\")\n",
    "train_closing_kernel_diamond_3 = morphological_transformation_closing(data = x_train, kernel = kernel_diamond_3)\n",
    "train_closing_kernel_diamond_5 = morphological_transformation_closing(data = x_train, kernel = kernel_diamond_5)\n",
    "train_closing_kernel_diamond_7 = morphological_transformation_closing(data = x_train, kernel = kernel_diamond_7)\n",
    "\n",
    "print(\"Validation ellipse kernels:\")\n",
    "val_closing_kernel_ellipse_3 = morphological_transformation_closing(data = x_val, kernel = kernel_ellipse_3)\n",
    "val_closing_kernel_ellipse_5 = morphological_transformation_closing(data = x_val, kernel = kernel_ellipse_5)\n",
    "val_closing_kernel_ellipse_7 = morphological_transformation_closing(data = x_val, kernel = kernel_ellipse_7)\n",
    "\n",
    "print(\"Validation rect kernels:\")\n",
    "val_closing_kernel_rect_3 = morphological_transformation_closing(data = x_val, kernel = kernel_rect_3)\n",
    "val_closing_kernel_rect_5 = morphological_transformation_closing(data = x_val, kernel = kernel_rect_5)\n",
    "val_closing_kernel_rect_7 = morphological_transformation_closing(data = x_val, kernel = kernel_rect_7)\n",
    "    \n",
    "print(\"Validation diamond kernels:\")\n",
    "val_closing_kernel_diamond_3 = morphological_transformation_closing(data = x_val, kernel = kernel_diamond_3)\n",
    "val_closing_kernel_diamond_5 = morphological_transformation_closing(data = x_val, kernel = kernel_diamond_5)\n",
    "val_closing_kernel_diamond_7 = morphological_transformation_closing(data = x_val, kernel = kernel_diamond_7)\n",
    "\n",
    "print(\"Test ellipse kernels:\")\n",
    "test_closing_kernel_ellipse_3 = morphological_transformation_closing(data = x_test, kernel = kernel_ellipse_3)\n",
    "test_closing_kernel_ellipse_5 = morphological_transformation_closing(data = x_test, kernel = kernel_ellipse_5)\n",
    "test_closing_kernel_ellipse_7 = morphological_transformation_closing(data = x_test, kernel = kernel_ellipse_7)\n",
    "\n",
    "print(\"Test rect kernels:\")\n",
    "test_closing_kernel_rect_3 = morphological_transformation_closing(data = x_test, kernel = kernel_rect_3)\n",
    "test_closing_kernel_rect_5 = morphological_transformation_closing(data = x_test, kernel = kernel_rect_5)\n",
    "test_closing_kernel_rect_7 = morphological_transformation_closing(data = x_test, kernel = kernel_rect_7)\n",
    "    \n",
    "print(\"Test diamond kernels:\")\n",
    "test_closing_kernel_diamond_3 = morphological_transformation_closing(data = x_test, kernel = kernel_diamond_3)\n",
    "test_closing_kernel_diamond_5 = morphological_transformation_closing(data = x_test, kernel = kernel_diamond_5)\n",
    "test_closing_kernel_diamond_7 = morphological_transformation_closing(data = x_test, kernel = kernel_diamond_7)"
   ]
  },
  {
   "cell_type": "markdown",
   "metadata": {},
   "source": [
    "# Erosion function:"
   ]
  },
  {
   "cell_type": "code",
   "execution_count": 11,
   "metadata": {
    "ExecuteTime": {
     "end_time": "2020-11-22T14:23:34.256088Z",
     "start_time": "2020-11-22T14:23:28.043675Z"
    }
   },
   "outputs": [
    {
     "name": "stdout",
     "output_type": "stream",
     "text": [
      "Train ellipse kernels:\n",
      "Train rect kernels:\n",
      "Train diamond kernels:\n",
      "Validation ellipse kernels:\n",
      "Validation rect kernels:\n",
      "Validation diamond kernels:\n",
      "Test ellipse kernels:\n",
      "Test rect kernels:\n",
      "Test diamond kernels:\n"
     ]
    }
   ],
   "source": [
    "def morphological_transformation_erosion(data, kernel):\n",
    "    result_list = []\n",
    "    for i in np.arange(data.shape[0]):\n",
    "        image = data[i,:,:,:]\n",
    "        image = image.reshape(28, 28)\n",
    "        image = cv2.morphologyEx(image, cv2.MORPH_ERODE, kernel, iterations = 1)\n",
    "        result_list.append(image)\n",
    "    result_list = np.array(result_list)\n",
    "    result_list = np.expand_dims(result_list, -1)\n",
    "    \n",
    "    return result_list\n",
    "    \n",
    "print(\"Train ellipse kernels:\")\n",
    "train_erosion_kernel_ellipse_3 = morphological_transformation_erosion(data = x_train, kernel = kernel_ellipse_3)\n",
    "train_erosion_kernel_ellipse_5 = morphological_transformation_erosion(data = x_train, kernel = kernel_ellipse_5)\n",
    "train_erosion_kernel_ellipse_7 = morphological_transformation_erosion(data = x_train, kernel = kernel_ellipse_7)\n",
    "\n",
    "print(\"Train rect kernels:\")\n",
    "train_erosion_kernel_rect_3 = morphological_transformation_erosion(data = x_train, kernel = kernel_rect_3)\n",
    "train_erosion_kernel_rect_5 = morphological_transformation_erosion(data = x_train, kernel = kernel_rect_5)\n",
    "train_erosion_kernel_rect_7 = morphological_transformation_erosion(data = x_train, kernel = kernel_rect_7)\n",
    "    \n",
    "print(\"Train diamond kernels:\")\n",
    "train_erosion_kernel_diamond_3 = morphological_transformation_erosion(data = x_train, kernel = kernel_diamond_3)\n",
    "train_erosion_kernel_diamond_5 = morphological_transformation_erosion(data = x_train, kernel = kernel_diamond_5)\n",
    "train_erosion_kernel_diamond_7 = morphological_transformation_erosion(data = x_train, kernel = kernel_diamond_7)\n",
    "\n",
    "print(\"Validation ellipse kernels:\")\n",
    "val_erosion_kernel_ellipse_3 = morphological_transformation_erosion(data = x_val, kernel = kernel_ellipse_3)\n",
    "val_erosion_kernel_ellipse_5 = morphological_transformation_erosion(data = x_val, kernel = kernel_ellipse_5)\n",
    "val_erosion_kernel_ellipse_7 = morphological_transformation_erosion(data = x_val, kernel = kernel_ellipse_7)\n",
    "\n",
    "print(\"Validation rect kernels:\")\n",
    "val_erosion_kernel_rect_3 = morphological_transformation_erosion(data = x_val, kernel = kernel_rect_3)\n",
    "val_erosion_kernel_rect_5 = morphological_transformation_erosion(data = x_val, kernel = kernel_rect_5)\n",
    "val_erosion_kernel_rect_7 = morphological_transformation_erosion(data = x_val, kernel = kernel_rect_7)\n",
    "    \n",
    "print(\"Validation diamond kernels:\")\n",
    "val_erosion_kernel_diamond_3 = morphological_transformation_erosion(data = x_val, kernel = kernel_diamond_3)\n",
    "val_erosion_kernel_diamond_5 = morphological_transformation_erosion(data = x_val, kernel = kernel_diamond_5)\n",
    "val_erosion_kernel_diamond_7 = morphological_transformation_erosion(data = x_val, kernel = kernel_diamond_7)\n",
    "\n",
    "print(\"Test ellipse kernels:\")\n",
    "test_erosion_kernel_ellipse_3 = morphological_transformation_erosion(data = x_test, kernel = kernel_ellipse_3)\n",
    "test_erosion_kernel_ellipse_5 = morphological_transformation_erosion(data = x_test, kernel = kernel_ellipse_5)\n",
    "test_erosion_kernel_ellipse_7 = morphological_transformation_erosion(data = x_test, kernel = kernel_ellipse_7)\n",
    "\n",
    "print(\"Test rect kernels:\")\n",
    "test_erosion_kernel_rect_3 = morphological_transformation_erosion(data = x_test, kernel = kernel_rect_3)\n",
    "test_erosion_kernel_rect_5 = morphological_transformation_erosion(data = x_test, kernel = kernel_rect_5)\n",
    "test_erosion_kernel_rect_7 = morphological_transformation_erosion(data = x_test, kernel = kernel_rect_7)\n",
    "    \n",
    "print(\"Test diamond kernels:\")\n",
    "test_erosion_kernel_diamond_3 = morphological_transformation_erosion(data = x_test, kernel = kernel_diamond_3)\n",
    "test_erosion_kernel_diamond_5 = morphological_transformation_erosion(data = x_test, kernel = kernel_diamond_5)\n",
    "test_erosion_kernel_diamond_7 = morphological_transformation_erosion(data = x_test, kernel = kernel_diamond_7)"
   ]
  },
  {
   "cell_type": "markdown",
   "metadata": {},
   "source": [
    "# Dillatation function:"
   ]
  },
  {
   "cell_type": "code",
   "execution_count": 12,
   "metadata": {
    "ExecuteTime": {
     "end_time": "2020-11-22T14:23:40.550268Z",
     "start_time": "2020-11-22T14:23:34.257063Z"
    }
   },
   "outputs": [
    {
     "name": "stdout",
     "output_type": "stream",
     "text": [
      "Train ellipse kernels:\n",
      "Train rect kernels:\n",
      "Train diamond kernels:\n",
      "Validation ellipse kernels:\n",
      "Validation rect kernels:\n",
      "Validation diamond kernels:\n",
      "Test ellipse kernels:\n",
      "Test rect kernels:\n",
      "Test diamond kernels:\n"
     ]
    }
   ],
   "source": [
    "def morphological_transformation_dillatation(data, kernel):\n",
    "    result_list = []\n",
    "    for i in np.arange(data.shape[0]):\n",
    "        image = data[i,:,:,:]\n",
    "        image = image.reshape(28, 28)\n",
    "        image = cv2.morphologyEx(image, cv2.MORPH_DILATE, kernel, iterations = 1)\n",
    "        result_list.append(image)\n",
    "    result_list = np.array(result_list)\n",
    "    result_list = np.expand_dims(result_list, -1)\n",
    "    \n",
    "    return result_list\n",
    "    \n",
    "print(\"Train ellipse kernels:\")\n",
    "train_dillatation_kernel_ellipse_3 = morphological_transformation_dillatation(data = x_train, kernel = kernel_ellipse_3)\n",
    "train_dillatation_kernel_ellipse_5 = morphological_transformation_dillatation(data = x_train, kernel = kernel_ellipse_5)\n",
    "train_dillatation_kernel_ellipse_7 = morphological_transformation_dillatation(data = x_train, kernel = kernel_ellipse_7)\n",
    "\n",
    "print(\"Train rect kernels:\")\n",
    "train_dillatation_kernel_rect_3 = morphological_transformation_dillatation(data = x_train, kernel = kernel_rect_3)\n",
    "train_dillatation_kernel_rect_5 = morphological_transformation_dillatation(data = x_train, kernel = kernel_rect_5)\n",
    "train_dillatation_kernel_rect_7 = morphological_transformation_dillatation(data = x_train, kernel = kernel_rect_7)\n",
    "    \n",
    "print(\"Train diamond kernels:\")\n",
    "train_dillatation_kernel_diamond_3 = morphological_transformation_dillatation(data = x_train, kernel = kernel_diamond_3)\n",
    "train_dillatation_kernel_diamond_5 = morphological_transformation_dillatation(data = x_train, kernel = kernel_diamond_5)\n",
    "train_dillatation_kernel_diamond_7 = morphological_transformation_dillatation(data = x_train, kernel = kernel_diamond_7)\n",
    "\n",
    "print(\"Validation ellipse kernels:\")\n",
    "val_dillatation_kernel_ellipse_3 = morphological_transformation_dillatation(data = x_val, kernel = kernel_ellipse_3)\n",
    "val_dillatation_kernel_ellipse_5 = morphological_transformation_dillatation(data = x_val, kernel = kernel_ellipse_5)\n",
    "val_dillatation_kernel_ellipse_7 = morphological_transformation_dillatation(data = x_val, kernel = kernel_ellipse_7)\n",
    "\n",
    "print(\"Validation rect kernels:\")\n",
    "val_dillatation_kernel_rect_3 = morphological_transformation_dillatation(data = x_val, kernel = kernel_rect_3)\n",
    "val_dillatation_kernel_rect_5 = morphological_transformation_dillatation(data = x_val, kernel = kernel_rect_5)\n",
    "val_dillatation_kernel_rect_7 = morphological_transformation_dillatation(data = x_val, kernel = kernel_rect_7)\n",
    "    \n",
    "print(\"Validation diamond kernels:\")\n",
    "val_dillatation_kernel_diamond_3 = morphological_transformation_dillatation(data = x_val, kernel = kernel_diamond_3)\n",
    "val_dillatation_kernel_diamond_5 = morphological_transformation_dillatation(data = x_val, kernel = kernel_diamond_5)\n",
    "val_dillatation_kernel_diamond_7 = morphological_transformation_dillatation(data = x_val, kernel = kernel_diamond_7)\n",
    "\n",
    "print(\"Test ellipse kernels:\")\n",
    "test_dillatation_kernel_ellipse_3 = morphological_transformation_dillatation(data = x_test, kernel = kernel_ellipse_3)\n",
    "test_dillatation_kernel_ellipse_5 = morphological_transformation_dillatation(data = x_test, kernel = kernel_ellipse_5)\n",
    "test_dillatation_kernel_ellipse_7 = morphological_transformation_dillatation(data = x_test, kernel = kernel_ellipse_7)\n",
    "\n",
    "print(\"Test rect kernels:\")\n",
    "test_dillatation_kernel_rect_3 = morphological_transformation_dillatation(data = x_test, kernel = kernel_rect_3)\n",
    "test_dillatation_kernel_rect_5 = morphological_transformation_dillatation(data = x_test, kernel = kernel_rect_5)\n",
    "test_dillatation_kernel_rect_7 = morphological_transformation_dillatation(data = x_test, kernel = kernel_rect_7)\n",
    "    \n",
    "print(\"Test diamond kernels:\")\n",
    "test_dillatation_kernel_diamond_3 = morphological_transformation_dillatation(data = x_test, kernel = kernel_diamond_3)\n",
    "test_dillatation_kernel_diamond_5 = morphological_transformation_dillatation(data = x_test, kernel = kernel_diamond_5)\n",
    "test_dillatation_kernel_diamond_7 = morphological_transformation_dillatation(data = x_test, kernel = kernel_diamond_7)"
   ]
  },
  {
   "cell_type": "markdown",
   "metadata": {},
   "source": [
    "# Concatenate data:"
   ]
  },
  {
   "cell_type": "code",
   "execution_count": 13,
   "metadata": {
    "ExecuteTime": {
     "end_time": "2020-11-22T14:23:44.423905Z",
     "start_time": "2020-11-22T14:23:40.551232Z"
    }
   },
   "outputs": [
    {
     "name": "stdout",
     "output_type": "stream",
     "text": [
      "Opening:\n",
      "Train ellipse kernel:\n",
      "(48000, 28, 28, 3)\n",
      "--------------------------\n",
      "Validation ellipse kernel:\n",
      "(12000, 28, 28, 3)\n",
      "--------------------------\n",
      "Test ellipse kernel:\n",
      "(10000, 28, 28, 3)\n",
      "--------------------------\n",
      "Train rect kernel:\n",
      "(48000, 28, 28, 3)\n",
      "--------------------------\n",
      "Validation rect kernel:\n",
      "(12000, 28, 28, 3)\n",
      "--------------------------\n",
      "Test rect kernel:\n",
      "(10000, 28, 28, 3)\n",
      "--------------------------\n",
      "Train diamond kernel:\n",
      "(48000, 28, 28, 3)\n",
      "--------------------------\n",
      "Validation diamond kernel:\n",
      "(12000, 28, 28, 3)\n",
      "--------------------------\n",
      "Test diamond kernel:\n",
      "(10000, 28, 28, 3)\n",
      "--------------------------\n",
      "Closing:\n",
      "Train ellipse kernel:\n",
      "(48000, 28, 28, 3)\n",
      "--------------------------\n",
      "Validation ellipse kernel:\n",
      "(12000, 28, 28, 3)\n",
      "--------------------------\n",
      "Test ellipse kernel:\n",
      "(10000, 28, 28, 3)\n",
      "--------------------------\n",
      "Train rect kernel:\n",
      "(48000, 28, 28, 3)\n",
      "--------------------------\n",
      "Validation rect kernel:\n",
      "(12000, 28, 28, 3)\n",
      "--------------------------\n",
      "Test rect kernel:\n",
      "(10000, 28, 28, 3)\n",
      "--------------------------\n",
      "Train diamond kernel:\n",
      "(48000, 28, 28, 3)\n",
      "--------------------------\n",
      "Validation diamond kernel:\n",
      "(12000, 28, 28, 3)\n",
      "--------------------------\n",
      "Test diamond kernel:\n",
      "(10000, 28, 28, 3)\n",
      "--------------------------\n",
      "Dillatation:\n",
      "Train ellipse kernel:\n",
      "(48000, 28, 28, 3)\n",
      "--------------------------\n",
      "Validation ellipse kernel:\n",
      "(12000, 28, 28, 3)\n",
      "--------------------------\n",
      "Test ellipse kernel:\n",
      "(10000, 28, 28, 3)\n",
      "--------------------------\n",
      "Train rect kernel:\n",
      "(48000, 28, 28, 3)\n",
      "--------------------------\n",
      "Validation rect kernel:\n",
      "(12000, 28, 28, 3)\n",
      "--------------------------\n",
      "Test rect kernel:\n",
      "(10000, 28, 28, 3)\n",
      "--------------------------\n",
      "Train diamond kernel:\n",
      "(48000, 28, 28, 3)\n",
      "--------------------------\n",
      "Validation diamond kernel:\n",
      "(12000, 28, 28, 3)\n",
      "--------------------------\n",
      "Test diamond kernel:\n",
      "(10000, 28, 28, 3)\n",
      "--------------------------\n",
      "Erosion:\n",
      "Train ellipse kernel:\n",
      "(48000, 28, 28, 3)\n",
      "--------------------------\n",
      "Validation ellipse kernel:\n",
      "(12000, 28, 28, 3)\n",
      "--------------------------\n",
      "Test ellipse kernel:\n",
      "(10000, 28, 28, 3)\n",
      "--------------------------\n",
      "Train rect kernel:\n",
      "(48000, 28, 28, 3)\n",
      "--------------------------\n",
      "Validation rect kernel:\n",
      "(12000, 28, 28, 3)\n",
      "--------------------------\n",
      "Test rect kernel:\n",
      "(10000, 28, 28, 3)\n",
      "--------------------------\n",
      "Train diamond kernel:\n",
      "(48000, 28, 28, 3)\n",
      "--------------------------\n",
      "Validation diamond kernel:\n",
      "(12000, 28, 28, 3)\n",
      "--------------------------\n",
      "Test diamond kernel:\n",
      "(10000, 28, 28, 3)\n",
      "--------------------------\n"
     ]
    }
   ],
   "source": [
    "print(\"Opening:\")\n",
    "print(\"Train ellipse kernel:\")\n",
    "args = (train_opening_kernel_ellipse_3, train_opening_kernel_ellipse_5, train_opening_kernel_ellipse_7)\n",
    "train_opening_kernel_ellipse = np.concatenate(args, axis = -1)\n",
    "print(train_opening_kernel_ellipse.shape)\n",
    "print(\"--------------------------\")\n",
    "\n",
    "print(\"Validation ellipse kernel:\")\n",
    "args = (val_opening_kernel_ellipse_3, val_opening_kernel_ellipse_5, val_opening_kernel_ellipse_7)\n",
    "val_opening_kernel_ellipse = np.concatenate(args, axis = -1)\n",
    "print(val_opening_kernel_ellipse.shape)\n",
    "print(\"--------------------------\")\n",
    "\n",
    "print(\"Test ellipse kernel:\")\n",
    "args = (test_opening_kernel_ellipse_3, test_opening_kernel_ellipse_5, test_opening_kernel_ellipse_7)\n",
    "test_opening_kernel_ellipse = np.concatenate(args, axis = -1)\n",
    "print(test_opening_kernel_ellipse.shape)\n",
    "print(\"--------------------------\")\n",
    "\n",
    "print(\"Train rect kernel:\")\n",
    "args = (train_opening_kernel_rect_3, train_opening_kernel_rect_5, train_opening_kernel_rect_7)\n",
    "train_opening_kernel_rect = np.concatenate(args, axis = -1)\n",
    "print(train_opening_kernel_rect.shape)\n",
    "print(\"--------------------------\")\n",
    "\n",
    "print(\"Validation rect kernel:\")\n",
    "args = (val_opening_kernel_rect_3, val_opening_kernel_rect_5, val_opening_kernel_rect_7)\n",
    "val_opening_kernel_rect = np.concatenate(args, axis = -1)\n",
    "print(val_opening_kernel_rect.shape)\n",
    "print(\"--------------------------\")\n",
    "\n",
    "print(\"Test rect kernel:\")\n",
    "args = (test_opening_kernel_rect_3, test_opening_kernel_rect_5, test_opening_kernel_rect_7)\n",
    "test_opening_kernel_rect = np.concatenate(args, axis = -1)\n",
    "print(test_opening_kernel_rect.shape)\n",
    "print(\"--------------------------\")\n",
    "\n",
    "print(\"Train diamond kernel:\")\n",
    "args = (train_opening_kernel_diamond_3, train_opening_kernel_diamond_5, train_opening_kernel_diamond_7)\n",
    "train_opening_kernel_diamond = np.concatenate(args, axis = -1)\n",
    "print(train_opening_kernel_diamond.shape)\n",
    "print(\"--------------------------\")\n",
    "\n",
    "print(\"Validation diamond kernel:\")\n",
    "args = (val_opening_kernel_diamond_3, val_opening_kernel_diamond_5, val_opening_kernel_diamond_7)\n",
    "val_opening_kernel_diamond = np.concatenate(args, axis = -1)\n",
    "print(val_opening_kernel_diamond.shape)\n",
    "print(\"--------------------------\")\n",
    "\n",
    "print(\"Test diamond kernel:\")\n",
    "args = (test_opening_kernel_diamond_3, test_opening_kernel_diamond_5, test_opening_kernel_diamond_7)\n",
    "test_opening_kernel_diamond = np.concatenate(args, axis = -1)\n",
    "print(test_opening_kernel_diamond.shape)\n",
    "print(\"--------------------------\")\n",
    "\n",
    "print(\"Closing:\")\n",
    "print(\"Train ellipse kernel:\")\n",
    "args = (train_closing_kernel_ellipse_3, train_closing_kernel_ellipse_5, train_closing_kernel_ellipse_7)\n",
    "train_closing_kernel_ellipse = np.concatenate(args, axis = -1)\n",
    "print(train_closing_kernel_ellipse.shape)\n",
    "print(\"--------------------------\")\n",
    "\n",
    "print(\"Validation ellipse kernel:\")\n",
    "args = (val_closing_kernel_ellipse_3, val_closing_kernel_ellipse_5, val_closing_kernel_ellipse_7)\n",
    "val_closing_kernel_ellipse = np.concatenate(args, axis = -1)\n",
    "print(val_closing_kernel_ellipse.shape)\n",
    "print(\"--------------------------\")\n",
    "\n",
    "print(\"Test ellipse kernel:\")\n",
    "args = (test_closing_kernel_ellipse_3, test_closing_kernel_ellipse_5, test_closing_kernel_ellipse_7)\n",
    "test_closing_kernel_ellipse = np.concatenate(args, axis = -1)\n",
    "print(test_closing_kernel_ellipse.shape)\n",
    "print(\"--------------------------\")\n",
    "\n",
    "print(\"Train rect kernel:\")\n",
    "args = (train_closing_kernel_rect_3, train_closing_kernel_rect_5, train_closing_kernel_rect_7)\n",
    "train_closing_kernel_rect = np.concatenate(args, axis = -1)\n",
    "print(train_closing_kernel_rect.shape)\n",
    "print(\"--------------------------\")\n",
    "\n",
    "print(\"Validation rect kernel:\")\n",
    "args = (val_closing_kernel_rect_3, val_closing_kernel_rect_5, val_closing_kernel_rect_7)\n",
    "val_closing_kernel_rect = np.concatenate(args, axis = -1)\n",
    "print(val_closing_kernel_rect.shape)\n",
    "print(\"--------------------------\")\n",
    "\n",
    "print(\"Test rect kernel:\")\n",
    "args = (test_closing_kernel_rect_3, test_closing_kernel_rect_5, test_closing_kernel_rect_7)\n",
    "test_closing_kernel_rect = np.concatenate(args, axis = -1)\n",
    "print(test_closing_kernel_rect.shape)\n",
    "print(\"--------------------------\")\n",
    "\n",
    "print(\"Train diamond kernel:\")\n",
    "args = (train_closing_kernel_diamond_3, train_closing_kernel_diamond_5, train_closing_kernel_diamond_7)\n",
    "train_closing_kernel_diamond = np.concatenate(args, axis = -1)\n",
    "print(train_closing_kernel_diamond.shape)\n",
    "print(\"--------------------------\")\n",
    "\n",
    "print(\"Validation diamond kernel:\")\n",
    "args = (val_closing_kernel_diamond_3, val_closing_kernel_diamond_5, val_closing_kernel_diamond_7)\n",
    "val_closing_kernel_diamond = np.concatenate(args, axis = -1)\n",
    "print(val_closing_kernel_diamond.shape)\n",
    "print(\"--------------------------\")\n",
    "\n",
    "print(\"Test diamond kernel:\")\n",
    "args = (test_closing_kernel_diamond_3, test_closing_kernel_diamond_5, test_closing_kernel_diamond_7)\n",
    "test_closing_kernel_diamond = np.concatenate(args, axis = -1)\n",
    "print(test_closing_kernel_diamond.shape)\n",
    "print(\"--------------------------\")\n",
    "\n",
    "print(\"Dillatation:\")\n",
    "print(\"Train ellipse kernel:\")\n",
    "args = (train_dillatation_kernel_ellipse_3, train_dillatation_kernel_ellipse_5, train_dillatation_kernel_ellipse_7)\n",
    "train_dillatation_kernel_ellipse = np.concatenate(args, axis = -1)\n",
    "print(train_dillatation_kernel_ellipse.shape)\n",
    "print(\"--------------------------\")\n",
    "\n",
    "print(\"Validation ellipse kernel:\")\n",
    "args = (val_dillatation_kernel_ellipse_3, val_dillatation_kernel_ellipse_5, val_dillatation_kernel_ellipse_7)\n",
    "val_dillatation_kernel_ellipse = np.concatenate(args, axis = -1)\n",
    "print(val_dillatation_kernel_ellipse.shape)\n",
    "print(\"--------------------------\")\n",
    "\n",
    "print(\"Test ellipse kernel:\")\n",
    "args = (test_dillatation_kernel_ellipse_3, test_dillatation_kernel_ellipse_5, test_dillatation_kernel_ellipse_7)\n",
    "test_dillatation_kernel_ellipse = np.concatenate(args, axis = -1)\n",
    "print(test_dillatation_kernel_ellipse.shape)\n",
    "print(\"--------------------------\")\n",
    "\n",
    "print(\"Train rect kernel:\")\n",
    "args = (train_dillatation_kernel_rect_3, train_dillatation_kernel_rect_5, train_dillatation_kernel_rect_7)\n",
    "train_dillatation_kernel_rect = np.concatenate(args, axis = -1)\n",
    "print(train_dillatation_kernel_rect.shape)\n",
    "print(\"--------------------------\")\n",
    "\n",
    "print(\"Validation rect kernel:\")\n",
    "args = (val_dillatation_kernel_rect_3, val_dillatation_kernel_rect_5, val_dillatation_kernel_rect_7)\n",
    "val_dillatation_kernel_rect = np.concatenate(args, axis = -1)\n",
    "print(val_dillatation_kernel_rect.shape)\n",
    "print(\"--------------------------\")\n",
    "\n",
    "print(\"Test rect kernel:\")\n",
    "args = (test_dillatation_kernel_rect_3, test_dillatation_kernel_rect_5, test_dillatation_kernel_rect_7)\n",
    "test_dillatation_kernel_rect = np.concatenate(args, axis = -1)\n",
    "print(test_dillatation_kernel_rect.shape)\n",
    "print(\"--------------------------\")\n",
    "\n",
    "print(\"Train diamond kernel:\")\n",
    "args = (train_dillatation_kernel_diamond_3, train_dillatation_kernel_diamond_5, train_dillatation_kernel_diamond_7)\n",
    "train_dillatation_kernel_diamond = np.concatenate(args, axis = -1)\n",
    "print(train_dillatation_kernel_diamond.shape)\n",
    "print(\"--------------------------\")\n",
    "\n",
    "print(\"Validation diamond kernel:\")\n",
    "args = (val_dillatation_kernel_diamond_3, val_dillatation_kernel_diamond_5, val_dillatation_kernel_diamond_7)\n",
    "val_dillatation_kernel_diamond = np.concatenate(args, axis = -1)\n",
    "print(val_dillatation_kernel_diamond.shape)\n",
    "print(\"--------------------------\")\n",
    "\n",
    "print(\"Test diamond kernel:\")\n",
    "args = (test_dillatation_kernel_diamond_3, test_dillatation_kernel_diamond_5, test_dillatation_kernel_diamond_7)\n",
    "test_dillatation_kernel_diamond = np.concatenate(args, axis = -1)\n",
    "print(test_dillatation_kernel_diamond.shape)\n",
    "print(\"--------------------------\")\n",
    "\n",
    "print(\"Erosion:\")\n",
    "print(\"Train ellipse kernel:\")\n",
    "args = (train_erosion_kernel_ellipse_3, train_erosion_kernel_ellipse_5, train_erosion_kernel_ellipse_7)\n",
    "train_erosion_kernel_ellipse = np.concatenate(args, axis = -1)\n",
    "print(train_erosion_kernel_ellipse.shape)\n",
    "print(\"--------------------------\")\n",
    "\n",
    "print(\"Validation ellipse kernel:\")\n",
    "args = (val_erosion_kernel_ellipse_3, val_erosion_kernel_ellipse_5, val_erosion_kernel_ellipse_7)\n",
    "val_erosion_kernel_ellipse = np.concatenate(args, axis = -1)\n",
    "print(val_erosion_kernel_ellipse.shape)\n",
    "print(\"--------------------------\")\n",
    "\n",
    "print(\"Test ellipse kernel:\")\n",
    "args = (test_erosion_kernel_ellipse_3, test_erosion_kernel_ellipse_5, test_erosion_kernel_ellipse_7)\n",
    "test_erosion_kernel_ellipse = np.concatenate(args, axis = -1)\n",
    "print(test_erosion_kernel_ellipse.shape)\n",
    "print(\"--------------------------\")\n",
    "\n",
    "print(\"Train rect kernel:\")\n",
    "args = (train_erosion_kernel_rect_3, train_erosion_kernel_rect_5, train_erosion_kernel_rect_7)\n",
    "train_erosion_kernel_rect = np.concatenate(args, axis = -1)\n",
    "print(train_erosion_kernel_rect.shape)\n",
    "print(\"--------------------------\")\n",
    "\n",
    "print(\"Validation rect kernel:\")\n",
    "args = (val_erosion_kernel_rect_3, val_erosion_kernel_rect_5, val_erosion_kernel_rect_7)\n",
    "val_erosion_kernel_rect = np.concatenate(args, axis = -1)\n",
    "print(val_erosion_kernel_rect.shape)\n",
    "print(\"--------------------------\")\n",
    "\n",
    "print(\"Test rect kernel:\")\n",
    "args = (test_erosion_kernel_rect_3, test_erosion_kernel_rect_5, test_erosion_kernel_rect_7)\n",
    "test_erosion_kernel_rect = np.concatenate(args, axis = -1)\n",
    "print(test_erosion_kernel_rect.shape)\n",
    "print(\"--------------------------\")\n",
    "\n",
    "print(\"Train diamond kernel:\")\n",
    "args = (train_erosion_kernel_diamond_3, train_erosion_kernel_diamond_5, train_erosion_kernel_diamond_7)\n",
    "train_erosion_kernel_diamond = np.concatenate(args, axis = -1)\n",
    "print(train_erosion_kernel_diamond.shape)\n",
    "print(\"--------------------------\")\n",
    "\n",
    "print(\"Validation diamond kernel:\")\n",
    "args = (val_erosion_kernel_diamond_3, val_erosion_kernel_diamond_5, val_erosion_kernel_diamond_7)\n",
    "val_erosion_kernel_diamond = np.concatenate(args, axis = -1)\n",
    "print(val_erosion_kernel_diamond.shape)\n",
    "print(\"--------------------------\")\n",
    "\n",
    "print(\"Test diamond kernel:\")\n",
    "args = (test_erosion_kernel_diamond_3, test_erosion_kernel_diamond_5, test_erosion_kernel_diamond_7)\n",
    "test_erosion_kernel_diamond = np.concatenate(args, axis = -1)\n",
    "print(test_erosion_kernel_diamond.shape)\n",
    "print(\"--------------------------\")"
   ]
  },
  {
   "cell_type": "markdown",
   "metadata": {},
   "source": [
    "# Visualisation:"
   ]
  },
  {
   "cell_type": "code",
   "execution_count": 92,
   "metadata": {
    "ExecuteTime": {
     "end_time": "2020-11-22T16:22:12.704096Z",
     "start_time": "2020-11-22T16:22:12.382928Z"
    },
    "scrolled": true
   },
   "outputs": [
    {
     "name": "stdout",
     "output_type": "stream",
     "text": [
      "Diamond opening\n"
     ]
    },
    {
     "data": {
      "image/png": "[encoded data removed]",
      "text/plain": [
       "<Figure size 432x288 with 1 Axes>"
      ]
     },
     "metadata": {
      "needs_background": "light"
     },
     "output_type": "display_data"
    },
    {
     "data": {
      "image/png": "[encoded data removed]",
      "text/plain": [
       "<Figure size 432x288 with 1 Axes>"
      ]
     },
     "metadata": {
      "needs_background": "light"
     },
     "output_type": "display_data"
    },
    {
     "data": {
      "image/png": "[encoded data removed]",
      "text/plain": [
       "<Figure size 432x288 with 1 Axes>"
      ]
     },
     "metadata": {
      "needs_background": "light"
     },
     "output_type": "display_data"
    },
    {
     "data": {
      "image/png": "[encoded data removed]",
      "text/plain": [
       "<Figure size 432x288 with 1 Axes>"
      ]
     },
     "metadata": {
      "needs_background": "light"
     },
     "output_type": "display_data"
    }
   ],
   "source": [
    "id = 0\n",
    "data_original = x_train\n",
    "\n",
    "print(\"Diamond opening\")\n",
    "data_transformation = train_dillatation_kernel_diamond\n",
    "\n",
    "plt.imshow(data_original[id]); plt.show()\n",
    "plt.imshow(data_transformation[id,:,:,0]); plt.show()\n",
    "plt.imshow(data_transformation[id,:,:,1]); plt.show()\n",
    "plt.imshow(data_transformation[id,:,:,2]); plt.show()"
   ]
  },
  {
   "cell_type": "code",
   "execution_count": 93,
   "metadata": {
    "ExecuteTime": {
     "end_time": "2020-11-22T16:22:28.758171Z",
     "start_time": "2020-11-22T16:22:28.450966Z"
    },
    "scrolled": true
   },
   "outputs": [
    {
     "name": "stdout",
     "output_type": "stream",
     "text": [
      "Diamond opening\n"
     ]
    },
    {
     "data": {
      "image/png": "[encoded data removed]",
      "text/plain": [
       "<Figure size 432x288 with 1 Axes>"
      ]
     },
     "metadata": {
      "needs_background": "light"
     },
     "output_type": "display_data"
    },
    {
     "data": {
      "image/png": "[encoded data removed]",
      "text/plain": [
       "<Figure size 432x288 with 1 Axes>"
      ]
     },
     "metadata": {
      "needs_background": "light"
     },
     "output_type": "display_data"
    },
    {
     "data": {
      "image/png": "[encoded data removed]",
      "text/plain": [
       "<Figure size 432x288 with 1 Axes>"
      ]
     },
     "metadata": {
      "needs_background": "light"
     },
     "output_type": "display_data"
    },
    {
     "data": {
      "image/png": "[encoded data removed]",
      "text/plain": [
       "<Figure size 432x288 with 1 Axes>"
      ]
     },
     "metadata": {
      "needs_background": "light"
     },
     "output_type": "display_data"
    }
   ],
   "source": [
    "id = 0\n",
    "data_original = x_train\n",
    "\n",
    "print(\"Diamond opening\")\n",
    "data_transformation = train_erosion_kernel_diamond\n",
    "\n",
    "plt.imshow(data_original[id]); plt.show()\n",
    "plt.imshow(data_transformation[id,:,:,0]); plt.show()\n",
    "plt.imshow(data_transformation[id,:,:,1]); plt.show()\n",
    "plt.imshow(data_transformation[id,:,:,2]); plt.show()"
   ]
  },
  {
   "cell_type": "code",
   "execution_count": 94,
   "metadata": {
    "ExecuteTime": {
     "end_time": "2020-11-22T16:22:41.671845Z",
     "start_time": "2020-11-22T16:22:41.365434Z"
    },
    "scrolled": true
   },
   "outputs": [
    {
     "name": "stdout",
     "output_type": "stream",
     "text": [
      "Diamond opening\n"
     ]
    },
    {
     "data": {
      "image/png": "[encoded data removed]",
      "text/plain": [
       "<Figure size 432x288 with 1 Axes>"
      ]
     },
     "metadata": {
      "needs_background": "light"
     },
     "output_type": "display_data"
    },
    {
     "data": {
      "image/png": "[encoded data removed]",
      "text/plain": [
       "<Figure size 432x288 with 1 Axes>"
      ]
     },
     "metadata": {
      "needs_background": "light"
     },
     "output_type": "display_data"
    },
    {
     "data": {
      "image/png": "[encoded data removed]",
      "text/plain": [
       "<Figure size 432x288 with 1 Axes>"
      ]
     },
     "metadata": {
      "needs_background": "light"
     },
     "output_type": "display_data"
    },
    {
     "data": {
      "image/png": "[encoded data removed]",
      "text/plain": [
       "<Figure size 432x288 with 1 Axes>"
      ]
     },
     "metadata": {
      "needs_background": "light"
     },
     "output_type": "display_data"
    }
   ],
   "source": [
    "id = 0\n",
    "data_original = x_train\n",
    "\n",
    "print(\"Diamond opening\")\n",
    "data_transformation = train_opening_kernel_diamond\n",
    "\n",
    "plt.imshow(data_original[id]); plt.show()\n",
    "plt.imshow(data_transformation[id,:,:,0]); plt.show()\n",
    "plt.imshow(data_transformation[id,:,:,1]); plt.show()\n",
    "plt.imshow(data_transformation[id,:,:,2]); plt.show()"
   ]
  },
  {
   "cell_type": "code",
   "execution_count": 95,
   "metadata": {
    "ExecuteTime": {
     "end_time": "2020-11-22T16:22:55.097944Z",
     "start_time": "2020-11-22T16:22:54.789738Z"
    },
    "scrolled": true
   },
   "outputs": [
    {
     "name": "stdout",
     "output_type": "stream",
     "text": [
      "Diamond opening\n"
     ]
    },
    {
     "data": {
      "image/png": "[encoded data removed]",
      "text/plain": [
       "<Figure size 432x288 with 1 Axes>"
      ]
     },
     "metadata": {
      "needs_background": "light"
     },
     "output_type": "display_data"
    },
    {
     "data": {
      "image/png": "[encoded data removed]",
      "text/plain": [
       "<Figure size 432x288 with 1 Axes>"
      ]
     },
     "metadata": {
      "needs_background": "light"
     },
     "output_type": "display_data"
    },
    {
     "data": {
      "image/png": "[encoded data removed]",
      "text/plain": [
       "<Figure size 432x288 with 1 Axes>"
      ]
     },
     "metadata": {
      "needs_background": "light"
     },
     "output_type": "display_data"
    },
    {
     "data": {
      "image/png": "[encoded data removed]",
      "text/plain": [
       "<Figure size 432x288 with 1 Axes>"
      ]
     },
     "metadata": {
      "needs_background": "light"
     },
     "output_type": "display_data"
    }
   ],
   "source": [
    "id = 0\n",
    "data_original = x_train\n",
    "\n",
    "print(\"Diamond opening\")\n",
    "data_transformation = train_closing_kernel_diamond\n",
    "\n",
    "plt.imshow(data_original[id]); plt.show()\n",
    "plt.imshow(data_transformation[id,:,:,0]); plt.show()\n",
    "plt.imshow(data_transformation[id,:,:,1]); plt.show()\n",
    "plt.imshow(data_transformation[id,:,:,2]); plt.show()"
   ]
  },
  {
   "cell_type": "markdown",
   "metadata": {},
   "source": [
    "# Settings:"
   ]
  },
  {
   "cell_type": "code",
   "execution_count": 15,
   "metadata": {
    "ExecuteTime": {
     "end_time": "2020-11-22T14:23:44.733079Z",
     "start_time": "2020-11-22T14:23:44.730088Z"
    }
   },
   "outputs": [],
   "source": [
    "batch_size = 512\n",
    "epochs = 100\n",
    "early_stopping = 10\n",
    "shuffle = True\n",
    "callbacks = [tf.keras.callbacks.EarlyStopping(patience = early_stopping)]"
   ]
  },
  {
   "cell_type": "markdown",
   "metadata": {},
   "source": [
    "# Reference model:"
   ]
  },
  {
   "cell_type": "markdown",
   "metadata": {},
   "source": [
    "## Build reference models:"
   ]
  },
  {
   "cell_type": "code",
   "execution_count": 16,
   "metadata": {
    "ExecuteTime": {
     "end_time": "2020-11-22T14:23:45.080122Z",
     "start_time": "2020-11-22T14:23:44.734048Z"
    }
   },
   "outputs": [
    {
     "name": "stdout",
     "output_type": "stream",
     "text": [
      "Model: \"model_1\"\n",
      "_________________________________________________________________\n",
      "Layer (type)                 Output Shape              Param #   \n",
      "=================================================================\n",
      "input_1 (InputLayer)         [(None, 28, 28, 1)]       0         \n",
      "_________________________________________________________________\n",
      "conv2d (Conv2D)              (None, 28, 28, 32)        320       \n",
      "_________________________________________________________________\n",
      "conv2d_1 (Conv2D)            (None, 28, 28, 32)        9248      \n",
      "_________________________________________________________________\n",
      "max_pooling2d (MaxPooling2D) (None, 14, 14, 32)        0         \n",
      "_________________________________________________________________\n",
      "flatten (Flatten)            (None, 6272)              0         \n",
      "_________________________________________________________________\n",
      "dense (Dense)                (None, 128)               802944    \n",
      "_________________________________________________________________\n",
      "dense_1 (Dense)              (None, 10)                1290      \n",
      "=================================================================\n",
      "Total params: 813,802\n",
      "Trainable params: 813,802\n",
      "Non-trainable params: 0\n",
      "_________________________________________________________________\n",
      "\n",
      "\n",
      "Model: \"model_2\"\n",
      "_________________________________________________________________\n",
      "Layer (type)                 Output Shape              Param #   \n",
      "=================================================================\n",
      "input_1 (InputLayer)         [(None, 28, 28, 1)]       0         \n",
      "_________________________________________________________________\n",
      "conv2d (Conv2D)              (None, 28, 28, 32)        320       \n",
      "_________________________________________________________________\n",
      "batch_normalization (BatchNo (None, 28, 28, 32)        128       \n",
      "_________________________________________________________________\n",
      "dropout (Dropout)            (None, 28, 28, 32)        0         \n",
      "_________________________________________________________________\n",
      "conv2d_1 (Conv2D)            (None, 28, 28, 32)        9248      \n",
      "_________________________________________________________________\n",
      "batch_normalization_1 (Batch (None, 28, 28, 32)        128       \n",
      "_________________________________________________________________\n",
      "dropout_1 (Dropout)          (None, 28, 28, 32)        0         \n",
      "_________________________________________________________________\n",
      "max_pooling2d (MaxPooling2D) (None, 14, 14, 32)        0         \n",
      "_________________________________________________________________\n",
      "flatten (Flatten)            (None, 6272)              0         \n",
      "_________________________________________________________________\n",
      "dense (Dense)                (None, 128)               802944    \n",
      "_________________________________________________________________\n",
      "batch_normalization_2 (Batch (None, 128)               512       \n",
      "_________________________________________________________________\n",
      "dropout_2 (Dropout)          (None, 128)               0         \n",
      "_________________________________________________________________\n",
      "dense_1 (Dense)              (None, 10)                1290      \n",
      "=================================================================\n",
      "Total params: 814,570\n",
      "Trainable params: 814,186\n",
      "Non-trainable params: 384\n",
      "_________________________________________________________________\n",
      "\n",
      "\n",
      "Model: \"model_3\"\n",
      "_________________________________________________________________\n",
      "Layer (type)                 Output Shape              Param #   \n",
      "=================================================================\n",
      "input_1 (InputLayer)         [(None, 28, 28, 1)]       0         \n",
      "_________________________________________________________________\n",
      "conv2d (Conv2D)              (None, 28, 28, 32)        320       \n",
      "_________________________________________________________________\n",
      "batch_normalization (BatchNo (None, 28, 28, 32)        128       \n",
      "_________________________________________________________________\n",
      "dropout (Dropout)            (None, 28, 28, 32)        0         \n",
      "_________________________________________________________________\n",
      "conv2d_1 (Conv2D)            (None, 28, 28, 32)        9248      \n",
      "_________________________________________________________________\n",
      "batch_normalization_1 (Batch (None, 28, 28, 32)        128       \n",
      "_________________________________________________________________\n",
      "dropout_1 (Dropout)          (None, 28, 28, 32)        0         \n",
      "_________________________________________________________________\n",
      "max_pooling2d (MaxPooling2D) (None, 14, 14, 32)        0         \n",
      "_________________________________________________________________\n",
      "conv2d_2 (Conv2D)            (None, 14, 14, 64)        18496     \n",
      "_________________________________________________________________\n",
      "batch_normalization_2 (Batch (None, 14, 14, 64)        256       \n",
      "_________________________________________________________________\n",
      "dropout_2 (Dropout)          (None, 14, 14, 64)        0         \n",
      "_________________________________________________________________\n",
      "conv2d_3 (Conv2D)            (None, 14, 14, 64)        36928     \n",
      "_________________________________________________________________\n",
      "batch_normalization_3 (Batch (None, 14, 14, 64)        256       \n",
      "_________________________________________________________________\n",
      "dropout_3 (Dropout)          (None, 14, 14, 64)        0         \n",
      "_________________________________________________________________\n",
      "max_pooling2d_1 (MaxPooling2 (None, 7, 7, 64)          0         \n",
      "_________________________________________________________________\n",
      "flatten (Flatten)            (None, 3136)              0         \n",
      "_________________________________________________________________\n",
      "dense (Dense)                (None, 128)               401536    \n",
      "_________________________________________________________________\n",
      "batch_normalization_4 (Batch (None, 128)               512       \n",
      "_________________________________________________________________\n",
      "dropout_4 (Dropout)          (None, 128)               0         \n",
      "_________________________________________________________________\n",
      "dense_1 (Dense)              (None, 10)                1290      \n",
      "=================================================================\n",
      "Total params: 469,098\n",
      "Trainable params: 468,458\n",
      "Non-trainable params: 640\n",
      "_________________________________________________________________\n",
      "\n",
      "\n"
     ]
    }
   ],
   "source": [
    "reference_model_1 = build_model_1(image_size = 28, channels = 1, start_neurons = 32, dense_neurons = 128); reference_model_1.summary(); print(\"\\n\")\n",
    "reference_model_2 = build_model_2(image_size = 28, channels = 1, start_neurons = 32, dense_neurons = 128); reference_model_2.summary(); print(\"\\n\")\n",
    "reference_model_3 = build_model_3(image_size = 28, channels = 1, start_neurons = 32, dense_neurons = 128); reference_model_3.summary(); print(\"\\n\")"
   ]
  },
  {
   "cell_type": "markdown",
   "metadata": {},
   "source": [
    "## Compile reference models:"
   ]
  },
  {
   "cell_type": "code",
   "execution_count": 17,
   "metadata": {
    "ExecuteTime": {
     "end_time": "2020-11-22T14:23:45.145977Z",
     "start_time": "2020-11-22T14:23:45.081120Z"
    }
   },
   "outputs": [],
   "source": [
    "reference_model_1.compile(optimizer = tf.keras.optimizers.Adam(),\n",
    "                          loss = tf.keras.losses.categorical_crossentropy,\n",
    "                          metrics = [\"accuracy\"])\n",
    "reference_model_2.compile(optimizer = tf.keras.optimizers.Adam(),\n",
    "                          loss = tf.keras.losses.categorical_crossentropy,\n",
    "                          metrics = [\"accuracy\"])\n",
    "reference_model_3.compile(optimizer = tf.keras.optimizers.Adam(),\n",
    "                          loss = tf.keras.losses.categorical_crossentropy,\n",
    "                          metrics = [\"accuracy\"])"
   ]
  },
  {
   "cell_type": "markdown",
   "metadata": {},
   "source": [
    "## Train reference models:"
   ]
  },
  {
   "cell_type": "code",
   "execution_count": 18,
   "metadata": {
    "ExecuteTime": {
     "end_time": "2020-11-22T14:27:23.108634Z",
     "start_time": "2020-11-22T14:23:45.146944Z"
    },
    "scrolled": true
   },
   "outputs": [
    {
     "name": "stdout",
     "output_type": "stream",
     "text": [
      "Train on 48000 samples, validate on 12000 samples\n",
      "Epoch 1/100\n",
      "48000/48000 [==============================] - 4s 85us/sample - loss: 0.4136 - accuracy: 0.8913 - val_loss: 0.1410 - val_accuracy: 0.9606\n",
      "Epoch 2/100\n",
      "48000/48000 [==============================] - 1s 26us/sample - loss: 0.0977 - accuracy: 0.9714 - val_loss: 0.0689 - val_accuracy: 0.9796\n",
      "Epoch 3/100\n",
      "48000/48000 [==============================] - 1s 26us/sample - loss: 0.0604 - accuracy: 0.9818 - val_loss: 0.0576 - val_accuracy: 0.9831\n",
      "Epoch 4/100\n",
      "48000/48000 [==============================] - 1s 26us/sample - loss: 0.0435 - accuracy: 0.9871 - val_loss: 0.0550 - val_accuracy: 0.9824\n",
      "Epoch 5/100\n",
      "48000/48000 [==============================] - 1s 26us/sample - loss: 0.0325 - accuracy: 0.9901 - val_loss: 0.0457 - val_accuracy: 0.9860\n",
      "Epoch 6/100\n",
      "48000/48000 [==============================] - 1s 26us/sample - loss: 0.0249 - accuracy: 0.9925 - val_loss: 0.0465 - val_accuracy: 0.9852\n",
      "Epoch 7/100\n",
      "48000/48000 [==============================] - 1s 26us/sample - loss: 0.0217 - accuracy: 0.9932 - val_loss: 0.0492 - val_accuracy: 0.9852\n",
      "Epoch 8/100\n",
      "48000/48000 [==============================] - 1s 26us/sample - loss: 0.0164 - accuracy: 0.9952 - val_loss: 0.0446 - val_accuracy: 0.9873\n",
      "Epoch 9/100\n",
      "48000/48000 [==============================] - 1s 26us/sample - loss: 0.0123 - accuracy: 0.9963 - val_loss: 0.0456 - val_accuracy: 0.9879\n",
      "Epoch 10/100\n",
      "48000/48000 [==============================] - 1s 26us/sample - loss: 0.0090 - accuracy: 0.9973 - val_loss: 0.0446 - val_accuracy: 0.9880\n",
      "Epoch 11/100\n",
      "48000/48000 [==============================] - 1s 26us/sample - loss: 0.0067 - accuracy: 0.9981 - val_loss: 0.0486 - val_accuracy: 0.9873\n",
      "Epoch 12/100\n",
      "48000/48000 [==============================] - 1s 26us/sample - loss: 0.0061 - accuracy: 0.9983 - val_loss: 0.0473 - val_accuracy: 0.9887\n",
      "Epoch 13/100\n",
      "48000/48000 [==============================] - 1s 26us/sample - loss: 0.0034 - accuracy: 0.9992 - val_loss: 0.0476 - val_accuracy: 0.9890\n",
      "Epoch 14/100\n",
      "48000/48000 [==============================] - 1s 26us/sample - loss: 0.0033 - accuracy: 0.9990 - val_loss: 0.0522 - val_accuracy: 0.9881\n",
      "Epoch 15/100\n",
      "48000/48000 [==============================] - 1s 26us/sample - loss: 0.0050 - accuracy: 0.9986 - val_loss: 0.0574 - val_accuracy: 0.9871\n",
      "Epoch 16/100\n",
      "48000/48000 [==============================] - 1s 26us/sample - loss: 0.0035 - accuracy: 0.9991 - val_loss: 0.0598 - val_accuracy: 0.9863\n",
      "Epoch 17/100\n",
      "48000/48000 [==============================] - 1s 26us/sample - loss: 0.0056 - accuracy: 0.9981 - val_loss: 0.0538 - val_accuracy: 0.9885\n",
      "Epoch 18/100\n",
      "48000/48000 [==============================] - 1s 26us/sample - loss: 0.0023 - accuracy: 0.9994 - val_loss: 0.0555 - val_accuracy: 0.9886\n",
      "Train on 48000 samples, validate on 12000 samples\n",
      "Epoch 1/100\n",
      "48000/48000 [==============================] - 3s 52us/sample - loss: 0.3985 - accuracy: 0.8798 - val_loss: 2.6950 - val_accuracy: 0.2908\n",
      "Epoch 2/100\n",
      "48000/48000 [==============================] - 2s 40us/sample - loss: 0.1430 - accuracy: 0.9575 - val_loss: 3.9752 - val_accuracy: 0.0980\n",
      "Epoch 3/100\n",
      "48000/48000 [==============================] - 2s 40us/sample - loss: 0.1014 - accuracy: 0.9693 - val_loss: 6.4644 - val_accuracy: 0.1406\n",
      "Epoch 4/100\n",
      "48000/48000 [==============================] - 2s 40us/sample - loss: 0.0805 - accuracy: 0.9759 - val_loss: 6.3519 - val_accuracy: 0.1636\n",
      "Epoch 5/100\n",
      "48000/48000 [==============================] - 2s 40us/sample - loss: 0.0701 - accuracy: 0.9786 - val_loss: 4.0918 - val_accuracy: 0.3755\n",
      "Epoch 6/100\n",
      "48000/48000 [==============================] - 2s 40us/sample - loss: 0.0619 - accuracy: 0.9810 - val_loss: 1.5259 - val_accuracy: 0.6135\n",
      "Epoch 7/100\n",
      "48000/48000 [==============================] - 2s 40us/sample - loss: 0.0556 - accuracy: 0.9828 - val_loss: 0.7595 - val_accuracy: 0.7855\n",
      "Epoch 8/100\n",
      "48000/48000 [==============================] - 2s 40us/sample - loss: 0.0533 - accuracy: 0.9829 - val_loss: 0.2635 - val_accuracy: 0.9204\n",
      "Epoch 9/100\n",
      "48000/48000 [==============================] - 2s 40us/sample - loss: 0.0469 - accuracy: 0.9856 - val_loss: 0.1632 - val_accuracy: 0.9516\n",
      "Epoch 10/100\n",
      "48000/48000 [==============================] - 2s 40us/sample - loss: 0.0456 - accuracy: 0.9855 - val_loss: 0.1220 - val_accuracy: 0.9643\n",
      "Epoch 11/100\n",
      "48000/48000 [==============================] - 2s 40us/sample - loss: 0.0427 - accuracy: 0.9865 - val_loss: 0.1078 - val_accuracy: 0.9695\n",
      "Epoch 12/100\n",
      "48000/48000 [==============================] - 2s 40us/sample - loss: 0.0398 - accuracy: 0.9870 - val_loss: 0.1418 - val_accuracy: 0.9582\n",
      "Epoch 13/100\n",
      "48000/48000 [==============================] - 2s 40us/sample - loss: 0.0368 - accuracy: 0.9885 - val_loss: 0.0809 - val_accuracy: 0.9745\n",
      "Epoch 14/100\n",
      "48000/48000 [==============================] - 2s 40us/sample - loss: 0.0359 - accuracy: 0.9889 - val_loss: 0.0995 - val_accuracy: 0.9682\n",
      "Epoch 15/100\n",
      "48000/48000 [==============================] - 2s 40us/sample - loss: 0.0332 - accuracy: 0.9898 - val_loss: 0.0788 - val_accuracy: 0.9760\n",
      "Epoch 16/100\n",
      "48000/48000 [==============================] - 2s 40us/sample - loss: 0.0334 - accuracy: 0.9895 - val_loss: 0.1020 - val_accuracy: 0.9689\n",
      "Epoch 17/100\n",
      "48000/48000 [==============================] - 2s 40us/sample - loss: 0.0299 - accuracy: 0.9907 - val_loss: 0.0787 - val_accuracy: 0.9755\n",
      "Epoch 18/100\n",
      "48000/48000 [==============================] - 2s 40us/sample - loss: 0.0292 - accuracy: 0.9906 - val_loss: 0.1565 - val_accuracy: 0.9582\n",
      "Epoch 19/100\n",
      "48000/48000 [==============================] - 2s 40us/sample - loss: 0.0290 - accuracy: 0.9902 - val_loss: 0.1097 - val_accuracy: 0.9689\n",
      "Epoch 20/100\n",
      "48000/48000 [==============================] - 2s 40us/sample - loss: 0.0278 - accuracy: 0.9910 - val_loss: 0.0729 - val_accuracy: 0.9778\n",
      "Epoch 21/100\n",
      "48000/48000 [==============================] - 2s 40us/sample - loss: 0.0276 - accuracy: 0.9908 - val_loss: 0.1099 - val_accuracy: 0.9675\n",
      "Epoch 22/100\n",
      "48000/48000 [==============================] - 2s 40us/sample - loss: 0.0263 - accuracy: 0.9913 - val_loss: 0.0964 - val_accuracy: 0.9721\n",
      "Epoch 23/100\n",
      "48000/48000 [==============================] - 2s 40us/sample - loss: 0.0241 - accuracy: 0.9925 - val_loss: 0.0912 - val_accuracy: 0.9728\n",
      "Epoch 24/100\n",
      "48000/48000 [==============================] - 2s 40us/sample - loss: 0.0249 - accuracy: 0.9921 - val_loss: 0.0621 - val_accuracy: 0.9816\n",
      "Epoch 25/100\n",
      "48000/48000 [==============================] - 2s 40us/sample - loss: 0.0230 - accuracy: 0.9923 - val_loss: 0.0794 - val_accuracy: 0.9767\n",
      "Epoch 26/100\n",
      "48000/48000 [==============================] - 2s 40us/sample - loss: 0.0223 - accuracy: 0.9925 - val_loss: 0.0635 - val_accuracy: 0.9810\n",
      "Epoch 27/100\n",
      "48000/48000 [==============================] - 2s 40us/sample - loss: 0.0218 - accuracy: 0.9929 - val_loss: 0.0742 - val_accuracy: 0.9782\n",
      "Epoch 28/100\n",
      "48000/48000 [==============================] - 2s 40us/sample - loss: 0.0219 - accuracy: 0.9929 - val_loss: 0.1068 - val_accuracy: 0.9697\n",
      "Epoch 29/100\n",
      "48000/48000 [==============================] - 2s 40us/sample - loss: 0.0191 - accuracy: 0.9935 - val_loss: 0.0923 - val_accuracy: 0.9748\n",
      "Epoch 30/100\n",
      "48000/48000 [==============================] - 2s 40us/sample - loss: 0.0199 - accuracy: 0.9934 - val_loss: 0.0614 - val_accuracy: 0.9826\n",
      "Epoch 31/100\n",
      "48000/48000 [==============================] - 2s 40us/sample - loss: 0.0202 - accuracy: 0.9936 - val_loss: 0.1185 - val_accuracy: 0.9703\n",
      "Epoch 32/100\n",
      "48000/48000 [==============================] - 2s 40us/sample - loss: 0.0183 - accuracy: 0.9940 - val_loss: 0.2275 - val_accuracy: 0.9622\n",
      "Epoch 33/100\n",
      "48000/48000 [==============================] - 2s 40us/sample - loss: 0.0193 - accuracy: 0.9937 - val_loss: 0.0698 - val_accuracy: 0.9809\n",
      "Epoch 34/100\n",
      "48000/48000 [==============================] - 2s 40us/sample - loss: 0.0168 - accuracy: 0.9948 - val_loss: 0.1117 - val_accuracy: 0.9729\n",
      "Epoch 35/100\n",
      "48000/48000 [==============================] - 2s 40us/sample - loss: 0.0183 - accuracy: 0.9938 - val_loss: 0.1841 - val_accuracy: 0.9668\n",
      "Epoch 36/100\n",
      "48000/48000 [==============================] - 2s 40us/sample - loss: 0.0179 - accuracy: 0.9938 - val_loss: 0.1418 - val_accuracy: 0.9696\n"
     ]
    },
    {
     "name": "stdout",
     "output_type": "stream",
     "text": [
      "Epoch 37/100\n",
      "48000/48000 [==============================] - 2s 40us/sample - loss: 0.0165 - accuracy: 0.9946 - val_loss: 0.0578 - val_accuracy: 0.9830\n",
      "Epoch 38/100\n",
      "48000/48000 [==============================] - 2s 40us/sample - loss: 0.0156 - accuracy: 0.9950 - val_loss: 0.0978 - val_accuracy: 0.9753\n",
      "Epoch 39/100\n",
      "48000/48000 [==============================] - 2s 40us/sample - loss: 0.0154 - accuracy: 0.9947 - val_loss: 0.1031 - val_accuracy: 0.9740\n",
      "Epoch 40/100\n",
      "48000/48000 [==============================] - 2s 40us/sample - loss: 0.0145 - accuracy: 0.9951 - val_loss: 0.2181 - val_accuracy: 0.9640\n",
      "Epoch 41/100\n",
      "48000/48000 [==============================] - 2s 40us/sample - loss: 0.0163 - accuracy: 0.9944 - val_loss: 0.1405 - val_accuracy: 0.9703\n",
      "Epoch 42/100\n",
      "48000/48000 [==============================] - 2s 40us/sample - loss: 0.0162 - accuracy: 0.9946 - val_loss: 0.0867 - val_accuracy: 0.9780\n",
      "Epoch 43/100\n",
      "48000/48000 [==============================] - 2s 40us/sample - loss: 0.0150 - accuracy: 0.9952 - val_loss: 0.0677 - val_accuracy: 0.9822\n",
      "Epoch 44/100\n",
      "48000/48000 [==============================] - 2s 40us/sample - loss: 0.0151 - accuracy: 0.9949 - val_loss: 0.1053 - val_accuracy: 0.9741\n",
      "Epoch 45/100\n",
      "48000/48000 [==============================] - 2s 40us/sample - loss: 0.0159 - accuracy: 0.9943 - val_loss: 0.2767 - val_accuracy: 0.9559\n",
      "Epoch 46/100\n",
      "48000/48000 [==============================] - 2s 40us/sample - loss: 0.0144 - accuracy: 0.9951 - val_loss: 0.1057 - val_accuracy: 0.9763\n",
      "Epoch 47/100\n",
      "48000/48000 [==============================] - 2s 40us/sample - loss: 0.0134 - accuracy: 0.9955 - val_loss: 0.0883 - val_accuracy: 0.9782\n",
      "Train on 48000 samples, validate on 12000 samples\n",
      "Epoch 1/100\n",
      "48000/48000 [==============================] - 4s 86us/sample - loss: 0.6739 - accuracy: 0.7937 - val_loss: 4.0926 - val_accuracy: 0.1102\n",
      "Epoch 2/100\n",
      "48000/48000 [==============================] - 3s 60us/sample - loss: 0.1961 - accuracy: 0.9403 - val_loss: 3.7917 - val_accuracy: 0.1529\n",
      "Epoch 3/100\n",
      "48000/48000 [==============================] - 3s 60us/sample - loss: 0.1345 - accuracy: 0.9599 - val_loss: 2.2478 - val_accuracy: 0.3043\n",
      "Epoch 4/100\n",
      "48000/48000 [==============================] - 3s 60us/sample - loss: 0.1079 - accuracy: 0.9678 - val_loss: 1.1995 - val_accuracy: 0.5735\n",
      "Epoch 5/100\n",
      "48000/48000 [==============================] - 3s 60us/sample - loss: 0.0908 - accuracy: 0.9725 - val_loss: 0.5649 - val_accuracy: 0.8391\n",
      "Epoch 6/100\n",
      "48000/48000 [==============================] - 3s 60us/sample - loss: 0.0781 - accuracy: 0.9751 - val_loss: 0.2737 - val_accuracy: 0.9374\n",
      "Epoch 7/100\n",
      "48000/48000 [==============================] - 3s 60us/sample - loss: 0.0735 - accuracy: 0.9785 - val_loss: 0.1387 - val_accuracy: 0.9705\n",
      "Epoch 8/100\n",
      "48000/48000 [==============================] - 3s 60us/sample - loss: 0.0645 - accuracy: 0.9805 - val_loss: 0.0957 - val_accuracy: 0.9771\n",
      "Epoch 9/100\n",
      "48000/48000 [==============================] - 3s 60us/sample - loss: 0.0596 - accuracy: 0.9812 - val_loss: 0.0704 - val_accuracy: 0.9852\n",
      "Epoch 10/100\n",
      "48000/48000 [==============================] - 3s 60us/sample - loss: 0.0547 - accuracy: 0.9832 - val_loss: 0.0596 - val_accuracy: 0.9859\n",
      "Epoch 11/100\n",
      "48000/48000 [==============================] - 3s 60us/sample - loss: 0.0520 - accuracy: 0.9838 - val_loss: 0.0587 - val_accuracy: 0.9847\n",
      "Epoch 12/100\n",
      "48000/48000 [==============================] - 3s 60us/sample - loss: 0.0486 - accuracy: 0.9847 - val_loss: 0.0651 - val_accuracy: 0.9825\n",
      "Epoch 13/100\n",
      "48000/48000 [==============================] - 3s 60us/sample - loss: 0.0467 - accuracy: 0.9852 - val_loss: 0.0441 - val_accuracy: 0.9902\n",
      "Epoch 14/100\n",
      "48000/48000 [==============================] - 3s 60us/sample - loss: 0.0452 - accuracy: 0.9862 - val_loss: 0.0445 - val_accuracy: 0.9889\n",
      "Epoch 15/100\n",
      "48000/48000 [==============================] - 3s 60us/sample - loss: 0.0430 - accuracy: 0.9866 - val_loss: 0.0460 - val_accuracy: 0.9886\n",
      "Epoch 16/100\n",
      "48000/48000 [==============================] - 3s 60us/sample - loss: 0.0391 - accuracy: 0.9881 - val_loss: 0.0525 - val_accuracy: 0.9847\n",
      "Epoch 17/100\n",
      "48000/48000 [==============================] - 3s 60us/sample - loss: 0.0387 - accuracy: 0.9884 - val_loss: 0.0407 - val_accuracy: 0.9897\n",
      "Epoch 18/100\n",
      "48000/48000 [==============================] - 3s 60us/sample - loss: 0.0372 - accuracy: 0.9884 - val_loss: 0.0475 - val_accuracy: 0.9859\n",
      "Epoch 19/100\n",
      "48000/48000 [==============================] - 3s 60us/sample - loss: 0.0363 - accuracy: 0.9888 - val_loss: 0.0428 - val_accuracy: 0.9880\n",
      "Epoch 20/100\n",
      "48000/48000 [==============================] - 3s 60us/sample - loss: 0.0333 - accuracy: 0.9889 - val_loss: 0.0403 - val_accuracy: 0.9891\n",
      "Epoch 21/100\n",
      "48000/48000 [==============================] - 3s 60us/sample - loss: 0.0329 - accuracy: 0.9898 - val_loss: 0.0361 - val_accuracy: 0.9907\n",
      "Epoch 22/100\n",
      "48000/48000 [==============================] - 3s 60us/sample - loss: 0.0321 - accuracy: 0.9898 - val_loss: 0.0344 - val_accuracy: 0.9899\n",
      "Epoch 23/100\n",
      "48000/48000 [==============================] - 3s 60us/sample - loss: 0.0319 - accuracy: 0.9902 - val_loss: 0.0341 - val_accuracy: 0.9902\n",
      "Epoch 24/100\n",
      "48000/48000 [==============================] - 3s 60us/sample - loss: 0.0307 - accuracy: 0.9902 - val_loss: 0.0337 - val_accuracy: 0.9909\n",
      "Epoch 25/100\n",
      "48000/48000 [==============================] - 3s 60us/sample - loss: 0.0302 - accuracy: 0.9901 - val_loss: 0.0272 - val_accuracy: 0.9931\n",
      "Epoch 26/100\n",
      "48000/48000 [==============================] - 3s 60us/sample - loss: 0.0285 - accuracy: 0.9910 - val_loss: 0.0288 - val_accuracy: 0.9920\n",
      "Epoch 27/100\n",
      "48000/48000 [==============================] - 3s 60us/sample - loss: 0.0285 - accuracy: 0.9912 - val_loss: 0.0294 - val_accuracy: 0.9919\n",
      "Epoch 28/100\n",
      "48000/48000 [==============================] - 3s 60us/sample - loss: 0.0253 - accuracy: 0.9919 - val_loss: 0.0339 - val_accuracy: 0.9890\n",
      "Epoch 29/100\n",
      "48000/48000 [==============================] - 3s 60us/sample - loss: 0.0265 - accuracy: 0.9914 - val_loss: 0.0380 - val_accuracy: 0.9881\n",
      "Epoch 30/100\n",
      "48000/48000 [==============================] - 3s 60us/sample - loss: 0.0259 - accuracy: 0.9918 - val_loss: 0.0324 - val_accuracy: 0.9905\n",
      "Epoch 31/100\n",
      "48000/48000 [==============================] - 3s 60us/sample - loss: 0.0251 - accuracy: 0.9919 - val_loss: 0.0297 - val_accuracy: 0.9912\n",
      "Epoch 32/100\n",
      "48000/48000 [==============================] - 3s 60us/sample - loss: 0.0241 - accuracy: 0.9922 - val_loss: 0.0339 - val_accuracy: 0.9900\n",
      "Epoch 33/100\n",
      "48000/48000 [==============================] - 3s 60us/sample - loss: 0.0239 - accuracy: 0.9916 - val_loss: 0.0295 - val_accuracy: 0.9908\n",
      "Epoch 34/100\n",
      "48000/48000 [==============================] - 3s 61us/sample - loss: 0.0239 - accuracy: 0.9917 - val_loss: 0.0318 - val_accuracy: 0.9913\n",
      "Epoch 35/100\n",
      "48000/48000 [==============================] - 3s 60us/sample - loss: 0.0229 - accuracy: 0.9926 - val_loss: 0.0309 - val_accuracy: 0.9915\n"
     ]
    }
   ],
   "source": [
    "tf.keras.backend.clear_session()\n",
    "reference_model_1_results = reference_model_1.fit(x_train,\n",
    "                                        y_train, \n",
    "                                        batch_size = batch_size, \n",
    "                                        epochs = epochs, \n",
    "                                        shuffle = shuffle,\n",
    "                                        callbacks = callbacks,\n",
    "                                        validation_data = (x_val, y_val))\n",
    "\n",
    "tf.keras.backend.clear_session()\n",
    "reference_model_2_results = reference_model_2.fit(x_train,\n",
    "                                        y_train, \n",
    "                                        batch_size = batch_size, \n",
    "                                        epochs = epochs, \n",
    "                                        shuffle = shuffle,\n",
    "                                        callbacks = callbacks,\n",
    "                                        validation_data = (x_val, y_val))\n",
    "\n",
    "tf.keras.backend.clear_session()\n",
    "reference_model_3_results = reference_model_3.fit(x_train,\n",
    "                                        y_train, \n",
    "                                        batch_size = batch_size, \n",
    "                                        epochs = epochs, \n",
    "                                        shuffle = shuffle,\n",
    "                                        callbacks = callbacks,\n",
    "                                        validation_data = (x_val, y_val))"
   ]
  },
  {
   "cell_type": "markdown",
   "metadata": {},
   "source": [
    "## Gather results for reference models:"
   ]
  },
  {
   "cell_type": "code",
   "execution_count": 29,
   "metadata": {
    "ExecuteTime": {
     "end_time": "2020-11-22T15:15:18.656874Z",
     "start_time": "2020-11-22T15:15:18.638952Z"
    },
    "scrolled": true
   },
   "outputs": [
    {
     "data": {
      "text/html": [
       "<div>\n",
       "<style scoped>\n",
       "    .dataframe tbody tr th:only-of-type {\n",
       "        vertical-align: middle;\n",
       "    }\n",
       "\n",
       "    .dataframe tbody tr th {\n",
       "        vertical-align: top;\n",
       "    }\n",
       "\n",
       "    .dataframe thead th {\n",
       "        text-align: right;\n",
       "    }\n",
       "</style>\n",
       "<table border=\"1\" class=\"dataframe\">\n",
       "  <thead>\n",
       "    <tr style=\"text-align: right;\">\n",
       "      <th></th>\n",
       "      <th>loss</th>\n",
       "      <th>accuracy</th>\n",
       "      <th>val_loss</th>\n",
       "      <th>val_accuracy</th>\n",
       "      <th>model</th>\n",
       "      <th>epoch</th>\n",
       "    </tr>\n",
       "  </thead>\n",
       "  <tbody>\n",
       "    <tr>\n",
       "      <th>0</th>\n",
       "      <td>0.413622</td>\n",
       "      <td>0.891271</td>\n",
       "      <td>0.140950</td>\n",
       "      <td>0.960583</td>\n",
       "      <td>reference_model_1</td>\n",
       "      <td>1</td>\n",
       "    </tr>\n",
       "    <tr>\n",
       "      <th>1</th>\n",
       "      <td>0.097740</td>\n",
       "      <td>0.971375</td>\n",
       "      <td>0.068854</td>\n",
       "      <td>0.979583</td>\n",
       "      <td>reference_model_1</td>\n",
       "      <td>2</td>\n",
       "    </tr>\n",
       "    <tr>\n",
       "      <th>2</th>\n",
       "      <td>0.060408</td>\n",
       "      <td>0.981833</td>\n",
       "      <td>0.057613</td>\n",
       "      <td>0.983083</td>\n",
       "      <td>reference_model_1</td>\n",
       "      <td>3</td>\n",
       "    </tr>\n",
       "    <tr>\n",
       "      <th>3</th>\n",
       "      <td>0.043464</td>\n",
       "      <td>0.987063</td>\n",
       "      <td>0.055015</td>\n",
       "      <td>0.982417</td>\n",
       "      <td>reference_model_1</td>\n",
       "      <td>4</td>\n",
       "    </tr>\n",
       "    <tr>\n",
       "      <th>4</th>\n",
       "      <td>0.032529</td>\n",
       "      <td>0.990083</td>\n",
       "      <td>0.045683</td>\n",
       "      <td>0.986000</td>\n",
       "      <td>reference_model_1</td>\n",
       "      <td>5</td>\n",
       "    </tr>\n",
       "    <tr>\n",
       "      <th>...</th>\n",
       "      <td>...</td>\n",
       "      <td>...</td>\n",
       "      <td>...</td>\n",
       "      <td>...</td>\n",
       "      <td>...</td>\n",
       "      <td>...</td>\n",
       "    </tr>\n",
       "    <tr>\n",
       "      <th>30</th>\n",
       "      <td>0.025084</td>\n",
       "      <td>0.991938</td>\n",
       "      <td>0.029724</td>\n",
       "      <td>0.991167</td>\n",
       "      <td>reference_model_3</td>\n",
       "      <td>31</td>\n",
       "    </tr>\n",
       "    <tr>\n",
       "      <th>31</th>\n",
       "      <td>0.024132</td>\n",
       "      <td>0.992188</td>\n",
       "      <td>0.033895</td>\n",
       "      <td>0.990000</td>\n",
       "      <td>reference_model_3</td>\n",
       "      <td>32</td>\n",
       "    </tr>\n",
       "    <tr>\n",
       "      <th>32</th>\n",
       "      <td>0.023907</td>\n",
       "      <td>0.991562</td>\n",
       "      <td>0.029500</td>\n",
       "      <td>0.990833</td>\n",
       "      <td>reference_model_3</td>\n",
       "      <td>33</td>\n",
       "    </tr>\n",
       "    <tr>\n",
       "      <th>33</th>\n",
       "      <td>0.023872</td>\n",
       "      <td>0.991708</td>\n",
       "      <td>0.031759</td>\n",
       "      <td>0.991333</td>\n",
       "      <td>reference_model_3</td>\n",
       "      <td>34</td>\n",
       "    </tr>\n",
       "    <tr>\n",
       "      <th>34</th>\n",
       "      <td>0.022890</td>\n",
       "      <td>0.992562</td>\n",
       "      <td>0.030853</td>\n",
       "      <td>0.991500</td>\n",
       "      <td>reference_model_3</td>\n",
       "      <td>35</td>\n",
       "    </tr>\n",
       "  </tbody>\n",
       "</table>\n",
       "<p>100 rows × 6 columns</p>\n",
       "</div>"
      ],
      "text/plain": [
       "        loss  accuracy  val_loss  val_accuracy              model  epoch\n",
       "0   0.413622  0.891271  0.140950      0.960583  reference_model_1      1\n",
       "1   0.097740  0.971375  0.068854      0.979583  reference_model_1      2\n",
       "2   0.060408  0.981833  0.057613      0.983083  reference_model_1      3\n",
       "3   0.043464  0.987063  0.055015      0.982417  reference_model_1      4\n",
       "4   0.032529  0.990083  0.045683      0.986000  reference_model_1      5\n",
       "..       ...       ...       ...           ...                ...    ...\n",
       "30  0.025084  0.991938  0.029724      0.991167  reference_model_3     31\n",
       "31  0.024132  0.992188  0.033895      0.990000  reference_model_3     32\n",
       "32  0.023907  0.991562  0.029500      0.990833  reference_model_3     33\n",
       "33  0.023872  0.991708  0.031759      0.991333  reference_model_3     34\n",
       "34  0.022890  0.992562  0.030853      0.991500  reference_model_3     35\n",
       "\n",
       "[100 rows x 6 columns]"
      ]
     },
     "execution_count": 29,
     "metadata": {},
     "output_type": "execute_result"
    }
   ],
   "source": [
    "reference_model_1_results_pd = pd.DataFrame(reference_model_1_results.history)\n",
    "reference_model_1_results_pd[\"model\"] = \"reference_model_1\"\n",
    "reference_model_1_results_pd[\"epoch\"] = np.array(reference_model_1_results.epoch) + 1\n",
    "\n",
    "reference_model_2_results_pd = pd.DataFrame(reference_model_2_results.history)\n",
    "reference_model_2_results_pd[\"model\"] = \"reference_model_2\"\n",
    "reference_model_2_results_pd[\"epoch\"] = np.array(reference_model_2_results.epoch) + 1\n",
    "\n",
    "reference_model_3_results_pd = pd.DataFrame(reference_model_3_results.history)\n",
    "reference_model_3_results_pd[\"model\"] = \"reference_model_3\"\n",
    "reference_model_3_results_pd[\"epoch\"] = np.array(reference_model_3_results.epoch) + 1\n",
    "\n",
    "reference_models_results = pd.concat([reference_model_1_results_pd,\n",
    "                                      reference_model_2_results_pd, \n",
    "                                      reference_model_3_results_pd])\n",
    "reference_models_results"
   ]
  },
  {
   "cell_type": "markdown",
   "metadata": {},
   "source": [
    "## Calculate accuracy for reference models:"
   ]
  },
  {
   "cell_type": "code",
   "execution_count": 31,
   "metadata": {
    "ExecuteTime": {
     "end_time": "2020-11-22T15:16:05.361014Z",
     "start_time": "2020-11-22T15:15:48.701540Z"
    }
   },
   "outputs": [
    {
     "name": "stdout",
     "output_type": "stream",
     "text": [
      "48000/48000 [==============================] - 3s 69us/sample - loss: 0.0014 - accuracy: 0.9997\n",
      "12000/12000 [==============================] - 1s 65us/sample - loss: 0.0555 - accuracy: 0.9886\n",
      "10000/10000 [==============================] - 1s 61us/sample - loss: 0.0431 - accuracy: 0.9891\n",
      "48000/48000 [==============================] - 5s 97us/sample - loss: 0.0587 - accuracy: 0.9865\n",
      "12000/12000 [==============================] - 1s 77us/sample - loss: 0.0883 - accuracy: 0.9782\n",
      "10000/10000 [==============================] - 1s 64us/sample - loss: 0.0950 - accuracy: 0.9786\n",
      "48000/48000 [==============================] - 4s 83us/sample - loss: 0.0207 - accuracy: 0.9942\n",
      "12000/12000 [==============================] - 1s 69us/sample - loss: 0.0309 - accuracy: 0.9915\n",
      "10000/10000 [==============================] - 1s 75us/sample - loss: 0.0285 - accuracy: 0.9906\n"
     ]
    }
   ],
   "source": [
    "reference_model_1_train_accuracy = reference_model_1.evaluate(x_train, y_train)[1]\n",
    "reference_model_1_validation_accuracy = reference_model_1.evaluate(x_val, y_val)[1]\n",
    "reference_model_1_test_accuracy = reference_model_1.evaluate(x_test, y_test)[1]\n",
    "\n",
    "reference_model_2_train_accuracy = reference_model_2.evaluate(x_train, y_train)[1]\n",
    "reference_model_2_validation_accuracy = reference_model_2.evaluate(x_val, y_val)[1]\n",
    "reference_model_2_test_accuracy = reference_model_2.evaluate(x_test, y_test)[1]\n",
    "\n",
    "reference_model_3_train_accuracy = reference_model_3.evaluate(x_train, y_train)[1]\n",
    "reference_model_3_validation_accuracy = reference_model_3.evaluate(x_val, y_val)[1]\n",
    "reference_model_3_test_accuracy = reference_model_3.evaluate(x_test, y_test)[1]"
   ]
  },
  {
   "cell_type": "markdown",
   "metadata": {},
   "source": [
    "# Opening & Closing model:"
   ]
  },
  {
   "cell_type": "code",
   "execution_count": 32,
   "metadata": {
    "ExecuteTime": {
     "end_time": "2020-11-22T15:16:09.829077Z",
     "start_time": "2020-11-22T15:16:06.155870Z"
    }
   },
   "outputs": [
    {
     "name": "stdout",
     "output_type": "stream",
     "text": [
      "Train opening & closing:\n",
      "(48000, 28, 28, 19)\n",
      "--------------------------\n",
      "Validation opening & closing:\n",
      "(12000, 28, 28, 19)\n",
      "--------------------------\n",
      "Test opening & closing:\n",
      "(10000, 28, 28, 19)\n",
      "--------------------------\n"
     ]
    }
   ],
   "source": [
    "print(\"Train opening & closing:\")\n",
    "args = (train_opening_kernel_ellipse, train_opening_kernel_rect, train_opening_kernel_diamond,\n",
    "        x_train,\n",
    "        train_closing_kernel_ellipse, train_closing_kernel_rect, train_closing_kernel_diamond)\n",
    "train_opening_closing = np.concatenate(args, axis = -1)\n",
    "print(train_opening_closing.shape)\n",
    "print(\"--------------------------\")\n",
    "\n",
    "print(\"Validation opening & closing:\")\n",
    "args = (val_opening_kernel_ellipse, val_opening_kernel_rect, val_opening_kernel_diamond,\n",
    "        x_val,\n",
    "        val_closing_kernel_ellipse, val_closing_kernel_rect, val_closing_kernel_diamond)\n",
    "val_opening_closing = np.concatenate(args, axis = -1)\n",
    "print(val_opening_closing.shape)\n",
    "print(\"--------------------------\")\n",
    "\n",
    "print(\"Test opening & closing:\")\n",
    "args = (test_opening_kernel_ellipse, test_opening_kernel_rect, test_opening_kernel_diamond,\n",
    "        x_test,\n",
    "        test_closing_kernel_ellipse, test_closing_kernel_rect, test_closing_kernel_diamond)\n",
    "test_opening_closing = np.concatenate(args, axis = -1)\n",
    "print(test_opening_closing.shape)\n",
    "print(\"--------------------------\")"
   ]
  },
  {
   "cell_type": "markdown",
   "metadata": {},
   "source": [
    "## Build opening & closing models:"
   ]
  },
  {
   "cell_type": "code",
   "execution_count": 33,
   "metadata": {
    "ExecuteTime": {
     "end_time": "2020-11-22T15:16:11.132563Z",
     "start_time": "2020-11-22T15:16:10.767539Z"
    }
   },
   "outputs": [
    {
     "name": "stdout",
     "output_type": "stream",
     "text": [
      "Model: \"model_1\"\n",
      "_________________________________________________________________\n",
      "Layer (type)                 Output Shape              Param #   \n",
      "=================================================================\n",
      "input_1 (InputLayer)         [(None, 28, 28, 19)]      0         \n",
      "_________________________________________________________________\n",
      "conv2d (Conv2D)              (None, 28, 28, 32)        5504      \n",
      "_________________________________________________________________\n",
      "conv2d_1 (Conv2D)            (None, 28, 28, 32)        9248      \n",
      "_________________________________________________________________\n",
      "max_pooling2d (MaxPooling2D) (None, 14, 14, 32)        0         \n",
      "_________________________________________________________________\n",
      "flatten (Flatten)            (None, 6272)              0         \n",
      "_________________________________________________________________\n",
      "dense (Dense)                (None, 128)               802944    \n",
      "_________________________________________________________________\n",
      "dense_1 (Dense)              (None, 10)                1290      \n",
      "=================================================================\n",
      "Total params: 818,986\n",
      "Trainable params: 818,986\n",
      "Non-trainable params: 0\n",
      "_________________________________________________________________\n",
      "\n",
      "\n",
      "Model: \"model_2\"\n",
      "_________________________________________________________________\n",
      "Layer (type)                 Output Shape              Param #   \n",
      "=================================================================\n",
      "input_1 (InputLayer)         [(None, 28, 28, 19)]      0         \n",
      "_________________________________________________________________\n",
      "conv2d (Conv2D)              (None, 28, 28, 32)        5504      \n",
      "_________________________________________________________________\n",
      "batch_normalization (BatchNo (None, 28, 28, 32)        128       \n",
      "_________________________________________________________________\n",
      "dropout (Dropout)            (None, 28, 28, 32)        0         \n",
      "_________________________________________________________________\n",
      "conv2d_1 (Conv2D)            (None, 28, 28, 32)        9248      \n",
      "_________________________________________________________________\n",
      "batch_normalization_1 (Batch (None, 28, 28, 32)        128       \n",
      "_________________________________________________________________\n",
      "dropout_1 (Dropout)          (None, 28, 28, 32)        0         \n",
      "_________________________________________________________________\n",
      "max_pooling2d (MaxPooling2D) (None, 14, 14, 32)        0         \n",
      "_________________________________________________________________\n",
      "flatten (Flatten)            (None, 6272)              0         \n",
      "_________________________________________________________________\n",
      "dense (Dense)                (None, 128)               802944    \n",
      "_________________________________________________________________\n",
      "batch_normalization_2 (Batch (None, 128)               512       \n",
      "_________________________________________________________________\n",
      "dropout_2 (Dropout)          (None, 128)               0         \n",
      "_________________________________________________________________\n",
      "dense_1 (Dense)              (None, 10)                1290      \n",
      "=================================================================\n",
      "Total params: 819,754\n",
      "Trainable params: 819,370\n",
      "Non-trainable params: 384\n",
      "_________________________________________________________________\n",
      "\n",
      "\n",
      "Model: \"model_3\"\n",
      "_________________________________________________________________\n",
      "Layer (type)                 Output Shape              Param #   \n",
      "=================================================================\n",
      "input_1 (InputLayer)         [(None, 28, 28, 19)]      0         \n",
      "_________________________________________________________________\n",
      "conv2d (Conv2D)              (None, 28, 28, 32)        5504      \n",
      "_________________________________________________________________\n",
      "batch_normalization (BatchNo (None, 28, 28, 32)        128       \n",
      "_________________________________________________________________\n",
      "dropout (Dropout)            (None, 28, 28, 32)        0         \n",
      "_________________________________________________________________\n",
      "conv2d_1 (Conv2D)            (None, 28, 28, 32)        9248      \n",
      "_________________________________________________________________\n",
      "batch_normalization_1 (Batch (None, 28, 28, 32)        128       \n",
      "_________________________________________________________________\n",
      "dropout_1 (Dropout)          (None, 28, 28, 32)        0         \n",
      "_________________________________________________________________\n",
      "max_pooling2d (MaxPooling2D) (None, 14, 14, 32)        0         \n",
      "_________________________________________________________________\n",
      "conv2d_2 (Conv2D)            (None, 14, 14, 64)        18496     \n",
      "_________________________________________________________________\n",
      "batch_normalization_2 (Batch (None, 14, 14, 64)        256       \n",
      "_________________________________________________________________\n",
      "dropout_2 (Dropout)          (None, 14, 14, 64)        0         \n",
      "_________________________________________________________________\n",
      "conv2d_3 (Conv2D)            (None, 14, 14, 64)        36928     \n",
      "_________________________________________________________________\n",
      "batch_normalization_3 (Batch (None, 14, 14, 64)        256       \n",
      "_________________________________________________________________\n",
      "dropout_3 (Dropout)          (None, 14, 14, 64)        0         \n",
      "_________________________________________________________________\n",
      "max_pooling2d_1 (MaxPooling2 (None, 7, 7, 64)          0         \n",
      "_________________________________________________________________\n",
      "flatten (Flatten)            (None, 3136)              0         \n",
      "_________________________________________________________________\n",
      "dense (Dense)                (None, 128)               401536    \n",
      "_________________________________________________________________\n",
      "batch_normalization_4 (Batch (None, 128)               512       \n",
      "_________________________________________________________________\n",
      "dropout_4 (Dropout)          (None, 128)               0         \n",
      "_________________________________________________________________\n",
      "dense_1 (Dense)              (None, 10)                1290      \n",
      "=================================================================\n",
      "Total params: 474,282\n",
      "Trainable params: 473,642\n",
      "Non-trainable params: 640\n",
      "_________________________________________________________________\n",
      "\n",
      "\n"
     ]
    }
   ],
   "source": [
    "opening_closing_model_1 = build_model_1(image_size = 28, channels = train_opening_closing.shape[3], start_neurons = 32, dense_neurons = 128); opening_closing_model_1.summary(); print(\"\\n\")\n",
    "opening_closing_model_2 = build_model_2(image_size = 28, channels = val_opening_closing.shape[3], start_neurons = 32, dense_neurons = 128); opening_closing_model_2.summary(); print(\"\\n\")\n",
    "opening_closing_model_3 = build_model_3(image_size = 28, channels = test_opening_closing.shape[3], start_neurons = 32, dense_neurons = 128); opening_closing_model_3.summary(); print(\"\\n\")"
   ]
  },
  {
   "cell_type": "markdown",
   "metadata": {},
   "source": [
    "## Compile opening & closing models:"
   ]
  },
  {
   "cell_type": "code",
   "execution_count": 34,
   "metadata": {
    "ExecuteTime": {
     "end_time": "2020-11-22T15:16:12.166820Z",
     "start_time": "2020-11-22T15:16:12.107955Z"
    }
   },
   "outputs": [],
   "source": [
    "opening_closing_model_1.compile(optimizer = tf.keras.optimizers.Adam(),\n",
    "                          loss = tf.keras.losses.categorical_crossentropy,\n",
    "                          metrics = [\"accuracy\"])\n",
    "opening_closing_model_2.compile(optimizer = tf.keras.optimizers.Adam(),\n",
    "                          loss = tf.keras.losses.categorical_crossentropy,\n",
    "                          metrics = [\"accuracy\"])\n",
    "opening_closing_model_3.compile(optimizer = tf.keras.optimizers.Adam(),\n",
    "                          loss = tf.keras.losses.categorical_crossentropy,\n",
    "                          metrics = [\"accuracy\"])"
   ]
  },
  {
   "cell_type": "markdown",
   "metadata": {},
   "source": [
    "## Train opening & closing models:"
   ]
  },
  {
   "cell_type": "code",
   "execution_count": 35,
   "metadata": {
    "ExecuteTime": {
     "end_time": "2020-11-22T15:20:41.903618Z",
     "start_time": "2020-11-22T15:16:13.025503Z"
    },
    "scrolled": true
   },
   "outputs": [
    {
     "name": "stdout",
     "output_type": "stream",
     "text": [
      "Train on 48000 samples, validate on 12000 samples\n",
      "Epoch 1/100\n",
      "48000/48000 [==============================] - 3s 64us/sample - loss: 0.3375 - accuracy: 0.8971 - val_loss: 0.0894 - val_accuracy: 0.9745\n",
      "Epoch 2/100\n",
      "48000/48000 [==============================] - 3s 53us/sample - loss: 0.0744 - accuracy: 0.9773 - val_loss: 0.0601 - val_accuracy: 0.9818\n",
      "Epoch 3/100\n",
      "48000/48000 [==============================] - 3s 53us/sample - loss: 0.0451 - accuracy: 0.9856 - val_loss: 0.0516 - val_accuracy: 0.9847\n",
      "Epoch 4/100\n",
      "48000/48000 [==============================] - 3s 53us/sample - loss: 0.0320 - accuracy: 0.9901 - val_loss: 0.0432 - val_accuracy: 0.9870\n",
      "Epoch 5/100\n",
      "48000/48000 [==============================] - 3s 53us/sample - loss: 0.0224 - accuracy: 0.9932 - val_loss: 0.0497 - val_accuracy: 0.9857\n",
      "Epoch 6/100\n",
      "48000/48000 [==============================] - 3s 53us/sample - loss: 0.0163 - accuracy: 0.9945 - val_loss: 0.0492 - val_accuracy: 0.9853\n",
      "Epoch 7/100\n",
      "48000/48000 [==============================] - 3s 54us/sample - loss: 0.0115 - accuracy: 0.9966 - val_loss: 0.0484 - val_accuracy: 0.9872\n",
      "Epoch 8/100\n",
      "48000/48000 [==============================] - 3s 53us/sample - loss: 0.0094 - accuracy: 0.9971 - val_loss: 0.0503 - val_accuracy: 0.9868\n",
      "Epoch 9/100\n",
      "48000/48000 [==============================] - 3s 53us/sample - loss: 0.0061 - accuracy: 0.9983 - val_loss: 0.0519 - val_accuracy: 0.9873\n",
      "Epoch 10/100\n",
      "48000/48000 [==============================] - 3s 53us/sample - loss: 0.0049 - accuracy: 0.9986 - val_loss: 0.0525 - val_accuracy: 0.9870\n",
      "Epoch 11/100\n",
      "48000/48000 [==============================] - 3s 53us/sample - loss: 0.0044 - accuracy: 0.9987 - val_loss: 0.0630 - val_accuracy: 0.9860\n",
      "Epoch 12/100\n",
      "48000/48000 [==============================] - 3s 53us/sample - loss: 0.0057 - accuracy: 0.9981 - val_loss: 0.0657 - val_accuracy: 0.9851\n",
      "Epoch 13/100\n",
      "48000/48000 [==============================] - 3s 53us/sample - loss: 0.0064 - accuracy: 0.9979 - val_loss: 0.0578 - val_accuracy: 0.9872\n",
      "Epoch 14/100\n",
      "48000/48000 [==============================] - 3s 53us/sample - loss: 0.0037 - accuracy: 0.9989 - val_loss: 0.0537 - val_accuracy: 0.9873\n",
      "Train on 48000 samples, validate on 12000 samples\n",
      "Epoch 1/100\n",
      "48000/48000 [==============================] - 4s 80us/sample - loss: 0.4169 - accuracy: 0.8729 - val_loss: 2.8535 - val_accuracy: 0.2079\n",
      "Epoch 2/100\n",
      "48000/48000 [==============================] - 3s 68us/sample - loss: 0.1531 - accuracy: 0.9533 - val_loss: 4.3911 - val_accuracy: 0.1723\n",
      "Epoch 3/100\n",
      "48000/48000 [==============================] - 3s 67us/sample - loss: 0.1051 - accuracy: 0.9670 - val_loss: 4.2631 - val_accuracy: 0.2369\n",
      "Epoch 4/100\n",
      "48000/48000 [==============================] - 3s 67us/sample - loss: 0.0853 - accuracy: 0.9743 - val_loss: 2.4378 - val_accuracy: 0.4988\n",
      "Epoch 5/100\n",
      "48000/48000 [==============================] - 3s 68us/sample - loss: 0.0697 - accuracy: 0.9789 - val_loss: 0.8285 - val_accuracy: 0.7594\n",
      "Epoch 6/100\n",
      "48000/48000 [==============================] - 3s 67us/sample - loss: 0.0618 - accuracy: 0.9808 - val_loss: 0.3534 - val_accuracy: 0.9017\n",
      "Epoch 7/100\n",
      "48000/48000 [==============================] - 3s 67us/sample - loss: 0.0577 - accuracy: 0.9820 - val_loss: 0.2598 - val_accuracy: 0.9330\n",
      "Epoch 8/100\n",
      "48000/48000 [==============================] - 3s 68us/sample - loss: 0.0519 - accuracy: 0.9842 - val_loss: 0.1415 - val_accuracy: 0.9603\n",
      "Epoch 9/100\n",
      "48000/48000 [==============================] - 3s 68us/sample - loss: 0.0484 - accuracy: 0.9845 - val_loss: 0.0863 - val_accuracy: 0.9772\n",
      "Epoch 10/100\n",
      "48000/48000 [==============================] - 3s 67us/sample - loss: 0.0450 - accuracy: 0.9863 - val_loss: 0.1038 - val_accuracy: 0.9740\n",
      "Epoch 11/100\n",
      "48000/48000 [==============================] - 3s 67us/sample - loss: 0.0388 - accuracy: 0.9879 - val_loss: 0.1153 - val_accuracy: 0.9722\n",
      "Epoch 12/100\n",
      "48000/48000 [==============================] - 3s 67us/sample - loss: 0.0390 - accuracy: 0.9875 - val_loss: 0.0967 - val_accuracy: 0.9768\n",
      "Epoch 13/100\n",
      "48000/48000 [==============================] - 3s 67us/sample - loss: 0.0358 - accuracy: 0.9883 - val_loss: 0.1190 - val_accuracy: 0.9720\n",
      "Epoch 14/100\n",
      "48000/48000 [==============================] - 3s 67us/sample - loss: 0.0335 - accuracy: 0.9894 - val_loss: 0.0913 - val_accuracy: 0.9737\n",
      "Epoch 15/100\n",
      "48000/48000 [==============================] - 3s 67us/sample - loss: 0.0325 - accuracy: 0.9893 - val_loss: 0.1065 - val_accuracy: 0.9727\n",
      "Epoch 16/100\n",
      "48000/48000 [==============================] - 3s 67us/sample - loss: 0.0303 - accuracy: 0.9903 - val_loss: 0.1680 - val_accuracy: 0.9627\n",
      "Epoch 17/100\n",
      "48000/48000 [==============================] - 3s 67us/sample - loss: 0.0298 - accuracy: 0.9903 - val_loss: 0.2141 - val_accuracy: 0.9615\n",
      "Epoch 18/100\n",
      "48000/48000 [==============================] - 3s 67us/sample - loss: 0.0288 - accuracy: 0.9908 - val_loss: 0.1154 - val_accuracy: 0.9728\n",
      "Epoch 19/100\n",
      "48000/48000 [==============================] - 3s 67us/sample - loss: 0.0272 - accuracy: 0.9910 - val_loss: 0.0803 - val_accuracy: 0.9783\n",
      "Epoch 20/100\n",
      "48000/48000 [==============================] - 3s 67us/sample - loss: 0.0259 - accuracy: 0.9915 - val_loss: 0.0774 - val_accuracy: 0.9792\n",
      "Epoch 21/100\n",
      "48000/48000 [==============================] - 3s 67us/sample - loss: 0.0244 - accuracy: 0.9923 - val_loss: 0.1453 - val_accuracy: 0.9710\n",
      "Epoch 22/100\n",
      "48000/48000 [==============================] - 3s 67us/sample - loss: 0.0240 - accuracy: 0.9920 - val_loss: 0.0770 - val_accuracy: 0.9797\n",
      "Epoch 23/100\n",
      "48000/48000 [==============================] - 3s 67us/sample - loss: 0.0238 - accuracy: 0.9921 - val_loss: 0.2202 - val_accuracy: 0.9608\n",
      "Epoch 24/100\n",
      "48000/48000 [==============================] - 3s 67us/sample - loss: 0.0222 - accuracy: 0.9926 - val_loss: 0.4811 - val_accuracy: 0.9328\n",
      "Epoch 25/100\n",
      "48000/48000 [==============================] - 3s 67us/sample - loss: 0.0228 - accuracy: 0.9923 - val_loss: 0.0653 - val_accuracy: 0.9829\n",
      "Epoch 26/100\n",
      "48000/48000 [==============================] - 3s 67us/sample - loss: 0.0220 - accuracy: 0.9926 - val_loss: 0.0636 - val_accuracy: 0.9820\n",
      "Epoch 27/100\n",
      "48000/48000 [==============================] - 3s 67us/sample - loss: 0.0223 - accuracy: 0.9925 - val_loss: 0.0422 - val_accuracy: 0.9886\n",
      "Epoch 28/100\n",
      "48000/48000 [==============================] - 3s 67us/sample - loss: 0.0209 - accuracy: 0.9930 - val_loss: 0.2376 - val_accuracy: 0.9643\n",
      "Epoch 29/100\n",
      "48000/48000 [==============================] - 3s 67us/sample - loss: 0.0197 - accuracy: 0.9932 - val_loss: 0.2102 - val_accuracy: 0.9647\n",
      "Epoch 30/100\n",
      "48000/48000 [==============================] - 3s 69us/sample - loss: 0.0190 - accuracy: 0.9937 - val_loss: 0.6117 - val_accuracy: 0.9291\n",
      "Epoch 31/100\n",
      "48000/48000 [==============================] - 3s 68us/sample - loss: 0.0195 - accuracy: 0.9936 - val_loss: 0.0781 - val_accuracy: 0.9797\n",
      "Epoch 32/100\n",
      "48000/48000 [==============================] - 3s 67us/sample - loss: 0.0198 - accuracy: 0.9934 - val_loss: 0.0567 - val_accuracy: 0.9840\n",
      "Epoch 33/100\n",
      "48000/48000 [==============================] - 3s 67us/sample - loss: 0.0190 - accuracy: 0.9939 - val_loss: 0.0897 - val_accuracy: 0.9785\n",
      "Epoch 34/100\n",
      "48000/48000 [==============================] - 3s 68us/sample - loss: 0.0164 - accuracy: 0.9947 - val_loss: 0.1822 - val_accuracy: 0.9642\n",
      "Epoch 35/100\n",
      "48000/48000 [==============================] - 3s 71us/sample - loss: 0.0168 - accuracy: 0.9947 - val_loss: 0.0956 - val_accuracy: 0.9784\n",
      "Epoch 36/100\n",
      "48000/48000 [==============================] - 3s 71us/sample - loss: 0.0177 - accuracy: 0.9942 - val_loss: 0.2454 - val_accuracy: 0.9598\n",
      "Epoch 37/100\n",
      "48000/48000 [==============================] - 3s 68us/sample - loss: 0.0161 - accuracy: 0.9949 - val_loss: 0.0650 - val_accuracy: 0.9836\n",
      "Train on 48000 samples, validate on 12000 samples\n",
      "Epoch 1/100\n",
      "48000/48000 [==============================] - 5s 105us/sample - loss: 0.6567 - accuracy: 0.7989 - val_loss: 3.7106 - val_accuracy: 0.1327\n",
      "Epoch 2/100\n",
      "48000/48000 [==============================] - 4s 90us/sample - loss: 0.1982 - accuracy: 0.9405 - val_loss: 3.0931 - val_accuracy: 0.2237\n",
      "Epoch 3/100\n"
     ]
    },
    {
     "name": "stdout",
     "output_type": "stream",
     "text": [
      "48000/48000 [==============================] - 4s 90us/sample - loss: 0.1344 - accuracy: 0.9596 - val_loss: 1.2934 - val_accuracy: 0.5383\n",
      "Epoch 4/100\n",
      "48000/48000 [==============================] - 4s 88us/sample - loss: 0.1045 - accuracy: 0.9691 - val_loss: 0.5914 - val_accuracy: 0.8340\n",
      "Epoch 5/100\n",
      "48000/48000 [==============================] - 4s 89us/sample - loss: 0.0940 - accuracy: 0.9705 - val_loss: 0.3223 - val_accuracy: 0.9247\n",
      "Epoch 6/100\n",
      "48000/48000 [==============================] - 4s 90us/sample - loss: 0.0778 - accuracy: 0.9760 - val_loss: 0.2071 - val_accuracy: 0.9526\n",
      "Epoch 7/100\n",
      "48000/48000 [==============================] - 4s 90us/sample - loss: 0.0700 - accuracy: 0.9779 - val_loss: 0.1754 - val_accuracy: 0.9605\n",
      "Epoch 8/100\n",
      "48000/48000 [==============================] - 4s 84us/sample - loss: 0.0673 - accuracy: 0.9797 - val_loss: 0.1172 - val_accuracy: 0.9720\n",
      "Epoch 9/100\n",
      "48000/48000 [==============================] - 4s 84us/sample - loss: 0.0622 - accuracy: 0.9815 - val_loss: 0.1259 - val_accuracy: 0.9692\n",
      "Epoch 10/100\n",
      "48000/48000 [==============================] - 4s 84us/sample - loss: 0.0561 - accuracy: 0.9833 - val_loss: 0.1160 - val_accuracy: 0.9730\n",
      "Epoch 11/100\n",
      "48000/48000 [==============================] - 4s 84us/sample - loss: 0.0535 - accuracy: 0.9837 - val_loss: 0.1250 - val_accuracy: 0.9661\n",
      "Epoch 12/100\n",
      "48000/48000 [==============================] - 4s 84us/sample - loss: 0.0510 - accuracy: 0.9838 - val_loss: 0.1417 - val_accuracy: 0.9628\n",
      "Epoch 13/100\n",
      "48000/48000 [==============================] - 4s 84us/sample - loss: 0.0482 - accuracy: 0.9845 - val_loss: 0.1020 - val_accuracy: 0.9748\n",
      "Epoch 14/100\n",
      "48000/48000 [==============================] - 4s 85us/sample - loss: 0.0457 - accuracy: 0.9862 - val_loss: 0.1332 - val_accuracy: 0.9647\n",
      "Epoch 15/100\n",
      "48000/48000 [==============================] - 4s 84us/sample - loss: 0.0401 - accuracy: 0.9874 - val_loss: 0.1106 - val_accuracy: 0.9707\n",
      "Epoch 16/100\n",
      "48000/48000 [==============================] - 4s 84us/sample - loss: 0.0403 - accuracy: 0.9879 - val_loss: 0.1264 - val_accuracy: 0.9671\n",
      "Epoch 17/100\n",
      "48000/48000 [==============================] - 4s 84us/sample - loss: 0.0394 - accuracy: 0.9877 - val_loss: 0.0832 - val_accuracy: 0.9774\n",
      "Epoch 18/100\n",
      "48000/48000 [==============================] - 4s 84us/sample - loss: 0.0358 - accuracy: 0.9889 - val_loss: 0.0988 - val_accuracy: 0.9723\n",
      "Epoch 19/100\n",
      "48000/48000 [==============================] - 4s 84us/sample - loss: 0.0364 - accuracy: 0.9886 - val_loss: 0.0932 - val_accuracy: 0.9747\n",
      "Epoch 20/100\n",
      "48000/48000 [==============================] - 4s 84us/sample - loss: 0.0375 - accuracy: 0.9875 - val_loss: 0.2015 - val_accuracy: 0.9393\n",
      "Epoch 21/100\n",
      "48000/48000 [==============================] - 4s 84us/sample - loss: 0.0345 - accuracy: 0.9889 - val_loss: 0.2957 - val_accuracy: 0.9217\n",
      "Epoch 22/100\n",
      "48000/48000 [==============================] - 4s 84us/sample - loss: 0.0325 - accuracy: 0.9895 - val_loss: 0.2740 - val_accuracy: 0.9333\n",
      "Epoch 23/100\n",
      "48000/48000 [==============================] - 4s 87us/sample - loss: 0.0321 - accuracy: 0.9900 - val_loss: 0.2217 - val_accuracy: 0.9376\n",
      "Epoch 24/100\n",
      "48000/48000 [==============================] - 4s 86us/sample - loss: 0.0316 - accuracy: 0.9899 - val_loss: 0.2205 - val_accuracy: 0.9378\n",
      "Epoch 25/100\n",
      "48000/48000 [==============================] - 4s 86us/sample - loss: 0.0299 - accuracy: 0.9903 - val_loss: 0.3498 - val_accuracy: 0.9089\n",
      "Epoch 26/100\n",
      "48000/48000 [==============================] - 4s 86us/sample - loss: 0.0289 - accuracy: 0.9909 - val_loss: 0.1727 - val_accuracy: 0.9503\n",
      "Epoch 27/100\n",
      "48000/48000 [==============================] - 4s 86us/sample - loss: 0.0271 - accuracy: 0.9913 - val_loss: 0.3334 - val_accuracy: 0.9180\n"
     ]
    }
   ],
   "source": [
    "tf.keras.backend.clear_session()\n",
    "opening_closing_model_1_results = opening_closing_model_1.fit(train_opening_closing,\n",
    "                                        y_train, \n",
    "                                        batch_size = batch_size, \n",
    "                                        epochs = epochs, \n",
    "                                        shuffle = shuffle,\n",
    "                                        callbacks = callbacks,\n",
    "                                        validation_data = (val_opening_closing, y_val))\n",
    "\n",
    "tf.keras.backend.clear_session()\n",
    "opening_closing_model_2_results = opening_closing_model_2.fit(train_opening_closing,\n",
    "                                        y_train, \n",
    "                                        batch_size = batch_size, \n",
    "                                        epochs = epochs, \n",
    "                                        shuffle = shuffle,\n",
    "                                        callbacks = callbacks,\n",
    "                                        validation_data = (val_opening_closing, y_val))\n",
    "\n",
    "tf.keras.backend.clear_session()\n",
    "opening_closing_model_3_results = opening_closing_model_3.fit(train_opening_closing,\n",
    "                                        y_train, \n",
    "                                        batch_size = batch_size, \n",
    "                                        epochs = epochs, \n",
    "                                        shuffle = shuffle,\n",
    "                                        callbacks = callbacks,\n",
    "                                        validation_data = (val_opening_closing, y_val))"
   ]
  },
  {
   "cell_type": "markdown",
   "metadata": {},
   "source": [
    "## Gather results for opening & closing models:"
   ]
  },
  {
   "cell_type": "code",
   "execution_count": 36,
   "metadata": {
    "ExecuteTime": {
     "end_time": "2020-11-22T15:20:42.786258Z",
     "start_time": "2020-11-22T15:20:42.768307Z"
    },
    "scrolled": true
   },
   "outputs": [
    {
     "data": {
      "text/html": [
       "<div>\n",
       "<style scoped>\n",
       "    .dataframe tbody tr th:only-of-type {\n",
       "        vertical-align: middle;\n",
       "    }\n",
       "\n",
       "    .dataframe tbody tr th {\n",
       "        vertical-align: top;\n",
       "    }\n",
       "\n",
       "    .dataframe thead th {\n",
       "        text-align: right;\n",
       "    }\n",
       "</style>\n",
       "<table border=\"1\" class=\"dataframe\">\n",
       "  <thead>\n",
       "    <tr style=\"text-align: right;\">\n",
       "      <th></th>\n",
       "      <th>loss</th>\n",
       "      <th>accuracy</th>\n",
       "      <th>val_loss</th>\n",
       "      <th>val_accuracy</th>\n",
       "      <th>model</th>\n",
       "      <th>epoch</th>\n",
       "    </tr>\n",
       "  </thead>\n",
       "  <tbody>\n",
       "    <tr>\n",
       "      <th>0</th>\n",
       "      <td>0.337536</td>\n",
       "      <td>0.897125</td>\n",
       "      <td>0.089411</td>\n",
       "      <td>0.974500</td>\n",
       "      <td>opening_closing_model_1</td>\n",
       "      <td>1</td>\n",
       "    </tr>\n",
       "    <tr>\n",
       "      <th>1</th>\n",
       "      <td>0.074393</td>\n",
       "      <td>0.977271</td>\n",
       "      <td>0.060089</td>\n",
       "      <td>0.981750</td>\n",
       "      <td>opening_closing_model_1</td>\n",
       "      <td>2</td>\n",
       "    </tr>\n",
       "    <tr>\n",
       "      <th>2</th>\n",
       "      <td>0.045053</td>\n",
       "      <td>0.985646</td>\n",
       "      <td>0.051582</td>\n",
       "      <td>0.984667</td>\n",
       "      <td>opening_closing_model_1</td>\n",
       "      <td>3</td>\n",
       "    </tr>\n",
       "    <tr>\n",
       "      <th>3</th>\n",
       "      <td>0.032033</td>\n",
       "      <td>0.990146</td>\n",
       "      <td>0.043184</td>\n",
       "      <td>0.987000</td>\n",
       "      <td>opening_closing_model_1</td>\n",
       "      <td>4</td>\n",
       "    </tr>\n",
       "    <tr>\n",
       "      <th>4</th>\n",
       "      <td>0.022380</td>\n",
       "      <td>0.993187</td>\n",
       "      <td>0.049745</td>\n",
       "      <td>0.985667</td>\n",
       "      <td>opening_closing_model_1</td>\n",
       "      <td>5</td>\n",
       "    </tr>\n",
       "    <tr>\n",
       "      <th>...</th>\n",
       "      <td>...</td>\n",
       "      <td>...</td>\n",
       "      <td>...</td>\n",
       "      <td>...</td>\n",
       "      <td>...</td>\n",
       "      <td>...</td>\n",
       "    </tr>\n",
       "    <tr>\n",
       "      <th>22</th>\n",
       "      <td>0.032062</td>\n",
       "      <td>0.989979</td>\n",
       "      <td>0.221660</td>\n",
       "      <td>0.937583</td>\n",
       "      <td>opening_closing_model_3</td>\n",
       "      <td>23</td>\n",
       "    </tr>\n",
       "    <tr>\n",
       "      <th>23</th>\n",
       "      <td>0.031584</td>\n",
       "      <td>0.989917</td>\n",
       "      <td>0.220489</td>\n",
       "      <td>0.937833</td>\n",
       "      <td>opening_closing_model_3</td>\n",
       "      <td>24</td>\n",
       "    </tr>\n",
       "    <tr>\n",
       "      <th>24</th>\n",
       "      <td>0.029899</td>\n",
       "      <td>0.990313</td>\n",
       "      <td>0.349761</td>\n",
       "      <td>0.908917</td>\n",
       "      <td>opening_closing_model_3</td>\n",
       "      <td>25</td>\n",
       "    </tr>\n",
       "    <tr>\n",
       "      <th>25</th>\n",
       "      <td>0.028864</td>\n",
       "      <td>0.990937</td>\n",
       "      <td>0.172716</td>\n",
       "      <td>0.950333</td>\n",
       "      <td>opening_closing_model_3</td>\n",
       "      <td>26</td>\n",
       "    </tr>\n",
       "    <tr>\n",
       "      <th>26</th>\n",
       "      <td>0.027096</td>\n",
       "      <td>0.991292</td>\n",
       "      <td>0.333395</td>\n",
       "      <td>0.918000</td>\n",
       "      <td>opening_closing_model_3</td>\n",
       "      <td>27</td>\n",
       "    </tr>\n",
       "  </tbody>\n",
       "</table>\n",
       "<p>78 rows × 6 columns</p>\n",
       "</div>"
      ],
      "text/plain": [
       "        loss  accuracy  val_loss  val_accuracy                    model  epoch\n",
       "0   0.337536  0.897125  0.089411      0.974500  opening_closing_model_1      1\n",
       "1   0.074393  0.977271  0.060089      0.981750  opening_closing_model_1      2\n",
       "2   0.045053  0.985646  0.051582      0.984667  opening_closing_model_1      3\n",
       "3   0.032033  0.990146  0.043184      0.987000  opening_closing_model_1      4\n",
       "4   0.022380  0.993187  0.049745      0.985667  opening_closing_model_1      5\n",
       "..       ...       ...       ...           ...                      ...    ...\n",
       "22  0.032062  0.989979  0.221660      0.937583  opening_closing_model_3     23\n",
       "23  0.031584  0.989917  0.220489      0.937833  opening_closing_model_3     24\n",
       "24  0.029899  0.990313  0.349761      0.908917  opening_closing_model_3     25\n",
       "25  0.028864  0.990937  0.172716      0.950333  opening_closing_model_3     26\n",
       "26  0.027096  0.991292  0.333395      0.918000  opening_closing_model_3     27\n",
       "\n",
       "[78 rows x 6 columns]"
      ]
     },
     "execution_count": 36,
     "metadata": {},
     "output_type": "execute_result"
    }
   ],
   "source": [
    "opening_closing_model_1_results_pd = pd.DataFrame(opening_closing_model_1_results.history)\n",
    "opening_closing_model_1_results_pd[\"model\"] = \"opening_closing_model_1\"\n",
    "opening_closing_model_1_results_pd[\"epoch\"] = np.array(opening_closing_model_1_results.epoch) + 1\n",
    "\n",
    "opening_closing_model_2_results_pd = pd.DataFrame(opening_closing_model_2_results.history)\n",
    "opening_closing_model_2_results_pd[\"model\"] = \"opening_closing_model_2\"\n",
    "opening_closing_model_2_results_pd[\"epoch\"] = np.array(opening_closing_model_2_results.epoch) + 1\n",
    "\n",
    "opening_closing_model_3_results_pd = pd.DataFrame(opening_closing_model_3_results.history)\n",
    "opening_closing_model_3_results_pd[\"model\"] = \"opening_closing_model_3\"\n",
    "opening_closing_model_3_results_pd[\"epoch\"] = np.array(opening_closing_model_3_results.epoch) + 1\n",
    "\n",
    "opening_closing_models_results = pd.concat([opening_closing_model_1_results_pd,\n",
    "                                            opening_closing_model_2_results_pd, \n",
    "                                            opening_closing_model_3_results_pd])\n",
    "opening_closing_models_results"
   ]
  },
  {
   "cell_type": "markdown",
   "metadata": {},
   "source": [
    "## Calculate accuracy for opening & closing models:"
   ]
  },
  {
   "cell_type": "code",
   "execution_count": 37,
   "metadata": {
    "ExecuteTime": {
     "end_time": "2020-11-22T15:21:03.518824Z",
     "start_time": "2020-11-22T15:20:43.663913Z"
    }
   },
   "outputs": [
    {
     "name": "stdout",
     "output_type": "stream",
     "text": [
      "48000/48000 [==============================] - 4s 83us/sample - loss: 0.0022 - accuracy: 0.9994\n",
      "12000/12000 [==============================] - 1s 88us/sample - loss: 0.0537 - accuracy: 0.9873\n",
      "10000/10000 [==============================] - 1s 84us/sample - loss: 0.0430 - accuracy: 0.9889\n",
      "48000/48000 [==============================] - 4s 93us/sample - loss: 0.0280 - accuracy: 0.9921\n",
      "12000/12000 [==============================] - 1s 116us/sample - loss: 0.0650 - accuracy: 0.9836\n",
      "10000/10000 [==============================] - 1s 84us/sample - loss: 0.0545 - accuracy: 0.9843\n",
      "48000/48000 [==============================] - 5s 106us/sample - loss: 0.3306 - accuracy: 0.9197\n",
      "12000/12000 [==============================] - 1s 86us/sample - loss: 0.3334 - accuracy: 0.9180\n",
      "10000/10000 [==============================] - 1s 97us/sample - loss: 0.3461 - accuracy: 0.9142\n"
     ]
    }
   ],
   "source": [
    "opening_closing_model_1_train_accuracy = opening_closing_model_1.evaluate(train_opening_closing, y_train)[1]\n",
    "opening_closing_model_1_validation_accuracy = opening_closing_model_1.evaluate(val_opening_closing, y_val)[1]\n",
    "opening_closing_model_1_test_accuracy = opening_closing_model_1.evaluate(test_opening_closing, y_test)[1]\n",
    "\n",
    "opening_closing_model_2_train_accuracy = opening_closing_model_2.evaluate(train_opening_closing, y_train)[1]\n",
    "opening_closing_model_2_validation_accuracy = opening_closing_model_2.evaluate(val_opening_closing, y_val)[1]\n",
    "opening_closing_model_2_test_accuracy = opening_closing_model_2.evaluate(test_opening_closing, y_test)[1]\n",
    "\n",
    "opening_closing_model_3_train_accuracy = opening_closing_model_3.evaluate(train_opening_closing, y_train)[1]\n",
    "opening_closing_model_3_validation_accuracy = opening_closing_model_3.evaluate(val_opening_closing, y_val)[1]\n",
    "opening_closing_model_3_test_accuracy = opening_closing_model_3.evaluate(test_opening_closing, y_test)[1]"
   ]
  },
  {
   "cell_type": "markdown",
   "metadata": {},
   "source": [
    "# Dillatation & Erosion model:"
   ]
  },
  {
   "cell_type": "code",
   "execution_count": 38,
   "metadata": {
    "ExecuteTime": {
     "end_time": "2020-11-22T15:21:07.901140Z",
     "start_time": "2020-11-22T15:21:04.402462Z"
    }
   },
   "outputs": [
    {
     "name": "stdout",
     "output_type": "stream",
     "text": [
      "Train dillatation & erosion:\n",
      "(48000, 28, 28, 19)\n",
      "--------------------------\n",
      "Validation dillatation & erosion:\n",
      "(12000, 28, 28, 19)\n",
      "--------------------------\n",
      "Test dillatation & erosion:\n",
      "(10000, 28, 28, 19)\n",
      "--------------------------\n"
     ]
    }
   ],
   "source": [
    "print(\"Train dillatation & erosion:\")\n",
    "args = (train_dillatation_kernel_ellipse, train_dillatation_kernel_rect, train_dillatation_kernel_diamond,\n",
    "        x_train,\n",
    "        train_erosion_kernel_ellipse, train_erosion_kernel_rect, train_erosion_kernel_diamond)\n",
    "train_dillatation_erosion = np.concatenate(args, axis = -1)\n",
    "print(train_dillatation_erosion.shape)\n",
    "print(\"--------------------------\")\n",
    "\n",
    "print(\"Validation dillatation & erosion:\")\n",
    "args = (val_dillatation_kernel_ellipse, val_dillatation_kernel_rect, val_dillatation_kernel_diamond,\n",
    "        x_val,\n",
    "        val_erosion_kernel_ellipse, val_erosion_kernel_rect, val_erosion_kernel_diamond)\n",
    "val_dillatation_erosion = np.concatenate(args, axis = -1)\n",
    "print(val_dillatation_erosion.shape)\n",
    "print(\"--------------------------\")\n",
    "\n",
    "print(\"Test dillatation & erosion:\")\n",
    "args = (test_dillatation_kernel_ellipse, test_dillatation_kernel_rect, test_dillatation_kernel_diamond,\n",
    "        x_test,\n",
    "        test_erosion_kernel_ellipse, test_erosion_kernel_rect, test_erosion_kernel_diamond)\n",
    "test_dillatation_erosion = np.concatenate(args, axis = -1)\n",
    "print(test_dillatation_erosion.shape)\n",
    "print(\"--------------------------\")"
   ]
  },
  {
   "cell_type": "markdown",
   "metadata": {},
   "source": [
    "## Build dillatation & closing models:"
   ]
  },
  {
   "cell_type": "code",
   "execution_count": 39,
   "metadata": {
    "ExecuteTime": {
     "end_time": "2020-11-22T15:21:09.295708Z",
     "start_time": "2020-11-22T15:21:08.876829Z"
    }
   },
   "outputs": [
    {
     "name": "stdout",
     "output_type": "stream",
     "text": [
      "Model: \"model_1\"\n",
      "_________________________________________________________________\n",
      "Layer (type)                 Output Shape              Param #   \n",
      "=================================================================\n",
      "input_1 (InputLayer)         [(None, 28, 28, 19)]      0         \n",
      "_________________________________________________________________\n",
      "conv2d (Conv2D)              (None, 28, 28, 32)        5504      \n",
      "_________________________________________________________________\n",
      "conv2d_1 (Conv2D)            (None, 28, 28, 32)        9248      \n",
      "_________________________________________________________________\n",
      "max_pooling2d (MaxPooling2D) (None, 14, 14, 32)        0         \n",
      "_________________________________________________________________\n",
      "flatten (Flatten)            (None, 6272)              0         \n",
      "_________________________________________________________________\n",
      "dense (Dense)                (None, 128)               802944    \n",
      "_________________________________________________________________\n",
      "dense_1 (Dense)              (None, 10)                1290      \n",
      "=================================================================\n",
      "Total params: 818,986\n",
      "Trainable params: 818,986\n",
      "Non-trainable params: 0\n",
      "_________________________________________________________________\n",
      "\n",
      "\n",
      "Model: \"model_2\"\n",
      "_________________________________________________________________\n",
      "Layer (type)                 Output Shape              Param #   \n",
      "=================================================================\n",
      "input_1 (InputLayer)         [(None, 28, 28, 19)]      0         \n",
      "_________________________________________________________________\n",
      "conv2d (Conv2D)              (None, 28, 28, 32)        5504      \n",
      "_________________________________________________________________\n",
      "batch_normalization (BatchNo (None, 28, 28, 32)        128       \n",
      "_________________________________________________________________\n",
      "dropout (Dropout)            (None, 28, 28, 32)        0         \n",
      "_________________________________________________________________\n",
      "conv2d_1 (Conv2D)            (None, 28, 28, 32)        9248      \n",
      "_________________________________________________________________\n",
      "batch_normalization_1 (Batch (None, 28, 28, 32)        128       \n",
      "_________________________________________________________________\n",
      "dropout_1 (Dropout)          (None, 28, 28, 32)        0         \n",
      "_________________________________________________________________\n",
      "max_pooling2d (MaxPooling2D) (None, 14, 14, 32)        0         \n",
      "_________________________________________________________________\n",
      "flatten (Flatten)            (None, 6272)              0         \n",
      "_________________________________________________________________\n",
      "dense (Dense)                (None, 128)               802944    \n",
      "_________________________________________________________________\n",
      "batch_normalization_2 (Batch (None, 128)               512       \n",
      "_________________________________________________________________\n",
      "dropout_2 (Dropout)          (None, 128)               0         \n",
      "_________________________________________________________________\n",
      "dense_1 (Dense)              (None, 10)                1290      \n",
      "=================================================================\n",
      "Total params: 819,754\n",
      "Trainable params: 819,370\n",
      "Non-trainable params: 384\n",
      "_________________________________________________________________\n",
      "\n",
      "\n",
      "Model: \"model_3\"\n",
      "_________________________________________________________________\n",
      "Layer (type)                 Output Shape              Param #   \n",
      "=================================================================\n",
      "input_1 (InputLayer)         [(None, 28, 28, 19)]      0         \n",
      "_________________________________________________________________\n",
      "conv2d (Conv2D)              (None, 28, 28, 32)        5504      \n",
      "_________________________________________________________________\n",
      "batch_normalization (BatchNo (None, 28, 28, 32)        128       \n",
      "_________________________________________________________________\n",
      "dropout (Dropout)            (None, 28, 28, 32)        0         \n",
      "_________________________________________________________________\n",
      "conv2d_1 (Conv2D)            (None, 28, 28, 32)        9248      \n",
      "_________________________________________________________________\n",
      "batch_normalization_1 (Batch (None, 28, 28, 32)        128       \n",
      "_________________________________________________________________\n",
      "dropout_1 (Dropout)          (None, 28, 28, 32)        0         \n",
      "_________________________________________________________________\n",
      "max_pooling2d (MaxPooling2D) (None, 14, 14, 32)        0         \n",
      "_________________________________________________________________\n",
      "conv2d_2 (Conv2D)            (None, 14, 14, 64)        18496     \n",
      "_________________________________________________________________\n",
      "batch_normalization_2 (Batch (None, 14, 14, 64)        256       \n",
      "_________________________________________________________________\n",
      "dropout_2 (Dropout)          (None, 14, 14, 64)        0         \n",
      "_________________________________________________________________\n",
      "conv2d_3 (Conv2D)            (None, 14, 14, 64)        36928     \n",
      "_________________________________________________________________\n",
      "batch_normalization_3 (Batch (None, 14, 14, 64)        256       \n",
      "_________________________________________________________________\n",
      "dropout_3 (Dropout)          (None, 14, 14, 64)        0         \n",
      "_________________________________________________________________\n",
      "max_pooling2d_1 (MaxPooling2 (None, 7, 7, 64)          0         \n",
      "_________________________________________________________________\n",
      "flatten (Flatten)            (None, 3136)              0         \n",
      "_________________________________________________________________\n",
      "dense (Dense)                (None, 128)               401536    \n",
      "_________________________________________________________________\n",
      "batch_normalization_4 (Batch (None, 128)               512       \n",
      "_________________________________________________________________\n",
      "dropout_4 (Dropout)          (None, 128)               0         \n",
      "_________________________________________________________________\n",
      "dense_1 (Dense)              (None, 10)                1290      \n",
      "=================================================================\n",
      "Total params: 474,282\n",
      "Trainable params: 473,642\n",
      "Non-trainable params: 640\n",
      "_________________________________________________________________\n",
      "\n",
      "\n"
     ]
    }
   ],
   "source": [
    "dillatation_erosion_model_1 = build_model_1(image_size = 28, channels = train_dillatation_erosion.shape[3], start_neurons = 32, dense_neurons = 128); dillatation_erosion_model_1.summary(); print(\"\\n\")\n",
    "dillatation_erosion_model_2 = build_model_2(image_size = 28, channels = val_dillatation_erosion.shape[3], start_neurons = 32, dense_neurons = 128); dillatation_erosion_model_2.summary(); print(\"\\n\")\n",
    "dillatation_erosion_model_3 = build_model_3(image_size = 28, channels = test_dillatation_erosion.shape[3], start_neurons = 32, dense_neurons = 128); dillatation_erosion_model_3.summary(); print(\"\\n\")"
   ]
  },
  {
   "cell_type": "markdown",
   "metadata": {},
   "source": [
    "## Compile dillatation & closing models:"
   ]
  },
  {
   "cell_type": "code",
   "execution_count": 40,
   "metadata": {
    "ExecuteTime": {
     "end_time": "2020-11-22T15:21:10.306008Z",
     "start_time": "2020-11-22T15:21:10.243175Z"
    }
   },
   "outputs": [],
   "source": [
    "dillatation_erosion_model_1.compile(optimizer = tf.keras.optimizers.Adam(),\n",
    "                          loss = tf.keras.losses.categorical_crossentropy,\n",
    "                          metrics = [\"accuracy\"])\n",
    "dillatation_erosion_model_2.compile(optimizer = tf.keras.optimizers.Adam(),\n",
    "                          loss = tf.keras.losses.categorical_crossentropy,\n",
    "                          metrics = [\"accuracy\"])\n",
    "dillatation_erosion_model_3.compile(optimizer = tf.keras.optimizers.Adam(),\n",
    "                          loss = tf.keras.losses.categorical_crossentropy,\n",
    "                          metrics = [\"accuracy\"])"
   ]
  },
  {
   "cell_type": "markdown",
   "metadata": {},
   "source": [
    "## Train dillatation & closing models:"
   ]
  },
  {
   "cell_type": "code",
   "execution_count": 41,
   "metadata": {
    "ExecuteTime": {
     "end_time": "2020-11-22T15:25:41.393508Z",
     "start_time": "2020-11-22T15:21:11.235523Z"
    },
    "scrolled": true
   },
   "outputs": [
    {
     "name": "stdout",
     "output_type": "stream",
     "text": [
      "Train on 48000 samples, validate on 12000 samples\n",
      "Epoch 1/100\n",
      "48000/48000 [==============================] - 3s 59us/sample - loss: 0.4198 - accuracy: 0.8705 - val_loss: 0.1552 - val_accuracy: 0.9524\n",
      "Epoch 2/100\n",
      "48000/48000 [==============================] - 3s 52us/sample - loss: 0.0994 - accuracy: 0.9700 - val_loss: 0.0710 - val_accuracy: 0.9780\n",
      "Epoch 3/100\n",
      "48000/48000 [==============================] - 3s 52us/sample - loss: 0.0640 - accuracy: 0.9804 - val_loss: 0.0595 - val_accuracy: 0.9822\n",
      "Epoch 4/100\n",
      "48000/48000 [==============================] - 3s 52us/sample - loss: 0.0443 - accuracy: 0.9866 - val_loss: 0.0507 - val_accuracy: 0.9846\n",
      "Epoch 5/100\n",
      "48000/48000 [==============================] - 3s 53us/sample - loss: 0.0377 - accuracy: 0.9880 - val_loss: 0.0514 - val_accuracy: 0.9844\n",
      "Epoch 6/100\n",
      "48000/48000 [==============================] - 3s 53us/sample - loss: 0.0289 - accuracy: 0.9911 - val_loss: 0.0471 - val_accuracy: 0.9863\n",
      "Epoch 7/100\n",
      "48000/48000 [==============================] - 3s 53us/sample - loss: 0.0238 - accuracy: 0.9921 - val_loss: 0.0409 - val_accuracy: 0.9872\n",
      "Epoch 8/100\n",
      "48000/48000 [==============================] - 3s 53us/sample - loss: 0.0187 - accuracy: 0.9939 - val_loss: 0.0426 - val_accuracy: 0.9880\n",
      "Epoch 9/100\n",
      "48000/48000 [==============================] - 3s 53us/sample - loss: 0.0160 - accuracy: 0.9947 - val_loss: 0.0438 - val_accuracy: 0.9872\n",
      "Epoch 10/100\n",
      "48000/48000 [==============================] - 3s 53us/sample - loss: 0.0133 - accuracy: 0.9958 - val_loss: 0.0457 - val_accuracy: 0.9870\n",
      "Epoch 11/100\n",
      "48000/48000 [==============================] - 3s 53us/sample - loss: 0.0143 - accuracy: 0.9953 - val_loss: 0.0556 - val_accuracy: 0.9852\n",
      "Epoch 12/100\n",
      "48000/48000 [==============================] - 3s 52us/sample - loss: 0.0096 - accuracy: 0.9972 - val_loss: 0.0471 - val_accuracy: 0.9871\n",
      "Epoch 13/100\n",
      "48000/48000 [==============================] - 3s 52us/sample - loss: 0.0079 - accuracy: 0.9971 - val_loss: 0.0486 - val_accuracy: 0.9873\n",
      "Epoch 14/100\n",
      "48000/48000 [==============================] - 3s 52us/sample - loss: 0.0058 - accuracy: 0.9980 - val_loss: 0.0470 - val_accuracy: 0.9881\n",
      "Epoch 15/100\n",
      "48000/48000 [==============================] - 3s 52us/sample - loss: 0.0043 - accuracy: 0.9987 - val_loss: 0.0513 - val_accuracy: 0.9877\n",
      "Epoch 16/100\n",
      "48000/48000 [==============================] - 3s 53us/sample - loss: 0.0049 - accuracy: 0.9983 - val_loss: 0.0502 - val_accuracy: 0.9881\n",
      "Epoch 17/100\n",
      "48000/48000 [==============================] - 3s 52us/sample - loss: 0.0089 - accuracy: 0.9972 - val_loss: 0.0519 - val_accuracy: 0.9846\n",
      "Train on 48000 samples, validate on 12000 samples\n",
      "Epoch 1/100\n",
      "48000/48000 [==============================] - 4s 78us/sample - loss: 0.4391 - accuracy: 0.8669 - val_loss: 2.9592 - val_accuracy: 0.2038\n",
      "Epoch 2/100\n",
      "48000/48000 [==============================] - 3s 67us/sample - loss: 0.1693 - accuracy: 0.9488 - val_loss: 6.1975 - val_accuracy: 0.1768\n",
      "Epoch 3/100\n",
      "48000/48000 [==============================] - 3s 67us/sample - loss: 0.1234 - accuracy: 0.9628 - val_loss: 9.2998 - val_accuracy: 0.1721\n",
      "Epoch 4/100\n",
      "48000/48000 [==============================] - 3s 67us/sample - loss: 0.0991 - accuracy: 0.9692 - val_loss: 3.9899 - val_accuracy: 0.3832\n",
      "Epoch 5/100\n",
      "48000/48000 [==============================] - 3s 67us/sample - loss: 0.0847 - accuracy: 0.9743 - val_loss: 2.7757 - val_accuracy: 0.5651\n",
      "Epoch 6/100\n",
      "48000/48000 [==============================] - 3s 67us/sample - loss: 0.0764 - accuracy: 0.9767 - val_loss: 1.8512 - val_accuracy: 0.7203\n",
      "Epoch 7/100\n",
      "48000/48000 [==============================] - 3s 67us/sample - loss: 0.0673 - accuracy: 0.9796 - val_loss: 0.6680 - val_accuracy: 0.8863\n",
      "Epoch 8/100\n",
      "48000/48000 [==============================] - 3s 67us/sample - loss: 0.0641 - accuracy: 0.9803 - val_loss: 1.6717 - val_accuracy: 0.8084\n",
      "Epoch 9/100\n",
      "48000/48000 [==============================] - 3s 67us/sample - loss: 0.0549 - accuracy: 0.9834 - val_loss: 1.0788 - val_accuracy: 0.8572\n",
      "Epoch 10/100\n",
      "48000/48000 [==============================] - 3s 67us/sample - loss: 0.0536 - accuracy: 0.9829 - val_loss: 0.3366 - val_accuracy: 0.9413\n",
      "Epoch 11/100\n",
      "48000/48000 [==============================] - 3s 67us/sample - loss: 0.0479 - accuracy: 0.9849 - val_loss: 0.7095 - val_accuracy: 0.9014\n",
      "Epoch 12/100\n",
      "48000/48000 [==============================] - 3s 67us/sample - loss: 0.0462 - accuracy: 0.9852 - val_loss: 1.0209 - val_accuracy: 0.8738\n",
      "Epoch 13/100\n",
      "48000/48000 [==============================] - 3s 67us/sample - loss: 0.0442 - accuracy: 0.9860 - val_loss: 0.1024 - val_accuracy: 0.9704\n",
      "Epoch 14/100\n",
      "48000/48000 [==============================] - 3s 67us/sample - loss: 0.0414 - accuracy: 0.9867 - val_loss: 0.2125 - val_accuracy: 0.9517\n",
      "Epoch 15/100\n",
      "48000/48000 [==============================] - 3s 67us/sample - loss: 0.0398 - accuracy: 0.9869 - val_loss: 0.3486 - val_accuracy: 0.9363\n",
      "Epoch 16/100\n",
      "48000/48000 [==============================] - 3s 67us/sample - loss: 0.0379 - accuracy: 0.9875 - val_loss: 0.1380 - val_accuracy: 0.9670\n",
      "Epoch 17/100\n",
      "48000/48000 [==============================] - 3s 67us/sample - loss: 0.0363 - accuracy: 0.9884 - val_loss: 0.1443 - val_accuracy: 0.9657\n",
      "Epoch 18/100\n",
      "48000/48000 [==============================] - 3s 67us/sample - loss: 0.0359 - accuracy: 0.9888 - val_loss: 0.3440 - val_accuracy: 0.9448\n",
      "Epoch 19/100\n",
      "48000/48000 [==============================] - 3s 67us/sample - loss: 0.0327 - accuracy: 0.9896 - val_loss: 0.2137 - val_accuracy: 0.9584\n",
      "Epoch 20/100\n",
      "48000/48000 [==============================] - 3s 67us/sample - loss: 0.0325 - accuracy: 0.9893 - val_loss: 0.1565 - val_accuracy: 0.9657\n",
      "Epoch 21/100\n",
      "48000/48000 [==============================] - 3s 67us/sample - loss: 0.0295 - accuracy: 0.9905 - val_loss: 0.2622 - val_accuracy: 0.9474\n",
      "Epoch 22/100\n",
      "48000/48000 [==============================] - 3s 67us/sample - loss: 0.0288 - accuracy: 0.9900 - val_loss: 0.2878 - val_accuracy: 0.9506\n",
      "Epoch 23/100\n",
      "48000/48000 [==============================] - 3s 68us/sample - loss: 0.0266 - accuracy: 0.9918 - val_loss: 0.2944 - val_accuracy: 0.9442\n",
      "Train on 48000 samples, validate on 12000 samples\n",
      "Epoch 1/100\n",
      "48000/48000 [==============================] - 5s 103us/sample - loss: 0.7780 - accuracy: 0.7654 - val_loss: 4.1676 - val_accuracy: 0.1102\n",
      "Epoch 2/100\n",
      "48000/48000 [==============================] - 4s 86us/sample - loss: 0.2157 - accuracy: 0.9331 - val_loss: 2.9572 - val_accuracy: 0.1470\n",
      "Epoch 3/100\n",
      "48000/48000 [==============================] - 4s 86us/sample - loss: 0.1478 - accuracy: 0.9561 - val_loss: 1.6469 - val_accuracy: 0.5615\n",
      "Epoch 4/100\n",
      "48000/48000 [==============================] - 4s 86us/sample - loss: 0.1162 - accuracy: 0.9653 - val_loss: 1.1520 - val_accuracy: 0.6368\n",
      "Epoch 5/100\n",
      "48000/48000 [==============================] - 4s 86us/sample - loss: 0.0954 - accuracy: 0.9704 - val_loss: 0.5339 - val_accuracy: 0.8225\n",
      "Epoch 6/100\n",
      "48000/48000 [==============================] - 4s 87us/sample - loss: 0.0867 - accuracy: 0.9743 - val_loss: 0.3510 - val_accuracy: 0.8867\n",
      "Epoch 7/100\n",
      "48000/48000 [==============================] - 4s 87us/sample - loss: 0.0743 - accuracy: 0.9770 - val_loss: 0.2476 - val_accuracy: 0.9290\n",
      "Epoch 8/100\n",
      "48000/48000 [==============================] - 4s 89us/sample - loss: 0.0695 - accuracy: 0.9784 - val_loss: 0.2367 - val_accuracy: 0.9251\n",
      "Epoch 9/100\n",
      "48000/48000 [==============================] - 4s 87us/sample - loss: 0.0625 - accuracy: 0.9806 - val_loss: 0.4339 - val_accuracy: 0.8491\n",
      "Epoch 10/100\n",
      "48000/48000 [==============================] - 4s 86us/sample - loss: 0.0600 - accuracy: 0.9814 - val_loss: 0.1516 - val_accuracy: 0.9553\n",
      "Epoch 11/100\n",
      "48000/48000 [==============================] - 4s 87us/sample - loss: 0.0548 - accuracy: 0.9833 - val_loss: 0.2238 - val_accuracy: 0.9262\n",
      "Epoch 12/100\n",
      "48000/48000 [==============================] - 4s 87us/sample - loss: 0.0506 - accuracy: 0.9835 - val_loss: 0.1440 - val_accuracy: 0.9567\n",
      "Epoch 13/100\n",
      "48000/48000 [==============================] - 4s 85us/sample - loss: 0.0465 - accuracy: 0.9860 - val_loss: 0.1362 - val_accuracy: 0.9608\n",
      "Epoch 14/100\n"
     ]
    },
    {
     "name": "stdout",
     "output_type": "stream",
     "text": [
      "48000/48000 [==============================] - 4s 88us/sample - loss: 0.0465 - accuracy: 0.9856 - val_loss: 0.1540 - val_accuracy: 0.9532\n",
      "Epoch 15/100\n",
      "48000/48000 [==============================] - 4s 89us/sample - loss: 0.0439 - accuracy: 0.9860 - val_loss: 0.0832 - val_accuracy: 0.9777\n",
      "Epoch 16/100\n",
      "48000/48000 [==============================] - 4s 90us/sample - loss: 0.0418 - accuracy: 0.9869 - val_loss: 0.1803 - val_accuracy: 0.9443\n",
      "Epoch 17/100\n",
      "48000/48000 [==============================] - 4s 87us/sample - loss: 0.0407 - accuracy: 0.9874 - val_loss: 0.1115 - val_accuracy: 0.9675\n",
      "Epoch 18/100\n",
      "48000/48000 [==============================] - 4s 88us/sample - loss: 0.0378 - accuracy: 0.9883 - val_loss: 0.1756 - val_accuracy: 0.9443\n",
      "Epoch 19/100\n",
      "48000/48000 [==============================] - 4s 89us/sample - loss: 0.0372 - accuracy: 0.9885 - val_loss: 0.0807 - val_accuracy: 0.9755\n",
      "Epoch 20/100\n",
      "48000/48000 [==============================] - 4s 86us/sample - loss: 0.0369 - accuracy: 0.9883 - val_loss: 0.0796 - val_accuracy: 0.9748\n",
      "Epoch 21/100\n",
      "48000/48000 [==============================] - 4s 89us/sample - loss: 0.0343 - accuracy: 0.9897 - val_loss: 0.0704 - val_accuracy: 0.9791\n",
      "Epoch 22/100\n",
      "48000/48000 [==============================] - 4s 89us/sample - loss: 0.0339 - accuracy: 0.9890 - val_loss: 0.0779 - val_accuracy: 0.9777\n",
      "Epoch 23/100\n",
      "48000/48000 [==============================] - 4s 88us/sample - loss: 0.0309 - accuracy: 0.9900 - val_loss: 0.1039 - val_accuracy: 0.9682\n",
      "Epoch 24/100\n",
      "48000/48000 [==============================] - 4s 91us/sample - loss: 0.0304 - accuracy: 0.9902 - val_loss: 0.0710 - val_accuracy: 0.9793\n",
      "Epoch 25/100\n",
      "48000/48000 [==============================] - 4s 89us/sample - loss: 0.0314 - accuracy: 0.9902 - val_loss: 0.1065 - val_accuracy: 0.9662\n",
      "Epoch 26/100\n",
      "48000/48000 [==============================] - 4s 88us/sample - loss: 0.0284 - accuracy: 0.9911 - val_loss: 0.0586 - val_accuracy: 0.9821\n",
      "Epoch 27/100\n",
      "48000/48000 [==============================] - 4s 88us/sample - loss: 0.0289 - accuracy: 0.9906 - val_loss: 0.1420 - val_accuracy: 0.9528\n",
      "Epoch 28/100\n",
      "48000/48000 [==============================] - 4s 89us/sample - loss: 0.0295 - accuracy: 0.9900 - val_loss: 0.0730 - val_accuracy: 0.9787\n",
      "Epoch 29/100\n",
      "48000/48000 [==============================] - 4s 87us/sample - loss: 0.0281 - accuracy: 0.9912 - val_loss: 0.0728 - val_accuracy: 0.9799\n",
      "Epoch 30/100\n",
      "48000/48000 [==============================] - 4s 88us/sample - loss: 0.0284 - accuracy: 0.9910 - val_loss: 0.0695 - val_accuracy: 0.9794\n",
      "Epoch 31/100\n",
      "48000/48000 [==============================] - 4s 90us/sample - loss: 0.0243 - accuracy: 0.9923 - val_loss: 0.0823 - val_accuracy: 0.9762\n",
      "Epoch 32/100\n",
      "48000/48000 [==============================] - 4s 90us/sample - loss: 0.0250 - accuracy: 0.9919 - val_loss: 0.0990 - val_accuracy: 0.9696\n",
      "Epoch 33/100\n",
      "48000/48000 [==============================] - 4s 87us/sample - loss: 0.0240 - accuracy: 0.9920 - val_loss: 0.0757 - val_accuracy: 0.9772\n",
      "Epoch 34/100\n",
      "48000/48000 [==============================] - 4s 86us/sample - loss: 0.0230 - accuracy: 0.9931 - val_loss: 0.0817 - val_accuracy: 0.9753\n",
      "Epoch 35/100\n",
      "48000/48000 [==============================] - 4s 86us/sample - loss: 0.0233 - accuracy: 0.9923 - val_loss: 0.0672 - val_accuracy: 0.9797\n",
      "Epoch 36/100\n",
      "48000/48000 [==============================] - 4s 86us/sample - loss: 0.0240 - accuracy: 0.9924 - val_loss: 0.0623 - val_accuracy: 0.9808\n"
     ]
    }
   ],
   "source": [
    "tf.keras.backend.clear_session()\n",
    "dillatation_erosion_model_1_results = dillatation_erosion_model_1.fit(train_dillatation_erosion,\n",
    "                                        y_train, \n",
    "                                        batch_size = batch_size, \n",
    "                                        epochs = epochs, \n",
    "                                        shuffle = shuffle,\n",
    "                                        callbacks = callbacks,\n",
    "                                        validation_data = (val_dillatation_erosion, y_val))\n",
    "\n",
    "tf.keras.backend.clear_session()\n",
    "dillatation_erosion_model_2_results = dillatation_erosion_model_2.fit(train_dillatation_erosion,\n",
    "                                        y_train, \n",
    "                                        batch_size = batch_size, \n",
    "                                        epochs = epochs, \n",
    "                                        shuffle = shuffle,\n",
    "                                        callbacks = callbacks,\n",
    "                                        validation_data = (val_dillatation_erosion, y_val))\n",
    "\n",
    "tf.keras.backend.clear_session()\n",
    "dillatation_erosion_model_3_results = dillatation_erosion_model_3.fit(train_dillatation_erosion,\n",
    "                                        y_train, \n",
    "                                        batch_size = batch_size, \n",
    "                                        epochs = epochs, \n",
    "                                        shuffle = shuffle,\n",
    "                                        callbacks = callbacks,\n",
    "                                        validation_data = (val_dillatation_erosion, y_val))"
   ]
  },
  {
   "cell_type": "markdown",
   "metadata": {},
   "source": [
    "## Gather results for dillatation & closing models:"
   ]
  },
  {
   "cell_type": "code",
   "execution_count": 42,
   "metadata": {
    "ExecuteTime": {
     "end_time": "2020-11-22T15:25:42.362918Z",
     "start_time": "2020-11-22T15:25:42.338981Z"
    },
    "scrolled": true
   },
   "outputs": [
    {
     "data": {
      "text/html": [
       "<div>\n",
       "<style scoped>\n",
       "    .dataframe tbody tr th:only-of-type {\n",
       "        vertical-align: middle;\n",
       "    }\n",
       "\n",
       "    .dataframe tbody tr th {\n",
       "        vertical-align: top;\n",
       "    }\n",
       "\n",
       "    .dataframe thead th {\n",
       "        text-align: right;\n",
       "    }\n",
       "</style>\n",
       "<table border=\"1\" class=\"dataframe\">\n",
       "  <thead>\n",
       "    <tr style=\"text-align: right;\">\n",
       "      <th></th>\n",
       "      <th>loss</th>\n",
       "      <th>accuracy</th>\n",
       "      <th>val_loss</th>\n",
       "      <th>val_accuracy</th>\n",
       "      <th>model</th>\n",
       "      <th>epoch</th>\n",
       "    </tr>\n",
       "  </thead>\n",
       "  <tbody>\n",
       "    <tr>\n",
       "      <th>0</th>\n",
       "      <td>0.419817</td>\n",
       "      <td>0.870542</td>\n",
       "      <td>0.155222</td>\n",
       "      <td>0.952417</td>\n",
       "      <td>dillatation_erosion_model_1</td>\n",
       "      <td>1</td>\n",
       "    </tr>\n",
       "    <tr>\n",
       "      <th>1</th>\n",
       "      <td>0.099404</td>\n",
       "      <td>0.969979</td>\n",
       "      <td>0.070988</td>\n",
       "      <td>0.978000</td>\n",
       "      <td>dillatation_erosion_model_1</td>\n",
       "      <td>2</td>\n",
       "    </tr>\n",
       "    <tr>\n",
       "      <th>2</th>\n",
       "      <td>0.064038</td>\n",
       "      <td>0.980375</td>\n",
       "      <td>0.059503</td>\n",
       "      <td>0.982250</td>\n",
       "      <td>dillatation_erosion_model_1</td>\n",
       "      <td>3</td>\n",
       "    </tr>\n",
       "    <tr>\n",
       "      <th>3</th>\n",
       "      <td>0.044316</td>\n",
       "      <td>0.986625</td>\n",
       "      <td>0.050706</td>\n",
       "      <td>0.984583</td>\n",
       "      <td>dillatation_erosion_model_1</td>\n",
       "      <td>4</td>\n",
       "    </tr>\n",
       "    <tr>\n",
       "      <th>4</th>\n",
       "      <td>0.037739</td>\n",
       "      <td>0.988021</td>\n",
       "      <td>0.051363</td>\n",
       "      <td>0.984417</td>\n",
       "      <td>dillatation_erosion_model_1</td>\n",
       "      <td>5</td>\n",
       "    </tr>\n",
       "    <tr>\n",
       "      <th>...</th>\n",
       "      <td>...</td>\n",
       "      <td>...</td>\n",
       "      <td>...</td>\n",
       "      <td>...</td>\n",
       "      <td>...</td>\n",
       "      <td>...</td>\n",
       "    </tr>\n",
       "    <tr>\n",
       "      <th>31</th>\n",
       "      <td>0.024981</td>\n",
       "      <td>0.991875</td>\n",
       "      <td>0.099034</td>\n",
       "      <td>0.969583</td>\n",
       "      <td>dillatation_erosion_model_3</td>\n",
       "      <td>32</td>\n",
       "    </tr>\n",
       "    <tr>\n",
       "      <th>32</th>\n",
       "      <td>0.024048</td>\n",
       "      <td>0.992000</td>\n",
       "      <td>0.075712</td>\n",
       "      <td>0.977167</td>\n",
       "      <td>dillatation_erosion_model_3</td>\n",
       "      <td>33</td>\n",
       "    </tr>\n",
       "    <tr>\n",
       "      <th>33</th>\n",
       "      <td>0.022959</td>\n",
       "      <td>0.993146</td>\n",
       "      <td>0.081671</td>\n",
       "      <td>0.975333</td>\n",
       "      <td>dillatation_erosion_model_3</td>\n",
       "      <td>34</td>\n",
       "    </tr>\n",
       "    <tr>\n",
       "      <th>34</th>\n",
       "      <td>0.023277</td>\n",
       "      <td>0.992292</td>\n",
       "      <td>0.067159</td>\n",
       "      <td>0.979750</td>\n",
       "      <td>dillatation_erosion_model_3</td>\n",
       "      <td>35</td>\n",
       "    </tr>\n",
       "    <tr>\n",
       "      <th>35</th>\n",
       "      <td>0.024028</td>\n",
       "      <td>0.992437</td>\n",
       "      <td>0.062333</td>\n",
       "      <td>0.980833</td>\n",
       "      <td>dillatation_erosion_model_3</td>\n",
       "      <td>36</td>\n",
       "    </tr>\n",
       "  </tbody>\n",
       "</table>\n",
       "<p>76 rows × 6 columns</p>\n",
       "</div>"
      ],
      "text/plain": [
       "        loss  accuracy  val_loss  val_accuracy                        model  \\\n",
       "0   0.419817  0.870542  0.155222      0.952417  dillatation_erosion_model_1   \n",
       "1   0.099404  0.969979  0.070988      0.978000  dillatation_erosion_model_1   \n",
       "2   0.064038  0.980375  0.059503      0.982250  dillatation_erosion_model_1   \n",
       "3   0.044316  0.986625  0.050706      0.984583  dillatation_erosion_model_1   \n",
       "4   0.037739  0.988021  0.051363      0.984417  dillatation_erosion_model_1   \n",
       "..       ...       ...       ...           ...                          ...   \n",
       "31  0.024981  0.991875  0.099034      0.969583  dillatation_erosion_model_3   \n",
       "32  0.024048  0.992000  0.075712      0.977167  dillatation_erosion_model_3   \n",
       "33  0.022959  0.993146  0.081671      0.975333  dillatation_erosion_model_3   \n",
       "34  0.023277  0.992292  0.067159      0.979750  dillatation_erosion_model_3   \n",
       "35  0.024028  0.992437  0.062333      0.980833  dillatation_erosion_model_3   \n",
       "\n",
       "    epoch  \n",
       "0       1  \n",
       "1       2  \n",
       "2       3  \n",
       "3       4  \n",
       "4       5  \n",
       "..    ...  \n",
       "31     32  \n",
       "32     33  \n",
       "33     34  \n",
       "34     35  \n",
       "35     36  \n",
       "\n",
       "[76 rows x 6 columns]"
      ]
     },
     "execution_count": 42,
     "metadata": {},
     "output_type": "execute_result"
    }
   ],
   "source": [
    "dillatation_erosion_model_1_results_pd = pd.DataFrame(dillatation_erosion_model_1_results.history)\n",
    "dillatation_erosion_model_1_results_pd[\"model\"] = \"dillatation_erosion_model_1\"\n",
    "dillatation_erosion_model_1_results_pd[\"epoch\"] = np.array(dillatation_erosion_model_1_results.epoch) + 1\n",
    "\n",
    "dillatation_erosion_model_2_results_pd = pd.DataFrame(dillatation_erosion_model_2_results.history)\n",
    "dillatation_erosion_model_2_results_pd[\"model\"] = \"dillatation_erosion_model_2\"\n",
    "dillatation_erosion_model_2_results_pd[\"epoch\"] = np.array(dillatation_erosion_model_2_results.epoch) + 1\n",
    "\n",
    "dillatation_erosion_model_3_results_pd = pd.DataFrame(dillatation_erosion_model_3_results.history)\n",
    "dillatation_erosion_model_3_results_pd[\"model\"] = \"dillatation_erosion_model_3\"\n",
    "dillatation_erosion_model_3_results_pd[\"epoch\"] = np.array(dillatation_erosion_model_3_results.epoch) + 1\n",
    "\n",
    "dillatation_erosion_models_results = pd.concat([dillatation_erosion_model_1_results_pd,\n",
    "                                            dillatation_erosion_model_2_results_pd, \n",
    "                                            dillatation_erosion_model_3_results_pd])\n",
    "dillatation_erosion_models_results"
   ]
  },
  {
   "cell_type": "markdown",
   "metadata": {},
   "source": [
    "## Calculate accuracy for dillataion & erosion models:"
   ]
  },
  {
   "cell_type": "code",
   "execution_count": 43,
   "metadata": {
    "ExecuteTime": {
     "end_time": "2020-11-22T15:26:08.085139Z",
     "start_time": "2020-11-22T15:25:43.343295Z"
    }
   },
   "outputs": [
    {
     "name": "stdout",
     "output_type": "stream",
     "text": [
      "48000/48000 [==============================] - 4s 88us/sample - loss: 0.0134 - accuracy: 0.9954\n",
      "12000/12000 [==============================] - 1s 81us/sample - loss: 0.0519 - accuracy: 0.9846\n",
      "10000/10000 [==============================] - 1s 88us/sample - loss: 0.0661 - accuracy: 0.9823\n",
      "48000/48000 [==============================] - 7s 150us/sample - loss: 0.2562 - accuracy: 0.9531\n",
      "12000/12000 [==============================] - 3s 222us/sample - loss: 0.2944 - accuracy: 0.9442\n",
      "10000/10000 [==============================] - 1s 83us/sample - loss: 0.2832 - accuracy: 0.9467\n",
      "48000/48000 [==============================] - 6s 118us/sample - loss: 0.0481 - accuracy: 0.9844\n",
      "12000/12000 [==============================] - 1s 96us/sample - loss: 0.0623 - accuracy: 0.9808\n",
      "10000/10000 [==============================] - 1s 102us/sample - loss: 0.0508 - accuracy: 0.9851\n"
     ]
    }
   ],
   "source": [
    "dillatation_erosion_model_1_train_accuracy = dillatation_erosion_model_1.evaluate(train_dillatation_erosion, y_train)[1]\n",
    "dillatation_erosion_model_1_validation_accuracy = dillatation_erosion_model_1.evaluate(val_dillatation_erosion, y_val)[1]\n",
    "dillatation_erosion_model_1_test_accuracy = dillatation_erosion_model_1.evaluate(test_dillatation_erosion, y_test)[1]\n",
    "\n",
    "dillatation_erosion_model_2_train_accuracy = dillatation_erosion_model_2.evaluate(train_dillatation_erosion, y_train)[1]\n",
    "dillatation_erosion_model_2_validation_accuracy = dillatation_erosion_model_2.evaluate(val_dillatation_erosion, y_val)[1]\n",
    "dillatation_erosion_model_2_test_accuracy = dillatation_erosion_model_2.evaluate(test_dillatation_erosion, y_test)[1]\n",
    "\n",
    "dillatation_erosion_model_3_train_accuracy = dillatation_erosion_model_3.evaluate(train_dillatation_erosion, y_train)[1]\n",
    "dillatation_erosion_model_3_validation_accuracy = dillatation_erosion_model_3.evaluate(val_dillatation_erosion, y_val)[1]\n",
    "dillatation_erosion_model_3_test_accuracy = dillatation_erosion_model_3.evaluate(test_dillatation_erosion, y_test)[1]"
   ]
  },
  {
   "cell_type": "markdown",
   "metadata": {},
   "source": [
    "# Summary:"
   ]
  },
  {
   "cell_type": "code",
   "execution_count": 85,
   "metadata": {
    "ExecuteTime": {
     "end_time": "2020-11-22T16:06:43.336827Z",
     "start_time": "2020-11-22T16:06:43.120379Z"
    }
   },
   "outputs": [
    {
     "name": "stdout",
     "output_type": "stream",
     "text": [
      "Epochs per model and input:\n",
      "                         model  size\n",
      "3      opening_closing_model_1    14\n",
      "0  dillatation_erosion_model_1    17\n",
      "6            reference_model_1    18\n",
      "1  dillatation_erosion_model_2    23\n",
      "5      opening_closing_model_3    27\n",
      "8            reference_model_3    35\n",
      "2  dillatation_erosion_model_3    36\n",
      "4      opening_closing_model_2    37\n",
      "7            reference_model_2    47\n",
      "\n",
      "\n",
      "Average epochs per input\n",
      "                        type       size\n",
      "0  dillatation_erosion_model  25.333333\n",
      "1      opening_closing_model  26.000000\n",
      "2            reference_model  33.333333\n"
     ]
    },
    {
     "data": {
      "text/plain": [
       "<AxesSubplot:xlabel='epoch', ylabel='val_accuracy'>"
      ]
     },
     "execution_count": 85,
     "metadata": {},
     "output_type": "execute_result"
    },
    {
     "data": {
      "image/png": "[encoded data removed]",
      "text/plain": [
       "<Figure size 432x288 with 1 Axes>"
      ]
     },
     "metadata": {
      "needs_background": "light"
     },
     "output_type": "display_data"
    }
   ],
   "source": [
    "all_results = pd.concat([reference_models_results, dillatation_erosion_models_results, opening_closing_models_results])\n",
    "\n",
    "# Epochs - time of learning:\n",
    "print(\"Epochs per model and input:\")\n",
    "results_1 = all_results.groupby(\"model\", as_index = False).size().sort_values(by = \"size\")\n",
    "print(results_1)\n",
    "\n",
    "print(\"\\n\")\n",
    "print(\"Average epochs per input\")\n",
    "results_1[\"type\"] = results_1[\"model\"].apply(lambda x: x[:-2])\n",
    "results_1 = results_1.groupby(\"type\", as_index = False)[\"size\"].mean().sort_values(by = \"size\")\n",
    "print(results_1)\n",
    "\n",
    "sns.lineplot(x=\"epoch\", y=\"val_accuracy\", hue = \"model\", data = all_results)"
   ]
  },
  {
   "cell_type": "code",
   "execution_count": 89,
   "metadata": {
    "ExecuteTime": {
     "end_time": "2020-11-22T16:10:18.897897Z",
     "start_time": "2020-11-22T16:10:18.887897Z"
    }
   },
   "outputs": [
    {
     "data": {
      "text/html": [
       "<div>\n",
       "<style scoped>\n",
       "    .dataframe tbody tr th:only-of-type {\n",
       "        vertical-align: middle;\n",
       "    }\n",
       "\n",
       "    .dataframe tbody tr th {\n",
       "        vertical-align: top;\n",
       "    }\n",
       "\n",
       "    .dataframe thead th {\n",
       "        text-align: right;\n",
       "    }\n",
       "</style>\n",
       "<table border=\"1\" class=\"dataframe\">\n",
       "  <thead>\n",
       "    <tr style=\"text-align: right;\">\n",
       "      <th></th>\n",
       "      <th>train</th>\n",
       "      <th>validation</th>\n",
       "      <th>test</th>\n",
       "      <th>model</th>\n",
       "    </tr>\n",
       "  </thead>\n",
       "  <tbody>\n",
       "    <tr>\n",
       "      <th>2</th>\n",
       "      <td>0.994187</td>\n",
       "      <td>0.991500</td>\n",
       "      <td>0.9906</td>\n",
       "      <td>reference_model_3</td>\n",
       "    </tr>\n",
       "    <tr>\n",
       "      <th>0</th>\n",
       "      <td>0.999708</td>\n",
       "      <td>0.988583</td>\n",
       "      <td>0.9891</td>\n",
       "      <td>reference_model_1</td>\n",
       "    </tr>\n",
       "    <tr>\n",
       "      <th>3</th>\n",
       "      <td>0.999396</td>\n",
       "      <td>0.987333</td>\n",
       "      <td>0.9889</td>\n",
       "      <td>opening_closing_model_1</td>\n",
       "    </tr>\n",
       "    <tr>\n",
       "      <th>8</th>\n",
       "      <td>0.984354</td>\n",
       "      <td>0.980833</td>\n",
       "      <td>0.9851</td>\n",
       "      <td>dillatation_erosion_model_3</td>\n",
       "    </tr>\n",
       "    <tr>\n",
       "      <th>4</th>\n",
       "      <td>0.992063</td>\n",
       "      <td>0.983583</td>\n",
       "      <td>0.9843</td>\n",
       "      <td>opening_closing_model_2</td>\n",
       "    </tr>\n",
       "    <tr>\n",
       "      <th>6</th>\n",
       "      <td>0.995417</td>\n",
       "      <td>0.984583</td>\n",
       "      <td>0.9823</td>\n",
       "      <td>dillatation_erosion_model_1</td>\n",
       "    </tr>\n",
       "    <tr>\n",
       "      <th>1</th>\n",
       "      <td>0.986500</td>\n",
       "      <td>0.978167</td>\n",
       "      <td>0.9786</td>\n",
       "      <td>reference_model_2</td>\n",
       "    </tr>\n",
       "    <tr>\n",
       "      <th>7</th>\n",
       "      <td>0.953146</td>\n",
       "      <td>0.944250</td>\n",
       "      <td>0.9467</td>\n",
       "      <td>dillatation_erosion_model_2</td>\n",
       "    </tr>\n",
       "    <tr>\n",
       "      <th>5</th>\n",
       "      <td>0.919667</td>\n",
       "      <td>0.918000</td>\n",
       "      <td>0.9142</td>\n",
       "      <td>opening_closing_model_3</td>\n",
       "    </tr>\n",
       "  </tbody>\n",
       "</table>\n",
       "</div>"
      ],
      "text/plain": [
       "      train  validation    test                        model\n",
       "2  0.994187    0.991500  0.9906            reference_model_3\n",
       "0  0.999708    0.988583  0.9891            reference_model_1\n",
       "3  0.999396    0.987333  0.9889      opening_closing_model_1\n",
       "8  0.984354    0.980833  0.9851  dillatation_erosion_model_3\n",
       "4  0.992063    0.983583  0.9843      opening_closing_model_2\n",
       "6  0.995417    0.984583  0.9823  dillatation_erosion_model_1\n",
       "1  0.986500    0.978167  0.9786            reference_model_2\n",
       "7  0.953146    0.944250  0.9467  dillatation_erosion_model_2\n",
       "5  0.919667    0.918000  0.9142      opening_closing_model_3"
      ]
     },
     "execution_count": 89,
     "metadata": {},
     "output_type": "execute_result"
    }
   ],
   "source": [
    "final_results = pd.DataFrame({\"train\" : [reference_model_1_train_accuracy, reference_model_2_train_accuracy, reference_model_3_train_accuracy,\n",
    "                         opening_closing_model_1_train_accuracy, opening_closing_model_2_train_accuracy, opening_closing_model_3_train_accuracy,\n",
    "                         dillatation_erosion_model_1_train_accuracy, dillatation_erosion_model_2_train_accuracy, dillatation_erosion_model_3_train_accuracy],\n",
    "              \"validation\" : [reference_model_1_validation_accuracy, reference_model_2_validation_accuracy, reference_model_3_validation_accuracy,\n",
    "                              opening_closing_model_1_validation_accuracy, opening_closing_model_2_validation_accuracy, opening_closing_model_3_validation_accuracy,\n",
    "                              dillatation_erosion_model_1_validation_accuracy, dillatation_erosion_model_2_validation_accuracy, dillatation_erosion_model_3_validation_accuracy],\n",
    "              \"test\" : [reference_model_1_test_accuracy, reference_model_2_test_accuracy, reference_model_3_test_accuracy,\n",
    "                        opening_closing_model_1_test_accuracy, opening_closing_model_2_test_accuracy, opening_closing_model_3_test_accuracy,\n",
    "                        dillatation_erosion_model_1_test_accuracy, dillatation_erosion_model_2_test_accuracy, dillatation_erosion_model_3_test_accuracy],\n",
    "              \"model\" : [\"reference_model_1\", \"reference_model_2\", \"reference_model_3\",\n",
    "                         \"opening_closing_model_1\", \"opening_closing_model_2\", \"opening_closing_model_3\",\n",
    "                         \"dillatation_erosion_model_1\", \"dillatation_erosion_model_2\", \"dillatation_erosion_model_3\"]})\n",
    "final_results.sort_values(by = \"test\", ascending = False)"
   ]
  }
 ],
 "metadata": {
  "kernelspec": {
   "display_name": "GPU_ML_2",
   "language": "python",
   "name": "gpu_ml_2"
  },
  "language_info": {
   "codemirror_mode": {
    "name": "ipython",
    "version": 3
   },
   "file_extension": ".py",
   "mimetype": "text/x-python",
   "name": "python",
   "nbconvert_exporter": "python",
   "pygments_lexer": "ipython3",
   "version": "3.6.11"
  },
  "toc": {
   "base_numbering": 1,
   "nav_menu": {},
   "number_sections": true,
   "sideBar": true,
   "skip_h1_title": false,
   "title_cell": "Table of Contents",
   "title_sidebar": "Contents",
   "toc_cell": false,
   "toc_position": {},
   "toc_section_display": true,
   "toc_window_display": false
  },
  "varInspector": {
   "cols": {
    "lenName": 16,
    "lenType": 16,
    "lenVar": 40
   },
   "kernels_config": {
    "python": {
     "delete_cmd_postfix": "",
     "delete_cmd_prefix": "del ",
     "library": "var_list.py",
     "varRefreshCmd": "print(var_dic_list())"
    },
    "r": {
     "delete_cmd_postfix": ") ",
     "delete_cmd_prefix": "rm(",
     "library": "var_list.r",
     "varRefreshCmd": "cat(var_dic_list()) "
    }
   },
   "types_to_exclude": [
    "module",
    "function",
    "builtin_function_or_method",
    "instance",
    "_Feature"
   ],
   "window_display": false
  }
 },
 "nbformat": 4,
 "nbformat_minor": 4
}
